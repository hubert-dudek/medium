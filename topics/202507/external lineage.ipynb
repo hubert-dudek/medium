{
 "cells": [
  {
   "cell_type": "markdown",
   "metadata": {
    "application/vnd.databricks.v1+cell": {
     "cellMetadata": {},
     "inputWidgets": {},
     "nuid": "8354c549-0597-4241-b7f7-7eb00944a449",
     "showTitle": false,
     "tableResultSettingsMap": {},
     "title": ""
    }
   },
   "source": [
    "https://docs.databricks.com/api/workspace/externallineage"
   ]
  },
  {
   "cell_type": "code",
   "execution_count": 0,
   "metadata": {
    "application/vnd.databricks.v1+cell": {
     "cellMetadata": {
      "byteLimit": 2048000,
      "implicitDf": true,
      "rowLimit": 10000
     },
     "inputWidgets": {},
     "nuid": "b6e7d37c-daf6-4242-9d38-a24ff357e3b4",
     "showTitle": false,
     "tableResultSettingsMap": {},
     "title": ""
    }
   },
   "outputs": [],
   "source": [
    "# create external entity\n",
    "\n",
    "from databricks.sdk import WorkspaceClient\n",
    "\n",
    "w = WorkspaceClient()\n",
    "\n",
    "w.api_client.do(\n",
    "    method=\"POST\",\n",
    "    path=\"/api/2.0/lineage-tracking/external-metadata\",\n",
    "    body={\n",
    "        \"name\": \"tractor\",\n",
    "        \"description\": \"\",\n",
    "        \"system_type\": \"OTHER\",\n",
    "        \"entity_type\": \"tractor\",\n",
    "        \"columns\": [\"measurement\"]\n",
    "    }\n",
    ")"
   ]
  },
  {
   "cell_type": "code",
   "execution_count": 0,
   "metadata": {
    "application/vnd.databricks.v1+cell": {
     "cellMetadata": {
      "byteLimit": 2048000,
      "rowLimit": 10000
     },
     "inputWidgets": {},
     "nuid": "550e2f3a-e6f2-4dbd-8349-fbd2c01abf51",
     "showTitle": false,
     "tableResultSettingsMap": {},
     "title": ""
    }
   },
   "outputs": [],
   "source": [
    "# create external lineage\n",
    "\n",
    "from databricks.sdk import WorkspaceClient\n",
    "\n",
    "w = WorkspaceClient()\n",
    "\n",
    "w.api_client.do(\n",
    "    method=\"POST\",\n",
    "    path=\"/api/2.0/lineage-tracking/external-lineage\",\n",
    "    body={\n",
    "        \"source\": {\"external_metadata\": {\"name\": \"tractor\"}},\n",
    "        \"target\": {\"external_metadata\": {\"name\": \"iot_reading\"}},\n",
    "        \"properties\": {},\n",
    "        \"columns\": [],\n",
    "    },\n",
    ")"
   ]
  },
  {
   "cell_type": "code",
   "execution_count": 0,
   "metadata": {
    "application/vnd.databricks.v1+cell": {
     "cellMetadata": {
      "byteLimit": 2048000,
      "rowLimit": 10000
     },
     "inputWidgets": {},
     "nuid": "3066b9b6-f0f5-4b4a-8d28-56c3af32a001",
     "showTitle": false,
     "tableResultSettingsMap": {},
     "title": ""
    }
   },
   "outputs": [],
   "source": [
    "# list external lineage\n",
    "\n",
    "from databricks.sdk import WorkspaceClient\n",
    "\n",
    "w = WorkspaceClient()\n",
    "\n",
    "w.api_client.do(\n",
    "    method=\"GET\",\n",
    "    path=\"/api/2.0/lineage-tracking/external-lineage\",\n",
    "    query={\n",
    "        \"object_info\": {\"external_metadata\": {\"name\": \"tractor\"}},\n",
    "        \"lineage_direction\": \"DOWNSTREAM\"}\n",
    ")"
   ]
  }
 ],
 "metadata": {
  "application/vnd.databricks.v1+notebook": {
   "computePreferences": null,
   "dashboards": [],
   "environmentMetadata": {
    "base_environment": "",
    "environment_version": "2"
   },
   "inputWidgetPreferences": null,
   "language": "python",
   "notebookMetadata": {
    "mostRecentlyExecutedCommandWithImplicitDF": {
     "commandId": -1,
     "dataframes": [
      "_sqldf"
     ]
    },
    "pythonIndentUnit": 4
   },
   "notebookName": "external lineage",
   "widgets": {}
  },
  "language_info": {
   "name": "python"
  }
 },
 "nbformat": 4,
 "nbformat_minor": 0
}
