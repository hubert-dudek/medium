{
 "cells": [
  {
   "cell_type": "markdown",
   "metadata": {
    "application/vnd.databricks.v1+cell": {
     "cellMetadata": {},
     "inputWidgets": {},
     "nuid": "41b4bbf6-0fd4-4468-a510-10dddead1bec",
     "showTitle": false,
     "tableResultSettingsMap": {},
     "title": ""
    }
   },
   "source": [
    "New ai_parse_document allows us to detect text in documents like PDFs or images. We decided to test it by converting PDFs with invoices to a database-friendly format. To read PDF documents, we need to read files in binary format and then use the ai_parse_document function, which will convert it into a string value and store it in a table."
   ]
  },
  {
   "cell_type": "markdown",
   "metadata": {
    "application/vnd.databricks.v1+cell": {
     "cellMetadata": {},
     "inputWidgets": {},
     "nuid": "fecb753e-00e9-4d34-91aa-58ad4ea7805b",
     "showTitle": false,
     "tableResultSettingsMap": {},
     "title": ""
    }
   },
   "source": [
    "Here is the basic syntax to achieve it:"
   ]
  },
  {
   "cell_type": "code",
   "execution_count": 0,
   "metadata": {
    "application/vnd.databricks.v1+cell": {
     "cellMetadata": {
      "byteLimit": 2048000,
      "rowLimit": 10000
     },
     "inputWidgets": {},
     "nuid": "3e00a25b-0c59-4e0c-9ef7-a5ac13b7cc2d",
     "showTitle": false,
     "tableResultSettingsMap": {},
     "title": ""
    }
   },
   "outputs": [],
   "source": [
    "WITH all_files AS (\n",
    "  SELECT\n",
    "    path,\n",
    "    content\n",
    "  FROM\n",
    "    READ_FILES(\"/Volumes/hub/default/invoices\", format => 'binaryFile')\n",
    ")\n",
    "-- Parse the files using ai_parse document\n",
    "SELECT\n",
    "  path,\n",
    "  ai_parse_document(content) as parsed\n",
    "FROM\n",
    "  all_files;"
   ]
  },
  {
   "cell_type": "markdown",
   "metadata": {
    "application/vnd.databricks.v1+cell": {
     "cellMetadata": {},
     "inputWidgets": {},
     "nuid": "335b1ef3-66ae-4b1f-80b8-88c00b2a0479",
     "showTitle": false,
     "tableResultSettingsMap": {},
     "title": ""
    }
   },
   "source": [
    "The easiest way to create the above syntax is to go to \"Agents\" and set the PDF reader from our volume. I uploaded 3 example PDFs to the volume. \"Use PDFs in Agent Bricks\" will create a ready SQL script to read and script wil lbe much longer in above exampel as it will create also \"cleaned\" oarse data which will use like markdown invoice.\n",
    "\n",
    "![invoices_parced.png](./ai_parse_document_img/invoices_parced.png \"invoices_parced.png\")"
   ]
  },
  {
   "cell_type": "markdown",
   "metadata": {
    "application/vnd.databricks.v1+cell": {
     "cellMetadata": {},
     "inputWidgets": {},
     "nuid": "abf2a910-35fd-4a78-af5b-ff29d9799356",
     "showTitle": false,
     "tableResultSettingsMap": {},
     "title": ""
    }
   },
   "source": [
    "![agent1.png](./ai_parse_document_img/agent1.png \"agent1.png\")"
   ]
  },
  {
   "cell_type": "markdown",
   "metadata": {
    "application/vnd.databricks.v1+cell": {
     "cellMetadata": {},
     "inputWidgets": {},
     "nuid": "65790a3f-596d-4aa6-91f8-9e3735524ba0",
     "showTitle": false,
     "tableResultSettingsMap": {},
     "title": ""
    }
   },
   "source": [
    "We can see that our invoices were converted into well-formatted strings and are now stored in a UC table."
   ]
  },
  {
   "cell_type": "markdown",
   "metadata": {
    "application/vnd.databricks.v1+cell": {
     "cellMetadata": {},
     "inputWidgets": {},
     "nuid": "b50c6557-7077-4f8e-9a9e-fa24fcce3e29",
     "showTitle": false,
     "tableResultSettingsMap": {},
     "title": ""
    }
   },
   "source": [
    "![invoices_parced.png](./ai_parse_document_img/invoices_parced.png \"invoices_parced.png\")"
   ]
  },
  {
   "cell_type": "markdown",
   "metadata": {
    "application/vnd.databricks.v1+cell": {
     "cellMetadata": {},
     "inputWidgets": {},
     "nuid": "8156fd14-5949-4704-9f30-0ce69cf5b928",
     "showTitle": false,
     "tableResultSettingsMap": {},
     "title": ""
    }
   },
   "source": [
    "Great, but we don't need a text field. We need to separate the invoice number, supplier, or even have all items in a separate table. Here, another agent tool will help: Information Extraction. Once we have a few example invoices, it should automatically build a proper JSON and deploy a small AI model (like managed LangChain) to process it. In \"Agents,\" we can go to \"Information Extraction,\" point to our field with invoice text, and from my experience, the default should work fine as it is a popular use case - invoices. It shouldn't have a problem automatically building a JSON structure matching invoices."
   ]
  },
  {
   "cell_type": "markdown",
   "metadata": {
    "application/vnd.databricks.v1+cell": {
     "cellMetadata": {},
     "inputWidgets": {},
     "nuid": "36ebb6a7-4f4e-4323-a349-ee1ef47bbca0",
     "showTitle": false,
     "tableResultSettingsMap": {},
     "title": ""
    }
   },
   "source": [
    "![agent2.png](./ai_parse_document_img/agent2.png \"agent2.png\")"
   ]
  },
  {
   "cell_type": "markdown",
   "metadata": {
    "application/vnd.databricks.v1+cell": {
     "cellMetadata": {},
     "inputWidgets": {},
     "nuid": "9f89a221-dcc0-483b-8f1e-2e848c4b4d55",
     "showTitle": false,
     "tableResultSettingsMap": {},
     "title": ""
    }
   },
   "source": [
    "Once the model and endpoint are created, we can use SQL to convert the extracted text to a variant type."
   ]
  },
  {
   "cell_type": "code",
   "execution_count": 0,
   "metadata": {
    "application/vnd.databricks.v1+cell": {
     "cellMetadata": {
      "byteLimit": 2048000,
      "rowLimit": 10000
     },
     "inputWidgets": {},
     "nuid": "aa231cab-ce0a-4410-905e-2b8c82f78772",
     "showTitle": false,
     "tableResultSettingsMap": {},
     "title": ""
    }
   },
   "outputs": [],
   "source": [
    "SELECT * FROM\n",
    "(WITH query_results AS (\n",
    "  SELECT\n",
    "    `text` AS input,\n",
    "    ai_query(\n",
    "      'kie-f69b5222-endpoint',\n",
    "      input,\n",
    "      failOnError => false\n",
    "    ) AS response\n",
    "  FROM (\n",
    "    SELECT `text` \n",
    "    FROM `hub`.`default`.`invoices_parsed`\n",
    "  )\n",
    ")\n",
    "SELECT\n",
    "  try_parse_json(response.result) AS doc,\n",
    "  input,\n",
    "  response.errorMessage AS error\n",
    "FROM query_results)"
   ]
  },
  {
   "cell_type": "markdown",
   "metadata": {
    "application/vnd.databricks.v1+cell": {
     "cellMetadata": {},
     "inputWidgets": {},
     "nuid": "83d70e04-73be-4168-a384-d63dcb44c4dd",
     "showTitle": false,
     "tableResultSettingsMap": {},
     "title": ""
    }
   },
   "source": [
    "We can see that our data is now in a nicely structured variant type, making it quite easy to extract the information we need."
   ]
  },
  {
   "cell_type": "markdown",
   "metadata": {
    "application/vnd.databricks.v1+cell": {
     "cellMetadata": {},
     "inputWidgets": {},
     "nuid": "2ef22e6e-f946-4f78-9f29-874b0d4e97d8",
     "showTitle": false,
     "tableResultSettingsMap": {},
     "title": ""
    }
   },
   "source": [
    "We can easily extract company data from invoices using basic methods to traverse the variant type."
   ]
  },
  {
   "cell_type": "code",
   "execution_count": 0,
   "metadata": {
    "application/vnd.databricks.v1+cell": {
     "cellMetadata": {
      "byteLimit": 2048000,
      "rowLimit": 10000
     },
     "inputWidgets": {},
     "nuid": "744d487f-349b-48b6-b47e-5ca933366052",
     "showTitle": false,
     "tableResultSettingsMap": {},
     "title": ""
    }
   },
   "outputs": [],
   "source": [
    "SELECT\n",
    "    doc:invoice_number,\n",
    "    TO_DATE(doc:issue_date)  AS issue_date,\n",
    "    TO_DATE(doc:due_date)    AS due_date,\n",
    "    doc:buyer.name           AS buyer_name,\n",
    "    doc:buyer.address        AS buyer_address,\n",
    "    doc:buyer.vat_id         AS buyer_vat_id,\n",
    "    doc:seller.name          AS seller_name,\n",
    "    doc:seller.address       AS seller_address,\n",
    "    doc:seller.vat_id        AS seller_vat_id\n",
    "FROM invoices_json;"
   ]
  },
  {
   "cell_type": "markdown",
   "metadata": {
    "application/vnd.databricks.v1+cell": {
     "cellMetadata": {},
     "inputWidgets": {},
     "nuid": "3a3040f9-c6a1-4f20-b395-e7bac3d95552",
     "showTitle": false,
     "tableResultSettingsMap": {},
     "title": ""
    }
   },
   "source": [
    "We can also explode the items to display them in a separate table."
   ]
  },
  {
   "cell_type": "code",
   "execution_count": 0,
   "metadata": {
    "application/vnd.databricks.v1+cell": {
     "cellMetadata": {
      "byteLimit": 2048000,
      "rowLimit": 10000
     },
     "inputWidgets": {},
     "nuid": "d6fe56d8-894f-4f61-8906-c84aa62b454a",
     "showTitle": false,
     "tableResultSettingsMap": {},
     "title": ""
    }
   },
   "outputs": [],
   "source": [
    "With items AS (\n",
    "  SELECT\n",
    "    CAST(doc:invoice_number AS STRING) AS invoice_number,\n",
    "    explode(CAST(doc:items AS ARRAY<STRUCT<description: STRING, quantity: INT, unit_price: STRING>>)) AS product\n",
    "  FROM\n",
    "    invoices_json\n",
    ")\n",
    "SELECT\n",
    "  invoice_number, product.description, product.quantity, product.unit_price\n",
    "FROM\n",
    "  items;"
   ]
  },
  {
   "cell_type": "markdown",
   "metadata": {
    "application/vnd.databricks.v1+cell": {
     "cellMetadata": {},
     "inputWidgets": {},
     "nuid": "afbefc81-2369-4522-b9d5-9a2935d6af1b",
     "showTitle": false,
     "tableResultSettingsMap": {},
     "title": ""
    }
   },
   "source": [
    "It is easy to extract data from all invoices uploaded to volumes. This is just one example of how Databricks can help automate your business processes. Agent Bricks also suggests creating a DLT pipeline, making it simple to convert this process into an incremental one. Combined with a file arrival trigger (when a new invoice arrives), you can build an ideal architecture for your accounting team."
   ]
  },
  {
   "cell_type": "markdown",
   "metadata": {
    "application/vnd.databricks.v1+cell": {
     "cellMetadata": {},
     "inputWidgets": {},
     "nuid": "e73cd330-5f23-45c3-bbd9-0afc3613f74b",
     "showTitle": false,
     "tableResultSettingsMap": {},
     "title": ""
    }
   },
   "source": [
    "How much it cost?\n",
    "\n",
    "During 2 ways of experimenting with agents I spent almost 30 DBUs for Serverless Real-Time Inference. One DBU before discount in my case for that service cost 0.082 USD so my cost was around 2.5 usd. I haven't noticed any charges for hours where AI servinf endpoint was idle."
   ]
  },
  {
   "cell_type": "code",
   "execution_count": 0,
   "metadata": {
    "application/vnd.databricks.v1+cell": {
     "cellMetadata": {},
     "inputWidgets": {},
     "nuid": "3766a51b-dc5f-49c2-b0d9-ef75b785c20d",
     "showTitle": false,
     "tableResultSettingsMap": {},
     "title": ""
    }
   },
   "outputs": [],
   "source": []
  }
 ],
 "metadata": {
  "application/vnd.databricks.v1+notebook": {
   "computePreferences": null,
   "dashboards": [],
   "environmentMetadata": {
    "base_environment": "",
    "environment_version": "2"
   },
   "inputWidgetPreferences": null,
   "language": "sql",
   "notebookMetadata": {
    "pythonIndentUnit": 4
   },
   "notebookName": "ai_parse_document",
   "widgets": {}
  },
  "language_info": {
   "name": "sql"
  }
 },
 "nbformat": 4,
 "nbformat_minor": 0
}
