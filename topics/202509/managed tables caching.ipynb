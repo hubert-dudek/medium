{
 "cells": [
  {
   "cell_type": "code",
   "execution_count": 0,
   "metadata": {
    "application/vnd.databricks.v1+cell": {
     "cellMetadata": {
      "byteLimit": 2048000,
      "rowLimit": 10000
     },
     "inputWidgets": {},
     "nuid": "30a411b0-0bfb-4f0f-ac17-36bfc3d7f195",
     "showTitle": false,
     "tableResultSettingsMap": {},
     "title": ""
    }
   },
   "outputs": [],
   "source": [
    "CREATE OR REPLACE TEMP VIEW tx_1mln AS\n",
    "SELECT\n",
    "  id                                AS txn_id,\n",
    "  -- Descending timestamps: each next row is 1 minute *earlier*\n",
    "  timestampadd(MINUTE, -(1000000 - id), current_timestamp()) AS txn_ts,\n",
    "  CAST(rand()*100000 AS INT)         AS account_id,\n",
    "  ROUND(rand()*1000, 2)              AS amount,\n",
    "  CASE WHEN rand() < 0.95 THEN 'purchase' ELSE 'refund' END AS txn_type,\n",
    "  SUBSTR(uuid(), 1, 12)              AS note\n",
    "FROM range(0, 1000000, 1, 2000);\n"
   ]
  },
  {
   "cell_type": "code",
   "execution_count": 0,
   "metadata": {
    "application/vnd.databricks.v1+cell": {
     "cellMetadata": {
      "byteLimit": 2048000,
      "rowLimit": 10000
     },
     "inputWidgets": {},
     "nuid": "a196c449-8e17-4eac-b3d7-16378feb207b",
     "showTitle": false,
     "tableResultSettingsMap": {},
     "title": ""
    }
   },
   "outputs": [],
   "source": [
    "DROP TABLE IF EXISTS transactions_managed;\n",
    "\n",
    "CREATE TABLE transactions_managed\n",
    "(\n",
    "  txn_id     BIGINT,\n",
    "  txn_ts     TIMESTAMP,\n",
    "  account_id INT,\n",
    "  amount     DECIMAL(10,2),\n",
    "  txn_type   STRING,\n",
    "  note       STRING,\n",
    "  txn_date   DATE GENERATED ALWAYS AS (CAST(txn_ts AS DATE))\n",
    ")\n",
    "PARTITIONED BY (txn_date)\n",
    "TBLPROPERTIES (\n",
    "  delta.autoOptimize.autoCompact = false,\n",
    "  delta.autoOptimize.optimizeWrite = false\n",
    ");\n",
    "\n",
    "-- Insert 1M rows; settings from step 1 enforce tiny files.\n",
    "INSERT INTO transactions_managed (txn_id, txn_ts, account_id, amount, txn_type, note)\n",
    "SELECT * FROM tx_1mln;\n"
   ]
  },
  {
   "cell_type": "code",
   "execution_count": 0,
   "metadata": {
    "application/vnd.databricks.v1+cell": {
     "cellMetadata": {
      "byteLimit": 2048000,
      "rowLimit": 10000
     },
     "inputWidgets": {},
     "nuid": "767d2708-c6f6-4167-a222-d5584ded978d",
     "showTitle": false,
     "tableResultSettingsMap": {},
     "title": ""
    }
   },
   "outputs": [],
   "source": [
    "-- We'll land the external table under a subfolder of your container:\n",
    "-- Make sure the path is under the external location you created in step 0.\n",
    "-- Example folder: abfss://unity@westus2uc.dfs.core.windows.net/uc_vs_ext/transactions_ext\n",
    "\n",
    "DROP TABLE IF EXISTS transactions_external;\n",
    "\n",
    "CREATE TABLE transactions_external\n",
    "(\n",
    "  txn_id     BIGINT,\n",
    "  txn_ts     TIMESTAMP,\n",
    "  account_id INT,\n",
    "  amount     DECIMAL(10,2),\n",
    "  txn_type   STRING,\n",
    "  note       STRING,\n",
    "  txn_date   DATE GENERATED ALWAYS AS (CAST(txn_ts AS DATE))\n",
    ")\n",
    "PARTITIONED BY (txn_date)\n",
    "LOCATION 'abfss://unity@westus2uc.dfs.core.windows.net/transactions_ext'\n",
    "TBLPROPERTIES (\n",
    "  delta.autoOptimize.autoCompact = false,\n",
    "  delta.autoOptimize.optimizeWrite = false\n",
    ");\n",
    "\n",
    "-- Insert identical data to the external table\n",
    "INSERT INTO transactions_external (txn_id, txn_ts, account_id, amount, txn_type, note)\n",
    "SELECT * FROM tx_1mln;\n"
   ]
  },
  {
   "cell_type": "code",
   "execution_count": 0,
   "metadata": {
    "application/vnd.databricks.v1+cell": {
     "cellMetadata": {
      "byteLimit": 2048000,
      "rowLimit": 10000
     },
     "inputWidgets": {},
     "nuid": "e5024b19-6b0c-4e44-be15-35e9058a7156",
     "showTitle": false,
     "tableResultSettingsMap": {},
     "title": ""
    }
   },
   "outputs": [],
   "source": [
    "SET use_cached_result = false;  "
   ]
  },
  {
   "cell_type": "code",
   "execution_count": 0,
   "metadata": {
    "application/vnd.databricks.v1+cell": {
     "cellMetadata": {
      "byteLimit": 2048000,
      "rowLimit": 10000
     },
     "inputWidgets": {},
     "nuid": "fd62e512-67cd-4776-8a5b-d18b14363031",
     "showTitle": false,
     "tableResultSettingsMap": {},
     "title": ""
    }
   },
   "outputs": [],
   "source": [
    "SELECT COUNT(*) FROM transactions_managed;"
   ]
  },
  {
   "cell_type": "code",
   "execution_count": 0,
   "metadata": {
    "application/vnd.databricks.v1+cell": {
     "cellMetadata": {
      "byteLimit": 2048000,
      "rowLimit": 10000
     },
     "inputWidgets": {},
     "nuid": "241df28c-3744-4277-aae7-57271e917c70",
     "showTitle": false,
     "tableResultSettingsMap": {},
     "title": ""
    }
   },
   "outputs": [],
   "source": [
    "SELECT COUNT(*) FROM transactions_external;"
   ]
  },
  {
   "cell_type": "markdown",
   "metadata": {
    "application/vnd.databricks.v1+cell": {
     "cellMetadata": {},
     "inputWidgets": {},
     "nuid": "a877616b-f91a-40b7-90c5-2a631d37a8dc",
     "showTitle": false,
     "tableResultSettingsMap": {},
     "title": ""
    }
   },
   "source": [
    "Log analityc query after setting sending diagnostics to Log Workspace:\n",
    "```\n",
    "StorageBlobLogs\n",
    "| where TimeGenerated > ago(30m)\n",
    "| project TimeGenerated,\n",
    "          OperationName,\n",
    "          ResponseHeaderSize,\n",
    "          ResponseBodySize\n",
    "| order by TimeGenerated desc\n",
    "```"
   ]
  },
  {
   "cell_type": "code",
   "execution_count": 0,
   "metadata": {
    "application/vnd.databricks.v1+cell": {
     "cellMetadata": {},
     "inputWidgets": {},
     "nuid": "bd4f5791-e829-4d18-b948-89f72ae90876",
     "showTitle": false,
     "tableResultSettingsMap": {},
     "title": ""
    }
   },
   "outputs": [],
   "source": []
  }
 ],
 "metadata": {
  "application/vnd.databricks.v1+notebook": {
   "computePreferences": null,
   "dashboards": [],
   "environmentMetadata": {
    "base_environment": "",
    "environment_version": "3"
   },
   "inputWidgetPreferences": null,
   "language": "sql",
   "notebookMetadata": {
    "pythonIndentUnit": 4
   },
   "notebookName": "managed tables caching",
   "widgets": {}
  },
  "language_info": {
   "name": "sql"
  }
 },
 "nbformat": 4,
 "nbformat_minor": 0
}
