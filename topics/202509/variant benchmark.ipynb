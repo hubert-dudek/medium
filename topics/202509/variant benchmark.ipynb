{
 "cells": [
  {
   "cell_type": "code",
   "execution_count": 0,
   "metadata": {
    "application/vnd.databricks.v1+cell": {
     "cellMetadata": {
      "byteLimit": 2048000,
      "rowLimit": 10000
     },
     "inputWidgets": {},
     "nuid": "0c800ce1-692e-4850-9a09-2b8782db116c",
     "showTitle": false,
     "tableResultSettingsMap": {},
     "title": ""
    }
   },
   "outputs": [],
   "source": [
    "-- Synthetic dataset (as JSON string) in a temp view\n",
    "CREATE OR REPLACE TEMP VIEW v_payload_json AS\n",
    "SELECT\n",
    "  to_json(\n",
    "    named_struct(\n",
    "      'user',\n",
    "      named_struct(\n",
    "        'id',\n",
    "        concat('u', cast(rand(3) * 10000000 as int)),\n",
    "        'country',\n",
    "        element_at(\n",
    "          array('US', 'PL', 'IT', 'DE', 'KR', 'JP', 'BR', 'IN', 'GB', 'FR'),\n",
    "          cast(rand(2) * 10 as int) + 1\n",
    "        ),\n",
    "        'age',\n",
    "        cast(rand(4) * 70 as int)\n",
    "      ),\n",
    "      'metrics',\n",
    "      named_struct('clicks', cast(rand(5) * 100 as int), 'spent', round(rand(6) * 1000, 2)),\n",
    "      'flags',\n",
    "      named_struct('is_paid', rand(7) < 0.35, 'is_new', rand(8) < 0.5),\n",
    "      'items',\n",
    "      transform(\n",
    "        sequence(1, greatest(1, cast(rand(9) * 5 as int))),\n",
    "        i -> named_struct(\n",
    "          'sku',\n",
    "          concat('sku_', id, '_', i),\n",
    "          'price',\n",
    "          round(rand(10) * 200, 2),\n",
    "          'qty',\n",
    "          cast(rand(11) * 5 as int)\n",
    "        )\n",
    "      ),\n",
    "      'extra',\n",
    "      map(\n",
    "        'ua',\n",
    "        element_at(array('Chrome', 'Safari', 'Firefox', 'Edge'), cast(rand(12) * 4 as int) + 1),\n",
    "        'campaign',\n",
    "        element_at(array('A', 'B', 'C', 'D'), cast(rand(13) * 4 as int) + 1)\n",
    "      )\n",
    "    )\n",
    "  ) AS payload_json\n",
    "FROM\n",
    "  range(10000000); -- scale factor"
   ]
  },
  {
   "cell_type": "code",
   "execution_count": 0,
   "metadata": {
    "application/vnd.databricks.v1+cell": {
     "cellMetadata": {
      "byteLimit": 2048000,
      "rowLimit": 10000
     },
     "inputWidgets": {},
     "nuid": "59dbae74-3acd-4bac-af37-f9a22851d305",
     "showTitle": false,
     "tableResultSettingsMap": {},
     "title": ""
    }
   },
   "outputs": [],
   "source": [
    "-- JSON string table (one column)\n",
    "DROP TABLE IF EXISTS json_str;\n",
    "CREATE TABLE json_str AS\n",
    "SELECT payload_json AS payload\n",
    "FROM v_payload_json;\n",
    "\n",
    "-- VARIANT table (one column) — same content, parsed once\n",
    "DROP TABLE IF EXISTS json_variant;\n",
    "CREATE TABLE json_variant AS\n",
    "SELECT parse_json(payload_json) AS payload\n",
    "FROM v_payload_json;\n"
   ]
  },
  {
   "cell_type": "code",
   "execution_count": 0,
   "metadata": {
    "application/vnd.databricks.v1+cell": {
     "cellMetadata": {
      "byteLimit": 2048000,
      "rowLimit": 10000
     },
     "inputWidgets": {},
     "nuid": "e9267b76-339c-4698-8d5e-79e71f4c08f8",
     "showTitle": false,
     "tableResultSettingsMap": {},
     "title": ""
    }
   },
   "outputs": [],
   "source": [
    "OPTIMIZE json_str;\n",
    "OPTIMIZE json_variant;"
   ]
  },
  {
   "cell_type": "code",
   "execution_count": 0,
   "metadata": {
    "application/vnd.databricks.v1+cell": {
     "cellMetadata": {
      "byteLimit": 2048000,
      "rowLimit": 10000
     },
     "inputWidgets": {},
     "nuid": "7a8ed6db-69d5-4a72-a709-d8e36a42e572",
     "showTitle": false,
     "tableResultSettingsMap": {},
     "title": ""
    }
   },
   "outputs": [],
   "source": [
    "DESCRIBE DETAIL json_str;\n",
    "DESCRIBE DETAIL json_variant;"
   ]
  },
  {
   "cell_type": "code",
   "execution_count": 0,
   "metadata": {
    "application/vnd.databricks.v1+cell": {
     "cellMetadata": {
      "byteLimit": 2048000,
      "rowLimit": 10000
     },
     "inputWidgets": {},
     "nuid": "60eefcb1-1e76-4c67-8e5f-a56b7be02996",
     "showTitle": false,
     "tableResultSettingsMap": {},
     "title": ""
    }
   },
   "outputs": [],
   "source": [
    "SET use_cached_result = false;  "
   ]
  },
  {
   "cell_type": "markdown",
   "metadata": {
    "application/vnd.databricks.v1+cell": {
     "cellMetadata": {
      "byteLimit": 2048000,
      "rowLimit": 10000
     },
     "inputWidgets": {},
     "nuid": "f0b6c111-8c11-46cd-a9e4-bad8a52aa590",
     "showTitle": false,
     "tableResultSettingsMap": {},
     "title": ""
    }
   },
   "source": [
    "Filter on a nested"
   ]
  },
  {
   "cell_type": "code",
   "execution_count": 0,
   "metadata": {
    "application/vnd.databricks.v1+cell": {
     "cellMetadata": {
      "byteLimit": 2048000,
      "rowLimit": 10000
     },
     "inputWidgets": {},
     "nuid": "14d140cf-18b5-4e01-a9c4-ea74350859a4",
     "showTitle": false,
     "tableResultSettingsMap": {},
     "title": ""
    }
   },
   "outputs": [],
   "source": [
    "-- JSON string\n",
    "SELECT count(*) AS users_25_35\n",
    "FROM json_str\n",
    "WHERE payload:user.age::int BETWEEN 25 AND 35;\n"
   ]
  },
  {
   "cell_type": "code",
   "execution_count": 0,
   "metadata": {
    "application/vnd.databricks.v1+cell": {
     "cellMetadata": {
      "byteLimit": 2048000,
      "rowLimit": 10000
     },
     "inputWidgets": {},
     "nuid": "39982f61-0af4-4df7-81be-59cecb8ef1d1",
     "showTitle": false,
     "tableResultSettingsMap": {},
     "title": ""
    }
   },
   "outputs": [],
   "source": [
    "-- VARIANT\n",
    "SELECT count(*) AS users_25_35\n",
    "FROM json_variant\n",
    "WHERE payload:user.age::int BETWEEN 25 AND 35;"
   ]
  },
  {
   "cell_type": "markdown",
   "metadata": {
    "application/vnd.databricks.v1+cell": {
     "cellMetadata": {
      "byteLimit": 2048000,
      "rowLimit": 10000
     },
     "inputWidgets": {},
     "nuid": "a6d5663d-2cb1-4bb0-b6c9-95b94185876e",
     "showTitle": false,
     "tableResultSettingsMap": {},
     "title": ""
    }
   },
   "source": [
    "Group by a nested string (country), aggregate nested int (clicks)"
   ]
  },
  {
   "cell_type": "code",
   "execution_count": 0,
   "metadata": {
    "application/vnd.databricks.v1+cell": {
     "cellMetadata": {
      "byteLimit": 2048000,
      "rowLimit": 10000
     },
     "inputWidgets": {},
     "nuid": "01ebe161-55a3-41ea-a515-d8e7531d25b1",
     "showTitle": false,
     "tableResultSettingsMap": {
      "0": {
       "dataGridStateBlob": "{\"version\":1,\"tableState\":{\"columnPinning\":{\"left\":[\"#row_number#\"],\"right\":[]},\"columnSizing\":{},\"columnVisibility\":{}},\"settings\":{\"columns\":{}},\"syncTimestamp\":1758107749720}",
       "filterBlob": null,
       "queryPlanFiltersBlob": null,
       "tableResultIndex": 0
      }
     },
     "title": ""
    }
   },
   "outputs": [],
   "source": [
    "-- JSON string\n",
    "CREATE OR REPLACE TABLE agg_country_clicks AS\n",
    "SELECT payload:user.country::string AS country,\n",
    "       SUM(payload:metrics.clicks::int) AS clicks\n",
    "FROM json_str\n",
    "GROUP BY country\n",
    "ORDER BY clicks DESC;"
   ]
  },
  {
   "cell_type": "code",
   "execution_count": 0,
   "metadata": {
    "application/vnd.databricks.v1+cell": {
     "cellMetadata": {
      "byteLimit": 2048000,
      "rowLimit": 10000
     },
     "inputWidgets": {},
     "nuid": "3916ce52-8e3d-4dad-beeb-0923311b8b66",
     "showTitle": false,
     "tableResultSettingsMap": {
      "0": {
       "dataGridStateBlob": "{\"version\":1,\"tableState\":{\"columnPinning\":{\"left\":[\"#row_number#\"],\"right\":[]},\"columnSizing\":{},\"columnVisibility\":{}},\"settings\":{\"columns\":{}},\"syncTimestamp\":1758107751895}",
       "filterBlob": null,
       "queryPlanFiltersBlob": null,
       "tableResultIndex": 0
      }
     },
     "title": ""
    }
   },
   "outputs": [],
   "source": [
    "-- VARIANT\n",
    "CREATE OR REPLACE TABLE agg_country_clicks_variant AS\n",
    "SELECT payload:user.country::string AS country,\n",
    "       SUM(payload:metrics.clicks::int) AS clicks\n",
    "FROM json_variant\n",
    "GROUP BY country\n",
    "ORDER BY clicks DESC;"
   ]
  },
  {
   "cell_type": "markdown",
   "metadata": {
    "application/vnd.databricks.v1+cell": {
     "cellMetadata": {
      "byteLimit": 2048000,
      "rowLimit": 10000
     },
     "inputWidgets": {},
     "nuid": "9e5221c1-ed2d-4619-8164-4f0d474f4206",
     "showTitle": false,
     "tableResultSettingsMap": {},
     "title": ""
    }
   },
   "source": [
    "Top‑N by a nested numeric"
   ]
  },
  {
   "cell_type": "code",
   "execution_count": 0,
   "metadata": {
    "application/vnd.databricks.v1+cell": {
     "cellMetadata": {
      "byteLimit": 2048000,
      "rowLimit": 10000
     },
     "inputWidgets": {},
     "nuid": "181fbbaa-270c-4464-8c92-b0ba5726d360",
     "showTitle": false,
     "tableResultSettingsMap": {
      "0": {
       "dataGridStateBlob": "{\"version\":1,\"tableState\":{\"columnPinning\":{\"left\":[\"#row_number#\"],\"right\":[]},\"columnSizing\":{},\"columnVisibility\":{}},\"settings\":{\"columns\":{}},\"syncTimestamp\":1758107759587}",
       "filterBlob": null,
       "queryPlanFiltersBlob": null,
       "tableResultIndex": 0
      }
     },
     "title": ""
    }
   },
   "outputs": [],
   "source": [
    "-- JSON string\n",
    "CREATE OR REPLACE TABLE top_users_spent AS\n",
    "SELECT payload:user.id::string AS user_id,\n",
    "       payload:metrics.spent::double AS spent\n",
    "FROM json_str\n",
    "ORDER BY spent DESC;"
   ]
  },
  {
   "cell_type": "code",
   "execution_count": 0,
   "metadata": {
    "application/vnd.databricks.v1+cell": {
     "cellMetadata": {
      "byteLimit": 2048000,
      "rowLimit": 10000
     },
     "inputWidgets": {},
     "nuid": "3af19fd4-3e61-4dcf-ae76-c4b57810397b",
     "showTitle": false,
     "tableResultSettingsMap": {
      "0": {
       "dataGridStateBlob": "{\"version\":1,\"tableState\":{\"columnPinning\":{\"left\":[\"#row_number#\"],\"right\":[]},\"columnSizing\":{},\"columnVisibility\":{}},\"settings\":{\"columns\":{}},\"syncTimestamp\":1758107763739}",
       "filterBlob": null,
       "queryPlanFiltersBlob": null,
       "tableResultIndex": 0
      }
     },
     "title": ""
    }
   },
   "outputs": [],
   "source": [
    "-- VARIANT\n",
    "CREATE OR REPLACE TABLE top_users_spent_variant AS\n",
    "SELECT payload:user.id::string AS user_id,\n",
    "       payload:metrics.spent::double AS spent\n",
    "FROM json_variant\n",
    "ORDER BY spent DESC;"
   ]
  }
 ],
 "metadata": {
  "application/vnd.databricks.v1+notebook": {
   "computePreferences": null,
   "dashboards": [],
   "environmentMetadata": {
    "base_environment": "",
    "environment_version": "3"
   },
   "inputWidgetPreferences": null,
   "language": "sql",
   "notebookMetadata": {
    "pythonIndentUnit": 4
   },
   "notebookName": "variant benchmark",
   "widgets": {}
  },
  "language_info": {
   "name": "sql"
  }
 },
 "nbformat": 4,
 "nbformat_minor": 0
}
