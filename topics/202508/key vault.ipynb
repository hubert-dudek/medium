{
 "cells": [
  {
   "cell_type": "markdown",
   "metadata": {
    "application/vnd.databricks.v1+cell": {
     "cellMetadata": {},
     "inputWidgets": {},
     "nuid": "d078d422-eeff-4895-990d-f2ce4aed5c2a",
     "showTitle": false,
     "tableResultSettingsMap": {},
     "title": ""
    }
   },
   "source": [
    "Grant individual permission to secret in Unity Catalog:"
   ]
  },
  {
   "cell_type": "code",
   "execution_count": 0,
   "metadata": {
    "application/vnd.databricks.v1+cell": {
     "cellMetadata": {
      "byteLimit": 2048000,
      "rowLimit": 10000
     },
     "inputWidgets": {},
     "nuid": "5ba96e14-8be4-4bfa-940e-674f4113d94e",
     "showTitle": false,
     "tableResultSettingsMap": {},
     "title": ""
    }
   },
   "outputs": [],
   "source": [
    "# import Azure SDK library\n",
    "from azure.keyvault.secrets import SecretClient \n",
    "\n",
    "# service credentials from Unity Catalog\n",
    "credential = dbutils.credentials.getServiceCredentialsProvider('key-vault-access-connector')\n",
    "# Azure Key Vault url - copy it from vault properties\n",
    "vault_url = \"https://dudekkeyvault.vault.azure.net/\"\n",
    "# init client\n",
    "client = SecretClient(vault_url=vault_url, credential=credential)"
   ]
  },
  {
   "cell_type": "code",
   "execution_count": 0,
   "metadata": {
    "application/vnd.databricks.v1+cell": {
     "cellMetadata": {
      "byteLimit": 2048000,
      "rowLimit": 10000
     },
     "inputWidgets": {},
     "nuid": "fca55623-0e67-4417-8a42-392249ba7b47",
     "showTitle": false,
     "tableResultSettingsMap": {},
     "title": ""
    }
   },
   "outputs": [],
   "source": [
    "# Take the secret and print the first four chars for test; otherwise, it will be redacted\n",
    "secret_value = client.get_secret(\"my-secret\").value\n",
    "print(\"Got secret:\", secret_value[:4], \"...[redacted]\")"
   ]
  },
  {
   "cell_type": "code",
   "execution_count": 0,
   "metadata": {
    "application/vnd.databricks.v1+cell": {
     "cellMetadata": {
      "byteLimit": 2048000,
      "implicitDf": true,
      "rowLimit": 10000
     },
     "inputWidgets": {},
     "nuid": "749c776b-085d-4937-83eb-a9ec3d640583",
     "showTitle": false,
     "tableResultSettingsMap": {},
     "title": ""
    }
   },
   "outputs": [],
   "source": [
    "%sql\n",
    "CREATE SCHEMA secrets;"
   ]
  },
  {
   "cell_type": "code",
   "execution_count": 0,
   "metadata": {
    "application/vnd.databricks.v1+cell": {
     "cellMetadata": {
      "byteLimit": 2048000,
      "implicitDf": true,
      "rowLimit": 10000
     },
     "inputWidgets": {},
     "nuid": "59841781-0fa7-4154-bbfa-330bba843e17",
     "showTitle": true,
     "tableResultSettingsMap": {},
     "title": "batch UDF only"
    }
   },
   "outputs": [],
   "source": [
    "%sql\n",
    "CREATE OR REPLACE FUNCTION secrets.get_my_secret(environment STRING)\n",
    "RETURNS STRING\n",
    "LANGUAGE PYTHON\n",
    "HANDLER 'batchhandler'\n",
    "PARAMETER STYLE PANDAS\n",
    "ENVIRONMENT (\n",
    "  dependencies = '[\n",
    "    \"azure-keyvault-secrets==4.8.0\"\n",
    "  ]',\n",
    "  environment_version = 'None'\n",
    ")\n",
    "CREDENTIALS (\n",
    "  `key-vault-access-connector` AS kv DEFAULT\n",
    ")\n",
    "AS $$\n",
    "def batchhandler(batch_iter):\n",
    "  for _ in batch_iter:\n",
    "    import pandas as pd\n",
    "    from azure.keyvault.secrets import SecretClient\n",
    "    from databricks.service_credentials import getServiceCredentialsProvider\n",
    "    vault_url = \"https://dudekkeyvault.vault.azure.net/\"\n",
    "    client = SecretClient(vault_url=vault_url, credential=getServiceCredentialsProvider('kv'))\n",
    "    secret_value = client.get_secret(\"my-secret\").value\n",
    "    yield pd.Series( [secret_value] )\n",
    "$$;"
   ]
  },
  {
   "cell_type": "code",
   "execution_count": 0,
   "metadata": {
    "application/vnd.databricks.v1+cell": {
     "cellMetadata": {
      "byteLimit": 2048000,
      "implicitDf": true,
      "rowLimit": 10000
     },
     "inputWidgets": {},
     "nuid": "e14c4e6f-b7ab-403b-89bf-5b600e1abb59",
     "showTitle": false,
     "tableResultSettingsMap": {},
     "title": ""
    }
   },
   "outputs": [],
   "source": [
    "%sql\n",
    "SELECT hub.secrets.get_my_secret('dev');"
   ]
  }
 ],
 "metadata": {
  "application/vnd.databricks.v1+notebook": {
   "computePreferences": {
    "hardware": {
     "accelerator": null,
     "gpuPoolId": null,
     "memory": null
    }
   },
   "dashboards": [],
   "environmentMetadata": {
    "base_environment": "",
    "dependencies": [
     "azure-keyvault-secrets"
    ],
    "environment_version": "3"
   },
   "inputWidgetPreferences": null,
   "language": "python",
   "notebookMetadata": {
    "mostRecentlyExecutedCommandWithImplicitDF": {
     "commandId": -1,
     "dataframes": [
      "_sqldf"
     ]
    },
    "pythonIndentUnit": 4
   },
   "notebookName": "key vault",
   "widgets": {}
  },
  "language_info": {
   "name": "python"
  }
 },
 "nbformat": 4,
 "nbformat_minor": 0
}
