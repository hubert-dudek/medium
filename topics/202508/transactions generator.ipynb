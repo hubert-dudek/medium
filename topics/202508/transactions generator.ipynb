{
 "cells": [
  {
   "cell_type": "code",
   "execution_count": 0,
   "metadata": {
    "application/vnd.databricks.v1+cell": {
     "cellMetadata": {
      "byteLimit": 2048000,
      "rowLimit": 10000
     },
     "inputWidgets": {},
     "nuid": "acc0875b-55a6-444a-8d90-479a8c3a4b94",
     "showTitle": false,
     "tableResultSettingsMap": {},
     "title": ""
    }
   },
   "outputs": [],
   "source": [
    "# Databricks notebook cell\n",
    "# ---------------------------------------------------------------\n",
    "# Generate & append Delta‑format transaction data\n",
    "#  • One human‑readable folder per workspace user\n",
    "#  • Partitions by transaction_date=YYYY‑MM‑DD\n",
    "#  • Half‑year backfill  +  small “yesterday” demo batch\n",
    "# ---------------------------------------------------------------\n",
    "\n",
    "from databricks.sdk import WorkspaceClient      # Databricks SDK ≥0.18\n",
    "from pyspark.sql import functions as F, DataFrame\n",
    "import re\n",
    "\n",
    "# ─── CONFIG ────────────────────────────────────────────────────\n",
    "init_rows   = 1_000_000                       # per‑user initial load (initial 100K)\n",
    "days_back   = 90                           # random dates within last N days (initial 180 days)\n",
    "# ───────────────────────────────────────────────────────────────\n",
    "\n",
    "\n",
    "def build_transactions_df(n_rows: int, days_back: int | None) -> DataFrame:\n",
    "    \"\"\"\n",
    "    Create a DataFrame of random transactions.\n",
    "    • If days_back is None → every row dated yesterday.\n",
    "    • Else → random date within the last `days_back` days.\n",
    "    \"\"\"\n",
    "\n",
    "    df = spark.range(n_rows).withColumn(\n",
    "             \"shop_id\", (F.rand() * 15).cast(\"int\") + 1\n",
    "         )\n",
    "\n",
    "    # choose a valid base_date for each row\n",
    "    if days_back is None:\n",
    "        df = df.withColumn(\"transaction_date\", F.date_sub(F.current_date(), 1))\n",
    "    else:\n",
    "        df = df.withColumn(\n",
    "                 \"transaction_date\",\n",
    "                 F.date_sub(F.current_date(), (F.rand() * days_back).cast(\"int\"))\n",
    "             )\n",
    "\n",
    "    # add 0‑86 399 seconds inside that day via timestampadd\n",
    "    df = df.withColumn(\n",
    "             \"transaction_time\",\n",
    "             F.expr(\"\"\"\n",
    "                 timestampadd(\n",
    "                     SECOND,\n",
    "                     cast(rand() * 86400 as int),\n",
    "                     cast(transaction_date as timestamp)\n",
    "                 )\n",
    "             \"\"\")\n",
    "         ) \\\n",
    "         .withColumn(\"amount\", F.round(F.rand() * 1000, 2).cast(\"decimal(10,2)\")) \\\n",
    "         .withColumn(\"tax\",    F.lit(0.05).cast(\"decimal(3,2)\")) \\\n",
    "         .withColumn(\"description\", F.md5(F.col(\"shop_id\").cast(\"string\"))) \\\n",
    "         .drop(\"id\")\n",
    "\n",
    "    return df\n",
    "# ───────────────────────────────────────────────────────────────\n",
    "\n",
    "# ─── CREATE TABLE IF NOT EXISTS ────────────────────────────────\n",
    "spark.sql(\"\"\"\n",
    "CREATE TABLE IF NOT EXISTS default.transactions (\n",
    "    id BIGINT GENERATED ALWAYS AS IDENTITY,\n",
    "    shop_id INT,\n",
    "    transaction_date DATE,\n",
    "    transaction_time TIMESTAMP,\n",
    "    amount DECIMAL(10,2),\n",
    "    tax DECIMAL(3,2),\n",
    "    description STRING\n",
    ")\n",
    "TBLPROPERTIES (\n",
    "    delta.enableChangeDataFeed = true,\n",
    "    delta.appendOnly = true\n",
    ")\n",
    "CLUSTER BY AUTO;\n",
    "\"\"\")\n",
    "\n",
    "# ─── MAIN LOOP ─────────────────────────────────────────────────\n",
    "\n",
    "# ① Initial half‑year data (overwrite once)\n",
    "(build_transactions_df(init_rows, days_back=days_back)\n",
    "        .write\n",
    "        .mode(\"append\")\n",
    "        .saveAsTable(\"default.transactions\"))"
   ]
  },
  {
   "cell_type": "code",
   "execution_count": 0,
   "metadata": {
    "application/vnd.databricks.v1+cell": {
     "cellMetadata": {
      "byteLimit": 2048000,
      "implicitDf": true,
      "rowLimit": 10000
     },
     "inputWidgets": {},
     "nuid": "7b8bc3a0-64fc-4638-8c8e-094237bcd72d",
     "showTitle": false,
     "tableResultSettingsMap": {},
     "title": ""
    }
   },
   "outputs": [],
   "source": [
    "%sql\n",
    "OPTIMIZE default.transactions;"
   ]
  },
  {
   "cell_type": "code",
   "execution_count": 0,
   "metadata": {
    "application/vnd.databricks.v1+cell": {
     "cellMetadata": {
      "byteLimit": 2048000,
      "implicitDf": true,
      "rowLimit": 10000
     },
     "inputWidgets": {},
     "nuid": "9efd9e75-19c2-4798-a10b-3499bfcfde87",
     "showTitle": false,
     "tableResultSettingsMap": {},
     "title": ""
    }
   },
   "outputs": [],
   "source": [
    "%sql\n",
    "SELECT\n",
    "  *\n",
    "FROM\n",
    "  default.transactions\n",
    "WHERE\n",
    "  id = 50000;"
   ]
  },
  {
   "cell_type": "code",
   "execution_count": 0,
   "metadata": {
    "application/vnd.databricks.v1+cell": {
     "cellMetadata": {
      "byteLimit": 2048000,
      "rowLimit": 10000
     },
     "inputWidgets": {},
     "nuid": "e9d398b3-cb63-4f33-9567-d59d9f2af1ed",
     "showTitle": false,
     "tableResultSettingsMap": {},
     "title": ""
    }
   },
   "outputs": [],
   "source": [
    "%sql\n",
    "SELECT\n",
    "  *\n",
    "FROM\n",
    "  default.transactions\n",
    "WHERE\n",
    "  id = 50000;"
   ]
  }
 ],
 "metadata": {
  "application/vnd.databricks.v1+notebook": {
   "computePreferences": {
    "hardware": {
     "accelerator": null,
     "gpuPoolId": null,
     "memory": null
    }
   },
   "dashboards": [],
   "environmentMetadata": {
    "base_environment": "",
    "environment_version": "2"
   },
   "inputWidgetPreferences": null,
   "language": "python",
   "notebookMetadata": {
    "mostRecentlyExecutedCommandWithImplicitDF": {
     "commandId": 5260836767543924,
     "dataframes": [
      "_sqldf"
     ]
    },
    "pythonIndentUnit": 4
   },
   "notebookName": "transactions generator",
   "widgets": {}
  },
  "language_info": {
   "name": "python"
  }
 },
 "nbformat": 4,
 "nbformat_minor": 0
}
