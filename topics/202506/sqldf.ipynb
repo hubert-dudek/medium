{
 "cells": [
  {
   "cell_type": "code",
   "execution_count": 0,
   "metadata": {
    "application/vnd.databricks.v1+cell": {
     "cellMetadata": {
      "byteLimit": 2048000,
      "implicitDf": true,
      "rowLimit": 10000
     },
     "inputWidgets": {},
     "nuid": "95663cf8-d7bf-4c14-a3ad-0a892cbe7cca",
     "showTitle": false,
     "tableResultSettingsMap": {},
     "title": ""
    }
   },
   "outputs": [],
   "source": [
    "%sql\n",
    "SELECT\n",
    "  order_date,\n",
    "  customer_id,\n",
    "  CAST(amount AS SMALLINT) AS amount\n",
    "FROM\n",
    "  orders;"
   ]
  },
  {
   "cell_type": "code",
   "execution_count": 0,
   "metadata": {
    "application/vnd.databricks.v1+cell": {
     "cellMetadata": {
      "byteLimit": 2048000,
      "rowLimit": 10000
     },
     "inputWidgets": {},
     "nuid": "5a814ae6-cb31-4c43-a703-5a82e15a29ee",
     "showTitle": false,
     "tableResultSettingsMap": {},
     "title": ""
    }
   },
   "outputs": [],
   "source": [
    "_sqldf.plot(kind=\"bar\", x=\"customer_id\", y=\"amount\")"
   ]
  },
  {
   "cell_type": "code",
   "execution_count": 0,
   "metadata": {
    "application/vnd.databricks.v1+cell": {
     "cellMetadata": {
      "byteLimit": 2048000,
      "implicitDf": true,
      "rowLimit": 10000
     },
     "inputWidgets": {},
     "nuid": "8f648fb6-c331-4474-94c4-ec458976cf74",
     "showTitle": false,
     "tableResultSettingsMap": {},
     "title": ""
    }
   },
   "outputs": [],
   "source": [
    "%sql\n",
    "MERGE INTO orders AS target\n",
    "USING (\n",
    "  SELECT \n",
    "    order_id,\n",
    "    order_date,\n",
    "    customer_id,\n",
    "    amount\n",
    "  FROM (\n",
    "    VALUES\n",
    "      (1, '2025-06-25', 101, 100.00),\n",
    "      (2, '2025-06-26', 102, 150.00),\n",
    "      (3, '2025-06-27', 103, 200.00)\n",
    "  ) AS orders(order_id, order_date, customer_id, amount)\n",
    ") AS source\n",
    "ON target.order_id = source.order_id\n",
    "WHEN MATCHED THEN\n",
    "  UPDATE SET target.order_date = source.order_date, target.customer_id = source.customer_id, target.amount = source.amount\n",
    "WHEN NOT MATCHED THEN\n",
    "  INSERT (order_id, order_date, customer_id, amount) VALUES (source.order_id, source.order_date, source.customer_id, source.amount);"
   ]
  },
  {
   "cell_type": "code",
   "execution_count": 0,
   "metadata": {
    "application/vnd.databricks.v1+cell": {
     "cellMetadata": {
      "byteLimit": 2048000,
      "implicitDf": true,
      "rowLimit": 10000
     },
     "inputWidgets": {},
     "nuid": "564055bb-4e7e-4929-ac6c-846dffab1616",
     "showTitle": false,
     "tableResultSettingsMap": {},
     "title": ""
    }
   },
   "outputs": [],
   "source": [
    "%sql\n",
    "SELECT * FROM _sqldf"
   ]
  }
 ],
 "metadata": {
  "application/vnd.databricks.v1+notebook": {
   "computePreferences": null,
   "dashboards": [],
   "environmentMetadata": null,
   "inputWidgetPreferences": null,
   "language": "python",
   "notebookMetadata": {
    "mostRecentlyExecutedCommandWithImplicitDF": {
     "commandId": 8474227627824014,
     "dataframes": [
      "_sqldf"
     ]
    },
    "pythonIndentUnit": 4
   },
   "notebookName": "sqldf",
   "widgets": {}
  },
  "language_info": {
   "name": "python"
  }
 },
 "nbformat": 4,
 "nbformat_minor": 0
}
