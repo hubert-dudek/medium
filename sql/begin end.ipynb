{
 "cells": [
  {
   "cell_type": "code",
   "execution_count": 0,
   "metadata": {
    "application/vnd.databricks.v1+cell": {
     "cellMetadata": {
      "byteLimit": 2048000,
      "rowLimit": 10000
     },
     "inputWidgets": {},
     "nuid": "c58b53aa-298b-4f36-b967-5186b8300946",
     "showTitle": false,
     "tableResultSettingsMap": {},
     "title": ""
    }
   },
   "outputs": [],
   "source": [
    "CREATE OR REPLACE TABLE error_log (\n",
    "  id BIGINT GENERATED ALWAYS AS IDENTITY,\n",
    "  error_message STRING,\n",
    "  sqlstate STRING,\n",
    "  fail_code STRING\n",
    ");"
   ]
  },
  {
   "cell_type": "code",
   "execution_count": 0,
   "metadata": {
    "application/vnd.databricks.v1+cell": {
     "cellMetadata": {
      "byteLimit": 2048000,
      "rowLimit": 10000
     },
     "inputWidgets": {},
     "nuid": "ec7aec96-f507-46c2-a23b-e6f98e7ec37e",
     "showTitle": false,
     "tableResultSettingsMap": {},
     "title": ""
    }
   },
   "outputs": [],
   "source": [
    "SELECT * FROM error_log ORDER BY id DESC LIMIT 1;"
   ]
  },
  {
   "cell_type": "code",
   "execution_count": 0,
   "metadata": {
    "application/vnd.databricks.v1+cell": {
     "cellMetadata": {
      "byteLimit": 2048000,
      "rowLimit": 10000
     },
     "inputWidgets": {},
     "nuid": "cb028897-feb5-4335-9aed-8ad87c652f63",
     "showTitle": false,
     "tableResultSettingsMap": {},
     "title": ""
    }
   },
   "outputs": [],
   "source": [
    "BEGIN\n",
    "    -- Section 1: Variable Declarations\n",
    "    DECLARE user_id INT DEFAULT 2;\n",
    "    DECLARE user_count BIGINT;\n",
    "    \n",
    "    -- Section 2: Error Handling\n",
    "    -- General error handler for any SQL exceptions\n",
    "    DECLARE EXIT HANDLER FOR SQLEXCEPTION\n",
    "    BEGIN\n",
    "        -- Capture error details\n",
    "        DECLARE error_state STRING;\n",
    "        DECLARE error_msg   STRING;\n",
    "        DECLARE error_cond  STRING;\n",
    "        GET DIAGNOSTICS CONDITION 1\n",
    "            error_cond  = CONDITION_IDENTIFIER,\n",
    "            error_state = RETURNED_SQLSTATE,\n",
    "            error_msg   = MESSAGE_TEXT;\n",
    "        -- Log the error in error_log table\n",
    "        INSERT INTO error_log(error_message, sqlstate, fail_code)\n",
    "        VALUES (\n",
    "            error_msg,\n",
    "            error_state,\n",
    "            error_cond\n",
    "        );\n",
    "    END;\n",
    "    \n",
    "    -- Section 3: Quality Check\n",
    "    -- Fail if user_id is not greater than 0\n",
    "    IF user_id <= 0 THEN \n",
    "        SIGNAL SQLSTATE '45001'\n",
    "        SET MESSAGE_TEXT = 'Invalid user_id: must be > 0';\n",
    "    END IF;\n",
    "    \n",
    "    -- Section 4: User Existence Check\n",
    "    -- Check if the user exists in the users table\n",
    "    SET user_count = (SELECT COUNT(*) \n",
    "    FROM users\n",
    "    WHERE id = user_id);\n",
    "    \n",
    "    -- Section 5: User Insertion or Error Signaling\n",
    "    -- Insert user if not exists, otherwise log and fail\n",
    "    IF user_count = 0 THEN\n",
    "        INSERT INTO users(id, name) \n",
    "        VALUES (user_id, 'New User');\n",
    "    ELSE \n",
    "        SIGNAL SQLSTATE '45000'\n",
    "        SET MESSAGE_TEXT = 'User already existed';\n",
    "    END IF;\n",
    "    \n",
    "END;\n"
   ]
  },
  {
   "cell_type": "code",
   "execution_count": 0,
   "metadata": {
    "application/vnd.databricks.v1+cell": {
     "cellMetadata": {
      "byteLimit": 2048000,
      "rowLimit": 10000
     },
     "inputWidgets": {},
     "nuid": "1e166dcc-6669-4d3c-ac04-945eed865f85",
     "showTitle": false,
     "tableResultSettingsMap": {},
     "title": ""
    }
   },
   "outputs": [],
   "source": [
    "CREATE TABLE inventory (\n",
    "  item_id INT,\n",
    "  quantity INT,\n",
    "  last_update TIMESTAMP\n",
    ");"
   ]
  },
  {
   "cell_type": "code",
   "execution_count": 0,
   "metadata": {
    "application/vnd.databricks.v1+cell": {
     "cellMetadata": {
      "byteLimit": 2048000,
      "rowLimit": 10000
     },
     "inputWidgets": {},
     "nuid": "31c3ea55-2bb3-489c-8fd9-7eed9436f07b",
     "showTitle": false,
     "tableResultSettingsMap": {},
     "title": ""
    }
   },
   "outputs": [],
   "source": [
    "SELECT * FROM inventory;"
   ]
  },
  {
   "cell_type": "code",
   "execution_count": 0,
   "metadata": {
    "application/vnd.databricks.v1+cell": {
     "cellMetadata": {
      "byteLimit": 2048000,
      "rowLimit": 10000
     },
     "inputWidgets": {},
     "nuid": "7b4a7efc-04d2-4173-ade2-225ad8ab990c",
     "showTitle": true,
     "tableResultSettingsMap": {},
     "title": "Conditional DML Operations"
    }
   },
   "outputs": [],
   "source": [
    "BEGIN\n",
    "    DECLARE VARIABLE cnt INT;\n",
    "    -- Check if the record exists\n",
    "    SET cnt = (SELECT COUNT(*) FROM inventory WHERE item_id = 1001);\n",
    "    \n",
    "    IF cnt = 0 THEN \n",
    "       -- Insert new record if not exists\n",
    "       INSERT INTO inventory (item_id, quantity, last_update)\n",
    "       VALUES (1001, 50, current_timestamp());\n",
    "    ELSE \n",
    "       -- If exists, update the quantity instead\n",
    "       UPDATE inventory\n",
    "       SET quantity = quantity + 50, last_update = current_timestamp()\n",
    "       WHERE item_id = 1001;\n",
    "    END IF;\n",
    "END;"
   ]
  },
  {
   "cell_type": "code",
   "execution_count": 0,
   "metadata": {
    "application/vnd.databricks.v1+cell": {
     "cellMetadata": {
      "byteLimit": 2048000,
      "rowLimit": 10000
     },
     "inputWidgets": {},
     "nuid": "0a049a75-20b8-4f5d-bd20-55fd243af89a",
     "showTitle": true,
     "tableResultSettingsMap": {},
     "title": "Staging Tables example"
    }
   },
   "outputs": [],
   "source": [
    "CREATE TABLE raw_source (\n",
    "  id INT,\n",
    "  col1 STRING,\n",
    "  col2 STRING,\n",
    "  load_date DATE\n",
    ");\n",
    "\n",
    "CREATE TABLE final_table (\n",
    "  id INT,\n",
    "  col1 STRING,\n",
    "  col2 STRING\n",
    ");"
   ]
  },
  {
   "cell_type": "code",
   "execution_count": 0,
   "metadata": {
    "application/vnd.databricks.v1+cell": {
     "cellMetadata": {
      "byteLimit": 2048000,
      "rowLimit": 10000
     },
     "inputWidgets": {},
     "nuid": "292af0fe-7af8-4ac6-94b4-3b3b8e497ac7",
     "showTitle": true,
     "tableResultSettingsMap": {},
     "title": "Staging tables"
    }
   },
   "outputs": [],
   "source": [
    "BEGIN\n",
    "    DECLARE VARIABLE staging_table_name STRING;\n",
    "    SET staging_table_name = CONCAT('staging_table_', CAST(UNIX_TIMESTAMP() AS STRING));\n",
    "    \n",
    "    CREATE OR REPLACE TABLE IDENTIFIER(staging_table_name) (\n",
    "        id INT,\n",
    "        col1 STRING,\n",
    "        col2 STRING,\n",
    "        load_date DATE\n",
    "    );\n",
    "    -- Step 1: Load data into staging table\n",
    "    INSERT INTO IDENTIFIER(staging_table_name)\n",
    "    SELECT * \n",
    "    FROM raw_source WHERE load_date = current_date();\n",
    "    \n",
    "    -- Step 2: Remove duplicates in staging (data cleansing)\n",
    "    DELETE FROM IDENTIFIER(staging_table_name)\n",
    "    WHERE id IN (\n",
    "        SELECT id FROM IDENTIFIER(staging_table_name) GROUP BY id HAVING COUNT(*) > 1\n",
    "    );\n",
    "    \n",
    "    -- Step 3: Transform and insert into final table\n",
    "    INSERT INTO final_table (id, col1, col2)\n",
    "    SELECT id, UPPER(col1) AS col1, col2\n",
    "    FROM IDENTIFIER(staging_table_name);\n",
    "    \n",
    "    -- Step 4: Cleanup staging\n",
    "    DROP TABLE IDENTIFIER(staging_table_name);\n",
    "END;"
   ]
  },
  {
   "cell_type": "code",
   "execution_count": 0,
   "metadata": {
    "application/vnd.databricks.v1+cell": {
     "cellMetadata": {
      "byteLimit": 2048000,
      "rowLimit": 10000
     },
     "inputWidgets": {},
     "nuid": "220364e4-b816-4c95-afe4-700214dab5e1",
     "showTitle": true,
     "tableResultSettingsMap": {},
     "title": "division by zero"
    }
   },
   "outputs": [],
   "source": [
    "BEGIN\n",
    "  DECLARE ZERO_DIVIDE CONDITION FOR SQLSTATE '22012';\n",
    "  \n",
    "  -- Specific handler for division by zero\n",
    "  DECLARE EXIT HANDLER FOR ZERO_DIVIDE\n",
    "  BEGIN\n",
    "    VALUES ('Divide by zero encountered');\n",
    "  END;\n",
    "\n",
    "  -- Generic exception handler\n",
    "  DECLARE EXIT HANDLER FOR SQLEXCEPTION\n",
    "  BEGIN\n",
    "    VALUES ('A general error occurred');\n",
    "  END;\n",
    "\n",
    "  SELECT 10 / 0;  -- Raises SQLSTATE '22012'\n",
    "END;\n"
   ]
  },
  {
   "cell_type": "code",
   "execution_count": 0,
   "metadata": {
    "application/vnd.databricks.v1+cell": {
     "cellMetadata": {
      "byteLimit": 2048000,
      "rowLimit": 10000
     },
     "inputWidgets": {},
     "nuid": "d43718d7-c134-47e8-9914-cb14b67deb19",
     "showTitle": false,
     "tableResultSettingsMap": {},
     "title": ""
    }
   },
   "outputs": [],
   "source": [
    "BEGIN\n",
    "  DECLARE EXIT HANDLER FOR SQLEXCEPTION\n",
    "  BEGIN\n",
    "    INSERT INTO error_log VALUES ('An error occurred');\n",
    "  END;\n",
    "\n",
    "  INSERT INTO table1 VALUES (1, 'ok'); \n",
    "  SELECT 10 / 0;     -- triggers an error\n",
    "  INSERT INTO table1 VALUES (2, 'won’t run');\n",
    "END;\n"
   ]
  },
  {
   "cell_type": "code",
   "execution_count": 0,
   "metadata": {
    "application/vnd.databricks.v1+cell": {
     "cellMetadata": {
      "byteLimit": 2048000,
      "rowLimit": 10000
     },
     "inputWidgets": {},
     "nuid": "04c60e88-4de1-4cc4-9d24-98e5c41abae6",
     "showTitle": true,
     "tableResultSettingsMap": {},
     "title": "uniqness check"
    }
   },
   "outputs": [],
   "source": [
    "BEGIN\n",
    "  DECLARE user_id INT DEFAULT 42;\n",
    "  DECLARE user_count BIGINT;\n",
    "\n",
    "  SET user_count = (SELECT COUNT(*) FROM users WHERE id = user_id);\n",
    "\n",
    "  IF user_count = 0 THEN\n",
    "    INSERT INTO users VALUES (user_id, 'New user');\n",
    "  ELSE\n",
    "    -- pretend to update existing record\n",
    "    SELECT 'User already exists. Skipping insert' AS message;\n",
    "  END IF;\n",
    "END;\n"
   ]
  }
 ],
 "metadata": {
  "application/vnd.databricks.v1+notebook": {
   "computePreferences": null,
   "dashboards": [],
   "environmentMetadata": {
    "base_environment": "",
    "environment_version": "2"
   },
   "inputWidgetPreferences": null,
   "language": "sql",
   "notebookMetadata": {},
   "notebookName": "begin end",
   "widgets": {}
  },
  "language_info": {
   "name": "sql"
  }
 },
 "nbformat": 4,
 "nbformat_minor": 0
}
