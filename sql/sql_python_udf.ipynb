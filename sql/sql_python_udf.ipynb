{
 "cells": [
  {
   "cell_type": "code",
   "execution_count": 0,
   "metadata": {
    "application/vnd.databricks.v1+cell": {
     "cellMetadata": {
      "byteLimit": 2048000,
      "rowLimit": 10000
     },
     "inputWidgets": {},
     "nuid": "839648a9-b7e5-4176-898b-a18346800954",
     "showTitle": false,
     "tableResultSettingsMap": {},
     "title": ""
    }
   },
   "outputs": [],
   "source": [
    "CREATE OR REPLACE TABLE city_data (\n",
    "  city_id INT,\n",
    "  city_name STRING,\n",
    "  region STRING\n",
    ");\n",
    "\n",
    "INSERT INTO city_data VALUES\n",
    "  (1, 'New York', 'USA'),\n",
    "  (2, 'New york', 'USA'),\n",
    "  (3, 'Los Angeles', 'USA'),\n",
    "  (4, 'Los Angeles', 'USA'),\n",
    "  (5, 'San Francisco', 'USA'),\n",
    "  (6, 'San Fransisco', 'USA'),\n",
    "  (7, 'São Paulo', 'Brazil'),\n",
    "  (8, 'Sao Paulo', 'Brazil'),\n",
    "  (9, 'München', 'Germany'),\n",
    "  (10, 'Munchen', 'Germany'),\n",
    "  (11, 'Berlin', 'Germany'),\n",
    "  (12, 'Düsseldorf', 'Germany'),\n",
    "  (13, 'Tokyo', 'Japan'),\n",
    "  (14, 'Tokio', 'Japan');\n"
   ]
  },
  {
   "cell_type": "code",
   "execution_count": 0,
   "metadata": {
    "application/vnd.databricks.v1+cell": {
     "cellMetadata": {
      "byteLimit": 2048000,
      "rowLimit": 10000
     },
     "inputWidgets": {},
     "nuid": "ca82111e-6dc2-4fd0-9d08-dfa3c7c76bdf",
     "showTitle": false,
     "tableResultSettingsMap": {},
     "title": ""
    }
   },
   "outputs": [],
   "source": [
    "CREATE OR REPLACE FUNCTION json_city_name(city_name STRING)\n",
    "RETURNS STRING\n",
    "LANGUAGE PYTHON\n",
    "ENVIRONMENT (\n",
    "  dependencies = '[\"simplejson==3.19.*\", \"Unidecode==1.3.*\"]',\n",
    "  environment_version = 'None'\n",
    ")\n",
    "AS $$\n",
    "  import simplejson as json\n",
    "  from unidecode import unidecode\n",
    "  return json.dumps({\"city\": unidecode(city_name)})\n",
    "$$;\n"
   ]
  },
  {
   "cell_type": "code",
   "execution_count": 0,
   "metadata": {
    "application/vnd.databricks.v1+cell": {
     "cellMetadata": {
      "byteLimit": 2048000,
      "rowLimit": 10000
     },
     "inputWidgets": {},
     "nuid": "78fd151d-d664-4a20-ab95-d2627175845e",
     "showTitle": false,
     "tableResultSettingsMap": {},
     "title": ""
    }
   },
   "outputs": [],
   "source": [
    "SELECT city_name, json_city_name(city_name) AS city_json\n",
    "FROM city_data;"
   ]
  },
  {
   "cell_type": "code",
   "execution_count": 0,
   "metadata": {
    "application/vnd.databricks.v1+cell": {
     "cellMetadata": {
      "byteLimit": 2048000,
      "rowLimit": 10000
     },
     "inputWidgets": {},
     "nuid": "ad2d1254-1bf2-45bd-9a1d-fc90fc1b934f",
     "showTitle": false,
     "tableResultSettingsMap": {},
     "title": ""
    }
   },
   "outputs": [],
   "source": [
    "CREATE OR REPLACE FUNCTION json_all_cities(city_names ARRAY<STRING>)\n",
    "RETURNS STRING\n",
    "LANGUAGE PYTHON\n",
    "ENVIRONMENT (\n",
    "  dependencies = '[\"simplejson==3.19.*\", \"Unidecode==1.3.*\"]',\n",
    "  environment_version = 'None'\n",
    ")\n",
    "AS $$\n",
    "  import pandas as pd\n",
    "  import simplejson as json\n",
    "  from unidecode import unidecode\n",
    "  norm_names = [unidecode(name) for name in city_names]\n",
    "  counts = pd.Series(norm_names).value_counts().to_dict()\n",
    "  return json.dumps(counts, indent=2)\n",
    "$$;\n"
   ]
  },
  {
   "cell_type": "code",
   "execution_count": 0,
   "metadata": {
    "application/vnd.databricks.v1+cell": {
     "cellMetadata": {
      "byteLimit": 2048000,
      "rowLimit": 10000
     },
     "inputWidgets": {},
     "nuid": "07c19e0b-dc12-443d-802d-cddbc4d4c7ed",
     "showTitle": false,
     "tableResultSettingsMap": {},
     "title": ""
    }
   },
   "outputs": [],
   "source": [
    "SELECT city_data.region, json_all_cities(collect_list(city_data.city_name)) AS cities_json\n",
    "FROM city_data\n",
    "GROUP BY city_data.region;"
   ]
  },
  {
   "cell_type": "code",
   "execution_count": 0,
   "metadata": {
    "application/vnd.databricks.v1+cell": {
     "cellMetadata": {
      "byteLimit": 2048000,
      "rowLimit": 10000
     },
     "inputWidgets": {},
     "nuid": "06462f66-e605-412c-a929-c8b8641cbf11",
     "showTitle": false,
     "tableResultSettingsMap": {},
     "title": ""
    }
   },
   "outputs": [],
   "source": [
    "CREATE OR REPLACE FUNCTION duplicate_percentage(city_names ARRAY<STRING>)\n",
    "RETURNS ARRAY<FLOAT>\n",
    "LANGUAGE PYTHON\n",
    "ENVIRONMENT (\n",
    "  dependencies = '[\"Unidecode==1.3.*\"]',\n",
    "  environment_version = 'None'\n",
    ")\n",
    "AS $$\n",
    "  import pandas as pd\n",
    "  from unidecode import unidecode\n",
    "\n",
    "  norm = [unidecode(x) for x in city_names]\n",
    "  s = pd.Series(norm)\n",
    "  value_counts = s.value_counts()\n",
    "  duplicates = value_counts[value_counts > 1].sum()\n",
    "  result = round(100 * duplicates / len(s), 2) if len(s) > 0 else 0.0\n",
    "  return [result]\n",
    "$$;"
   ]
  },
  {
   "cell_type": "code",
   "execution_count": 0,
   "metadata": {
    "application/vnd.databricks.v1+cell": {
     "cellMetadata": {
      "byteLimit": 2048000,
      "rowLimit": 10000
     },
     "inputWidgets": {},
     "nuid": "610e42f4-c4fe-4021-ba9d-a02887783033",
     "showTitle": false,
     "tableResultSettingsMap": {},
     "title": ""
    }
   },
   "outputs": [],
   "source": [
    "SELECT city_data.region, duplicate_percentage(collect_list(city_data.city_name)) AS dup_pct\n",
    "FROM city_data\n",
    "GROUP BY city_data.region;"
   ]
  },
  {
   "cell_type": "code",
   "execution_count": 0,
   "metadata": {
    "application/vnd.databricks.v1+cell": {
     "cellMetadata": {
      "byteLimit": 2048000,
      "rowLimit": 10000
     },
     "inputWidgets": {},
     "nuid": "c26ae854-3d2d-43cd-908d-17effa7258b8",
     "showTitle": false,
     "tableResultSettingsMap": {},
     "title": ""
    }
   },
   "outputs": [],
   "source": [
    "CREATE OR REPLACE FUNCTION city_entropy(city_names ARRAY<STRING>)\n",
    "RETURNS ARRAY<FLOAT>\n",
    "LANGUAGE PYTHON\n",
    "ENVIRONMENT (\n",
    "  dependencies = '[\"Unidecode==1.3.*\"]',\n",
    "  environment_version = 'None'\n",
    ")\n",
    "AS $$\n",
    "  import pandas as pd\n",
    "  import numpy as np\n",
    "  from unidecode import unidecode\n",
    "\n",
    "  norm = [unidecode(x) for x in city_names]\n",
    "  s = pd.Series(norm)\n",
    "  probs = s.value_counts(normalize=True)\n",
    "  entropy = -np.sum(probs * np.log2(probs))\n",
    "  return [round(float(entropy), 3)]\n",
    "$$;\n"
   ]
  },
  {
   "cell_type": "code",
   "execution_count": 0,
   "metadata": {
    "application/vnd.databricks.v1+cell": {
     "cellMetadata": {
      "byteLimit": 2048000,
      "rowLimit": 10000
     },
     "inputWidgets": {},
     "nuid": "41646bc8-2aa8-4493-806d-5439e4cff533",
     "showTitle": false,
     "tableResultSettingsMap": {},
     "title": ""
    }
   },
   "outputs": [],
   "source": [
    "SELECT city_data.region, city_entropy(collect_list(city_data.city_name)) AS entropy\n",
    "FROM city_data\n",
    "GROUP BY city_data.region;"
   ]
  }
 ],
 "metadata": {
  "application/vnd.databricks.v1+notebook": {
   "computePreferences": null,
   "dashboards": [],
   "environmentMetadata": {
    "base_environment": "",
    "environment_version": "2"
   },
   "inputWidgetPreferences": null,
   "language": "sql",
   "notebookMetadata": {
    "pythonIndentUnit": 4
   },
   "notebookName": "sql_python_udf",
   "widgets": {}
  },
  "language_info": {
   "name": "sql"
  }
 },
 "nbformat": 4,
 "nbformat_minor": 0
}
