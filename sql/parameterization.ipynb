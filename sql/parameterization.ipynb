{
 "cells": [
  {
   "cell_type": "code",
   "execution_count": 0,
   "metadata": {
    "application/vnd.databricks.v1+cell": {
     "cellMetadata": {
      "byteLimit": 2048000,
      "rowLimit": 10000
     },
     "inputWidgets": {},
     "nuid": "856ad2a5-4694-4efe-a142-0ca56894dfbf",
     "showTitle": false,
     "tableResultSettingsMap": {},
     "title": ""
    }
   },
   "outputs": [],
   "source": [
    "CREATE TABLE employees (\n",
    "  emp_id INT,\n",
    "  name STRING,\n",
    "  sal INT\n",
    ");\n",
    "\n",
    "INSERT INTO employees\n",
    "VALUES\n",
    "  (1, 'John', 12000),\n",
    "  (2, 'Jane', 25000);\n"
   ]
  },
  {
   "cell_type": "code",
   "execution_count": 0,
   "metadata": {
    "application/vnd.databricks.v1+cell": {
     "cellMetadata": {
      "byteLimit": 2048000,
      "rowLimit": 10000
     },
     "inputWidgets": {},
     "nuid": "2ca56f89-3a6d-43b2-8716-018bfc8ecb63",
     "showTitle": false,
     "tableResultSettingsMap": {},
     "title": ""
    }
   },
   "outputs": [],
   "source": [
    "DECLARE OR REPLACE VARIABLE sal_range INT;\n",
    "SET VAR sal_range = 20000;\n",
    "\n",
    "SELECT * FROM employees\n",
    "WHERE sal > sal_range;\n"
   ]
  },
  {
   "cell_type": "code",
   "execution_count": 0,
   "metadata": {
    "application/vnd.databricks.v1+cell": {
     "cellMetadata": {
      "byteLimit": 2048000,
      "rowLimit": 10000
     },
     "inputWidgets": {},
     "nuid": "81ed0d88-602e-4b4d-9c03-516b99ee40b3",
     "showTitle": false,
     "tableResultSettingsMap": {},
     "title": ""
    }
   },
   "outputs": [],
   "source": [
    "SELECT * FROM employees\n",
    "WHERE sal > :sal_range;\n"
   ]
  },
  {
   "cell_type": "code",
   "execution_count": 0,
   "metadata": {
    "application/vnd.databricks.v1+cell": {
     "cellMetadata": {
      "byteLimit": 2048000,
      "rowLimit": 10000
     },
     "inputWidgets": {},
     "nuid": "64cdddbb-4fb1-4575-bf0d-f6733f187679",
     "showTitle": false,
     "tableResultSettingsMap": {},
     "title": ""
    }
   },
   "outputs": [],
   "source": [
    "DECLARE OR REPLACE VARIABLE table_name STRING = 'employees';\n",
    "\n",
    "SELECT * FROM IDENTIFIER(table_name);"
   ]
  },
  {
   "cell_type": "code",
   "execution_count": 0,
   "metadata": {
    "application/vnd.databricks.v1+cell": {
     "cellMetadata": {
      "byteLimit": 2048000,
      "rowLimit": 10000
     },
     "inputWidgets": {},
     "nuid": "8d0b5d47-1db0-4ce9-9e6c-903b949f6598",
     "showTitle": false,
     "tableResultSettingsMap": {},
     "title": ""
    }
   },
   "outputs": [],
   "source": [
    "DECLARE OR REPLACE sqlStr STRING = 'SELECT * FROM employees WHERE sal > :min_sal';\n",
    "\n",
    "EXECUTE IMMEDIATE sqlStr USING 2000 as min_sal;"
   ]
  },
  {
   "cell_type": "code",
   "execution_count": 0,
   "metadata": {
    "application/vnd.databricks.v1+cell": {
     "cellMetadata": {
      "byteLimit": 2048000,
      "rowLimit": 10000
     },
     "inputWidgets": {},
     "nuid": "21a22054-6904-4e02-9866-51c9de14817b",
     "showTitle": false,
     "tableResultSettingsMap": {},
     "title": ""
    }
   },
   "outputs": [],
   "source": [
    "DECLARE OR REPLACE VARIABLE catalog_name STRING = 'workspace';\n",
    "\n",
    "USE CATALOG IDENTIFIER(catalog_name);"
   ]
  },
  {
   "cell_type": "code",
   "execution_count": 0,
   "metadata": {
    "application/vnd.databricks.v1+cell": {
     "cellMetadata": {
      "byteLimit": 2048000,
      "rowLimit": 10000
     },
     "inputWidgets": {},
     "nuid": "ed8561fd-daf5-4177-82cc-ca2ba9fc0f94",
     "showTitle": false,
     "tableResultSettingsMap": {},
     "title": ""
    }
   },
   "outputs": [],
   "source": [
    "\n",
    "DECLARE sql_query_top_1 STRING =\n",
    "  'SELECT sal FROM employees WHERE name = ? ORDER BY sal DESC LIMIT 1';\n",
    "DECLARE user_salary INT;\n",
    "DECLARE user_name STRING = 'John';\n",
    "\n",
    "EXECUTE IMMEDIATE sql_query_top_1 INTO user_salary USING user_name;\n",
    "\n",
    "SELECT user_salary; -- we put result to variable"
   ]
  }
 ],
 "metadata": {
  "application/vnd.databricks.v1+notebook": {
   "computePreferences": null,
   "dashboards": [],
   "environmentMetadata": {
    "base_environment": "",
    "environment_version": "2"
   },
   "language": "sql",
   "notebookMetadata": {},
   "notebookName": "parameterization",
   "widgets": {
    "sal_range": {
     "currentValue": "100",
     "nuid": "573ceebc-d84d-4580-9727-b7c20624de2e",
     "typedWidgetInfo": {
      "autoCreated": true,
      "defaultValue": "",
      "label": null,
      "name": "sal_range",
      "options": {
       "widgetDisplayType": "Text",
       "validationRegex": null
      },
      "parameterDataType": "String"
     },
     "widgetInfo": {
      "widgetType": "text",
      "defaultValue": "",
      "label": null,
      "name": "sal_range",
      "options": {
       "widgetType": "text",
       "autoCreated": true,
       "validationRegex": null
      }
     }
    }
   }
  },
  "language_info": {
   "name": "sql"
  }
 },
 "nbformat": 4,
 "nbformat_minor": 0
}
