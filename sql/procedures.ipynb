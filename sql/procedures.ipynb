{
 "cells": [
  {
   "cell_type": "code",
   "execution_count": 0,
   "metadata": {
    "application/vnd.databricks.v1+cell": {
     "cellMetadata": {
      "byteLimit": 2048000,
      "rowLimit": 10000
     },
     "inputWidgets": {},
     "nuid": "8c8a3151-20cc-440a-bb30-061bd293defc",
     "showTitle": false,
     "tableResultSettingsMap": {},
     "title": ""
    }
   },
   "outputs": [],
   "source": [
    "CREATE TABLE archived_orders (\n",
    "    order_id INT,\n",
    "    order_date DATE,\n",
    "    customer_id INT,\n",
    "    amount DECIMAL(10, 2)\n",
    ");\n",
    "\n",
    "CREATE TABLE orders (\n",
    "    order_id INT,\n",
    "    order_date DATE,\n",
    "    customer_id INT,\n",
    "    amount DECIMAL(10, 2)\n",
    ");\n",
    "\n",
    "INSERT INTO orders (order_id, order_date, customer_id, amount) VALUES\n",
    "(1, '2023-05-15', 101, 250.00),\n",
    "(2, '2023-11-20', 102, 150.00),\n",
    "(3, '2025-02-10', 103, 300.00),\n",
    "(4, '2025-04-25', 104, 450.00);"
   ]
  },
  {
   "cell_type": "code",
   "execution_count": 0,
   "metadata": {
    "application/vnd.databricks.v1+cell": {
     "cellMetadata": {
      "byteLimit": 2048000,
      "rowLimit": 10000
     },
     "inputWidgets": {},
     "nuid": "e6c57afb-db15-40dd-b5e3-e00cafa3ee5b",
     "showTitle": false,
     "tableResultSettingsMap": {},
     "title": ""
    }
   },
   "outputs": [],
   "source": [
    "CREATE PROCEDURE archive_old_orders(cut_date DATE)\n",
    "LANGUAGE SQL\n",
    "SQL SECURITY INVOKER\n",
    "AS BEGIN\n",
    "    INSERT INTO archived_orders\n",
    "        SELECT * FROM orders WHERE order_date < cut_date;\n",
    "\n",
    "    DELETE FROM orders WHERE order_date < cut_date;\n",
    "END;"
   ]
  },
  {
   "cell_type": "code",
   "execution_count": 0,
   "metadata": {
    "application/vnd.databricks.v1+cell": {
     "cellMetadata": {
      "byteLimit": 2048000,
      "rowLimit": 10000
     },
     "inputWidgets": {},
     "nuid": "97a30d7e-f6f1-411a-8e35-3fcb6a3b626b",
     "showTitle": false,
     "tableResultSettingsMap": {},
     "title": ""
    }
   },
   "outputs": [],
   "source": [
    "CALL archive_old_orders(date'2024-01-01')"
   ]
  },
  {
   "cell_type": "code",
   "execution_count": 0,
   "metadata": {
    "application/vnd.databricks.v1+cell": {
     "cellMetadata": {
      "byteLimit": 2048000,
      "rowLimit": 10000
     },
     "inputWidgets": {},
     "nuid": "97cc373c-49de-4115-9550-3ea77a268101",
     "showTitle": false,
     "tableResultSettingsMap": {},
     "title": ""
    }
   },
   "outputs": [],
   "source": [
    "CREATE TABLE inventory (\n",
    "    id INT,\n",
    "    product_name STRING,\n",
    "    stock INT\n",
    ");\n",
    "\n",
    "INSERT INTO inventory (id, product_name, stock) VALUES\n",
    "(1001, 'Product A', 100),\n",
    "(1002, 'Product B', 200),\n",
    "(1003, 'Product C', 150);"
   ]
  },
  {
   "cell_type": "code",
   "execution_count": 0,
   "metadata": {
    "application/vnd.databricks.v1+cell": {
     "cellMetadata": {
      "byteLimit": 2048000,
      "rowLimit": 10000
     },
     "inputWidgets": {},
     "nuid": "6a1414ae-1f64-4476-82af-6da7777e5989",
     "showTitle": false,
     "tableResultSettingsMap": {},
     "title": ""
    }
   },
   "outputs": [],
   "source": [
    "CREATE OR REPLACE PROCEDURE update_inventory(product_id INT, quantity INT)\n",
    "LANGUAGE SQL\n",
    "SQL SECURITY INVOKER\n",
    "AS BEGIN\n",
    "    UPDATE inventory\n",
    "    SET stock = (stock - update_inventory.quantity)\n",
    "    WHERE id = update_inventory.product_id;\n",
    "END;"
   ]
  },
  {
   "cell_type": "code",
   "execution_count": 0,
   "metadata": {
    "application/vnd.databricks.v1+cell": {
     "cellMetadata": {
      "byteLimit": 2048000,
      "rowLimit": 10000
     },
     "inputWidgets": {},
     "nuid": "e6c79137-66d8-447a-bc56-3d00f1d55ccc",
     "showTitle": false,
     "tableResultSettingsMap": {},
     "title": ""
    }
   },
   "outputs": [],
   "source": [
    "CALL update_inventory(1001, 20);\n",
    "CALL update_inventory(1002, 50);"
   ]
  },
  {
   "cell_type": "code",
   "execution_count": 0,
   "metadata": {
    "application/vnd.databricks.v1+cell": {
     "cellMetadata": {
      "byteLimit": 2048000,
      "rowLimit": 10000
     },
     "inputWidgets": {},
     "nuid": "358f2ad1-842a-4ce7-9d6b-ca672236af71",
     "showTitle": false,
     "tableResultSettingsMap": {},
     "title": ""
    }
   },
   "outputs": [],
   "source": [
    "-- SQL Function (Only returns single value)\n",
    "CREATE FUNCTION calculate_tax(amount DECIMAL(10,2))\n",
    "RETURNS DECIMAL(10,2)\n",
    "RETURN amount * 0.08;\n",
    "\n",
    "SELECT calculate_tax(100); -- Returns 8.00"
   ]
  },
  {
   "cell_type": "code",
   "execution_count": 0,
   "metadata": {
    "application/vnd.databricks.v1+cell": {
     "cellMetadata": {
      "byteLimit": 2048000,
      "rowLimit": 10000
     },
     "inputWidgets": {},
     "nuid": "e8b42f97-e24b-4bb7-b935-a3b5a1ea3592",
     "showTitle": false,
     "tableResultSettingsMap": {},
     "title": ""
    }
   },
   "outputs": [],
   "source": [
    "-- Stored Procedure (Multiple OUT params)\n",
    "CREATE PROCEDURE calculate_tax_and_total(\n",
    "    IN amount DECIMAL(10,2),\n",
    "    OUT tax DECIMAL(10,2),\n",
    "    OUT total DECIMAL(10,2)\n",
    ")\n",
    "LANGUAGE SQL\n",
    "SQL SECURITY INVOKER\n",
    "AS\n",
    "BEGIN\n",
    "    SET tax = amount * 0.08;\n",
    "    SET total = amount + tax;\n",
    "END;"
   ]
  },
  {
   "cell_type": "code",
   "execution_count": 0,
   "metadata": {
    "application/vnd.databricks.v1+cell": {
     "cellMetadata": {
      "byteLimit": 2048000,
      "rowLimit": 10000
     },
     "inputWidgets": {},
     "nuid": "aad8193a-fc2c-40e0-887b-f4e7b9b55f27",
     "showTitle": false,
     "tableResultSettingsMap": {},
     "title": ""
    }
   },
   "outputs": [],
   "source": [
    "DECLARE tax DECIMAL(10,2);\n",
    "DECLARE total DECIMAL(10,2);\n",
    "CALL calculate_tax_and_total(100, tax, total);\n",
    "SELECT tax, total;"
   ]
  },
  {
   "cell_type": "code",
   "execution_count": 0,
   "metadata": {
    "application/vnd.databricks.v1+cell": {
     "cellMetadata": {
      "byteLimit": 2048000,
      "rowLimit": 10000
     },
     "inputWidgets": {},
     "nuid": "a3a6500d-fa53-407d-8cd9-9147a08b25ef",
     "showTitle": false,
     "tableResultSettingsMap": {},
     "title": ""
    }
   },
   "outputs": [],
   "source": [
    "CREATE OR REPLACE TABLE rate_log (\n",
    "    rate DECIMAL(10,2),\n",
    "    log_date DATE,\n",
    "    source STRING\n",
    ");"
   ]
  },
  {
   "cell_type": "code",
   "execution_count": 0,
   "metadata": {
    "application/vnd.databricks.v1+cell": {
     "cellMetadata": {
      "byteLimit": 2048000,
      "rowLimit": 10000
     },
     "inputWidgets": {},
     "nuid": "93184109-934a-4121-a8c9-810f63c7c59b",
     "showTitle": false,
     "tableResultSettingsMap": {},
     "title": ""
    }
   },
   "outputs": [],
   "source": [
    "-- Inline Function -- No DML allowed\n",
    "CREATE OR REPLACE FUNCTION usd_to_eur_func(usd DECIMAL(10,2))\n",
    "RETURNS DECIMAL(10,2)\n",
    "RETURN usd * 0.92;\n",
    "\n",
    "-- can be used inside SELECT\n",
    "INSERT INTO rate_log (rate, log_date, source)\n",
    "SELECT usd_to_eur_func(10), current_date(), 'func';"
   ]
  },
  {
   "cell_type": "code",
   "execution_count": 0,
   "metadata": {
    "application/vnd.databricks.v1+cell": {
     "cellMetadata": {
      "byteLimit": 2048000,
      "rowLimit": 10000
     },
     "inputWidgets": {},
     "nuid": "a02dadc6-1173-443d-9e11-6d156774f053",
     "showTitle": false,
     "tableResultSettingsMap": {},
     "title": ""
    }
   },
   "outputs": [],
   "source": [
    "-- Stored Procedure, can include DML bur must be CALLed separately:\n",
    "CREATE OR REPLACE PROCEDURE usd_to_eur_proc(IN usd DECIMAL(10,2))\n",
    "LANGUAGE SQL\n",
    "SQL SECURITY INVOKER\n",
    "AS\n",
    "BEGIN\n",
    "    DECLARE eur DECIMAL(10,2);\n",
    "    SET eur = usd * 0.92;\n",
    "    INSERT INTO rate_log(rate, log_date, source) VALUES(eur, current_date(), 'proc');\n",
    "END;"
   ]
  },
  {
   "cell_type": "code",
   "execution_count": 0,
   "metadata": {
    "application/vnd.databricks.v1+cell": {
     "cellMetadata": {
      "byteLimit": 2048000,
      "rowLimit": 10000
     },
     "inputWidgets": {},
     "nuid": "40558bec-a0fe-4fa1-93da-68b710354578",
     "showTitle": false,
     "tableResultSettingsMap": {},
     "title": ""
    }
   },
   "outputs": [],
   "source": [
    "-- standalone call\n",
    "CALL usd_to_eur_proc(10); "
   ]
  },
  {
   "cell_type": "code",
   "execution_count": 0,
   "metadata": {
    "application/vnd.databricks.v1+cell": {
     "cellMetadata": {
      "byteLimit": 2048000,
      "rowLimit": 10000
     },
     "inputWidgets": {},
     "nuid": "d68a6040-1a0d-44d7-9e7c-f6167b3bf7f3",
     "showTitle": false,
     "tableResultSettingsMap": {},
     "title": ""
    }
   },
   "outputs": [],
   "source": [
    "SELECT * FROM rate_log;"
   ]
  },
  {
   "cell_type": "code",
   "execution_count": 0,
   "metadata": {
    "application/vnd.databricks.v1+cell": {
     "cellMetadata": {
      "byteLimit": 2048000,
      "rowLimit": 10000
     },
     "inputWidgets": {},
     "nuid": "d1c084c3-021d-4675-a120-03f1e5dc9e44",
     "showTitle": true,
     "tableResultSettingsMap": {},
     "title": "Instead of Python UDF:"
    }
   },
   "outputs": [],
   "source": [
    "CREATE OR REPLACE PROCEDURE validate_card(IN card_number STRING)\n",
    "LANGUAGE SQL\n",
    "SQL SECURITY INVOKER\n",
    "AS\n",
    "BEGIN\n",
    "    DECLARE total INT DEFAULT 0;\n",
    "    DECLARE pos INT DEFAULT length(card_number);\n",
    "    DECLARE idx INT DEFAULT 0;\n",
    "    DECLARE digit INT;\n",
    "    -- Loop through digits from right (pos = length) to left (pos = 1)\n",
    "    WHILE pos > 0 DO\n",
    "        SET digit = CAST(SUBSTRING(card_number, pos, 1) AS INT);\n",
    "        IF idx % 2 = 1 THEN\n",
    "            -- Double every second digit and subtract 9 if result >= 10\n",
    "            SET digit = digit * 2;\n",
    "            IF digit > 9 THEN \n",
    "                SET digit = digit - 9;\n",
    "            END IF;\n",
    "        END IF;\n",
    "        SET total = total + digit;\n",
    "        SET idx = idx + 1;\n",
    "        SET pos = pos - 1;\n",
    "    END WHILE;\n",
    "    IF total % 10 = 0 THEN\n",
    "        SELECT 'VALID' AS result;\n",
    "    ELSE\n",
    "        SELECT 'INVALID' AS result;\n",
    "    END IF;\n",
    "END;\n"
   ]
  },
  {
   "cell_type": "code",
   "execution_count": 0,
   "metadata": {
    "application/vnd.databricks.v1+cell": {
     "cellMetadata": {
      "byteLimit": 2048000,
      "rowLimit": 10000
     },
     "inputWidgets": {},
     "nuid": "2a76ec26-d8e6-42a1-a245-d9f570f54ddc",
     "showTitle": false,
     "tableResultSettingsMap": {},
     "title": ""
    }
   },
   "outputs": [],
   "source": [
    "CALL validate_card('3434343434343434')"
   ]
  }
 ],
 "metadata": {
  "application/vnd.databricks.v1+notebook": {
   "computePreferences": null,
   "dashboards": [],
   "environmentMetadata": {
    "base_environment": "",
    "environment_version": "2"
   },
   "inputWidgetPreferences": null,
   "language": "sql",
   "notebookMetadata": {
    "pythonIndentUnit": 4
   },
   "notebookName": "procedures",
   "widgets": {}
  },
  "language_info": {
   "name": "sql"
  }
 },
 "nbformat": 4,
 "nbformat_minor": 0
}
