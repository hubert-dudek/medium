{
 "cells": [
  {
   "cell_type": "code",
   "execution_count": 0,
   "metadata": {
    "application/vnd.databricks.v1+cell": {
     "cellMetadata": {
      "byteLimit": 2048000,
      "implicitDf": true,
      "rowLimit": 10000
     },
     "inputWidgets": {},
     "nuid": "0d57f583-ce30-49e3-b3d7-d949964d7eed",
     "showTitle": false,
     "tableResultSettingsMap": {},
     "title": ""
    }
   },
   "outputs": [],
   "source": [
    "%sql\n",
    "-- Create a service credential using an Azure Managed Identity (Access Connector)\n",
    "CREATE SERVICE CREDENTIAL `key-vault-access-connector`\n",
    "WITH AZURE_MANAGED_IDENTITY (\n",
    "    ACCESS_CONNECTOR_ID = '/subscriptions/5541a38c-82da-4ed3-9934-ccf78d767614/resourceGroups/databrickster/providers/Microsoft.Databricks/accessConnectors/key-vault-access-connector'\n",
    ");\n"
   ]
  },
  {
   "cell_type": "code",
   "execution_count": 0,
   "metadata": {
    "application/vnd.databricks.v1+cell": {
     "cellMetadata": {},
     "inputWidgets": {},
     "nuid": "9491a8b4-c55c-48e0-bbd0-caa14ea61112",
     "showTitle": false,
     "tableResultSettingsMap": {},
     "title": ""
    }
   },
   "outputs": [],
   "source": [
    "%sql\n",
    "GRANT ACCESS ON SERVICE CREDENTIAL `key-vault-access-connector` TO `Testowy`;"
   ]
  },
  {
   "cell_type": "code",
   "execution_count": 0,
   "metadata": {
    "application/vnd.databricks.v1+cell": {
     "cellMetadata": {
      "byteLimit": 2048000,
      "rowLimit": 10000
     },
     "inputWidgets": {},
     "nuid": "bb114d77-baf4-4f02-9d65-46246046c85c",
     "showTitle": false,
     "tableResultSettingsMap": {},
     "title": ""
    }
   },
   "outputs": [],
   "source": [
    "from azure.keyvault.secrets import SecretClient\n",
    "\n",
    "vault_url = \"https://dudekkeyvault.vault.azure.net/\"\n",
    "\n",
    "\n",
    "credential = dbutils.credentials.getServiceCredentialsProvider(\n",
    "    \"key-vault-access-connector\"\n",
    ")\n",
    "client = SecretClient(\n",
    "    vault_url=vault_url, \n",
    "    credential=credential)\n",
    "secret_value = client.get_secret(\"my-secret\").value"
   ]
  },
  {
   "cell_type": "code",
   "execution_count": 0,
   "metadata": {
    "application/vnd.databricks.v1+cell": {
     "cellMetadata": {
      "byteLimit": 2048000,
      "rowLimit": 10000
     },
     "inputWidgets": {},
     "nuid": "b792ae73-5ed1-499f-b83b-4a464a9a8faf",
     "showTitle": false,
     "tableResultSettingsMap": {},
     "title": ""
    }
   },
   "outputs": [],
   "source": [
    "secret_value = client.get_secret(\"my-secret\").value\n",
    "print(\"Got secret:\", secret_value[:4], \"...[redacted]\")"
   ]
  },
  {
   "cell_type": "code",
   "execution_count": 0,
   "metadata": {
    "application/vnd.databricks.v1+cell": {
     "cellMetadata": {},
     "inputWidgets": {},
     "nuid": "11ec5b65-38f0-4282-9265-2944cf11884e",
     "showTitle": false,
     "tableResultSettingsMap": {},
     "title": ""
    }
   },
   "outputs": [],
   "source": [
    "dbutils.secrets.get(\n",
    "    scope=\"my-scope\", \n",
    "    key=\"my-key\")"
   ]
  }
 ],
 "metadata": {
  "application/vnd.databricks.v1+notebook": {
   "computePreferences": {
    "hardware": {
     "accelerator": null,
     "gpuPoolId": null,
     "memory": null
    }
   },
   "dashboards": [],
   "environmentMetadata": {
    "base_environment": "",
    "dependencies": [
     "azure-keyvault-secrets"
    ],
    "environment_version": "2"
   },
   "inputWidgetPreferences": null,
   "language": "python",
   "notebookMetadata": {
    "mostRecentlyExecutedCommandWithImplicitDF": {
     "commandId": 8238437447145167,
     "dataframes": [
      "_sqldf"
     ]
    },
    "pythonIndentUnit": 4
   },
   "notebookName": "service credentials",
   "widgets": {}
  },
  "language_info": {
   "name": "python"
  }
 },
 "nbformat": 4,
 "nbformat_minor": 0
}
