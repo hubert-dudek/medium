{
 "cells": [
  {
   "cell_type": "markdown",
   "metadata": {
    "application/vnd.databricks.v1+cell": {
     "cellMetadata": {},
     "inputWidgets": {},
     "nuid": "3eec6717-4313-4f12-a053-be4074ae75c4",
     "showTitle": false,
     "tableResultSettingsMap": {},
     "title": ""
    }
   },
   "source": [
    "![tableflow.jpeg](./images/tableflow.jpeg \"tableflow.jpeg\")"
   ]
  },
  {
   "cell_type": "markdown",
   "metadata": {
    "application/vnd.databricks.v1+cell": {
     "cellMetadata": {},
     "inputWidgets": {},
     "nuid": "11c41ac3-1fc0-4000-90f3-3e4e0676ecff",
     "showTitle": false,
     "tableResultSettingsMap": {},
     "title": ""
    }
   },
   "source": [
    "Delta Live Tables support sinks"
   ]
  },
  {
   "cell_type": "code",
   "execution_count": 0,
   "metadata": {
    "application/vnd.databricks.v1+cell": {
     "cellMetadata": {},
     "inputWidgets": {},
     "nuid": "6685386b-555e-4dfd-b5c8-1adb835a82d4",
     "showTitle": false,
     "tableResultSettingsMap": {},
     "title": ""
    }
   },
   "outputs": [],
   "source": [
    "topic_name = \"dlt-sink\"\n",
    "eh_namespace_name = \"dlt-eventhub\"\n",
    "bootstrap_servers = f\"{eh_namespace_name}.servicebus.windows.net:9093\"\n",
    "connection_string = dbutils.secrets.get(scope=\"secret-lab\", key=\"kafka-connection-string\")\n",
    "\n",
    "eh_sasl = 'kafkashaded.org.apache.kafka.common.security.plain.PlainLoginModule' \\\n",
    "  + f' required username=\"$ConnectionString\" password=\"{connection_string}\";'\n",
    "\n",
    "dlt.create_sink(\n",
    "name = \"eh_sink\",\n",
    "format = \"kafka\",\n",
    "options = {\n",
    "    \"kafka.bootstrap.servers\": bootstrap_servers,\n",
    "    \"kafka.sasl.mechanism\": \"PLAIN\",\n",
    "    \"kafka.security.protocol\": \"SASL_SSL\",\n",
    "    \"kafka.sasl.jaas.config\": eh_sasl,\n",
    "    \"topic\": topic_name\n",
    "  }\n",
    ")\n"
   ]
  },
  {
   "cell_type": "markdown",
   "metadata": {
    "application/vnd.databricks.v1+cell": {
     "cellMetadata": {},
     "inputWidgets": {},
     "nuid": "11277254-235f-4a77-8cb8-f768997a29bf",
     "showTitle": false,
     "tableResultSettingsMap": {},
     "title": ""
    }
   },
   "source": [
    "Delta Live Tables now supports publishing to tables in multiple schemas and catalogs"
   ]
  },
  {
   "cell_type": "code",
   "execution_count": 0,
   "metadata": {
    "application/vnd.databricks.v1+cell": {
     "cellMetadata": {
      "byteLimit": 2048000,
      "rowLimit": 10000
     },
     "inputWidgets": {},
     "nuid": "e83c8659-5fc6-4ea4-b302-8e175365d90e",
     "showTitle": false,
     "tableResultSettingsMap": {},
     "title": ""
    }
   },
   "outputs": [],
   "source": [
    "%sql\n",
    "USE main;"
   ]
  },
  {
   "cell_type": "code",
   "execution_count": 0,
   "metadata": {
    "application/vnd.databricks.v1+cell": {
     "cellMetadata": {},
     "inputWidgets": {},
     "nuid": "c2fd4fa8-4808-4598-9eb1-5f3ed906d9ac",
     "showTitle": false,
     "tableResultSettingsMap": {},
     "title": ""
    }
   },
   "outputs": [],
   "source": [
    "%sql\n",
    "CREATE OR REFRESH MATERIALIZED VIEW main.shop.transation_summary AS\n",
    "SELECT account_id,\n",
    "  COUNT(txn_id) txn_count,\n",
    "  SUM(txn_amount) account_revenue\n",
    "FROM main.sales.transactions_table\n",
    "GROUP BY account_id;"
   ]
  }
 ],
 "metadata": {
  "application/vnd.databricks.v1+notebook": {
   "computePreferences": null,
   "dashboards": [],
   "environmentMetadata": {
    "base_environment": "",
    "environment_version": "2"
   },
   "language": "python",
   "notebookMetadata": {
    "pythonIndentUnit": 4
   },
   "notebookName": "06 more kafka and dlt",
   "widgets": {}
  },
  "language_info": {
   "name": "python"
  }
 },
 "nbformat": 4,
 "nbformat_minor": 0
}
