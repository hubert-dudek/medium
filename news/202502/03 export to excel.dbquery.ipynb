{
 "cells": [
  {
   "cell_type": "code",
   "execution_count": 0,
   "metadata": {
    "application/vnd.databricks.v1+cell": {
     "cellMetadata": {
      "byteLimit": 10485760,
      "rowLimit": 1000
     },
     "inputWidgets": {},
     "nuid": "cedd4405-22ed-4c91-a7e2-c619ef2913c1",
     "showTitle": false,
     "tableResultSettingsMap": {},
     "title": ""
    }
   },
   "outputs": [],
   "source": [
    "SELECT\n",
    "  T.pickup_zip,\n",
    "  T.dropoff_zip,\n",
    "  T.route as `Route`,\n",
    "  T.frequency as `Number Trips`,\n",
    "  T.total_fare as `Total Revenue`\n",
    "FROM\n",
    "  (\n",
    "    SELECT\n",
    "      pickup_zip,\n",
    "      dropoff_zip,\n",
    "      concat(pickup_zip, '-', dropoff_zip) AS route,\n",
    "      count(*) as frequency,\n",
    "      SUM(fare_amount) as total_fare\n",
    "    FROM\n",
    "      `samples`.`nyctaxi`.`trips`\n",
    "    GROUP BY\n",
    "       1,2,3\n",
    "  ) T\n",
    "ORDER BY\n",
    "  1 ASC"
   ]
  }
 ],
 "metadata": {
  "application/vnd.databricks.v1+notebook": {
   "computePreferences": null,
   "dashboards": [],
   "environmentMetadata": null,
   "language": "sql",
   "notebookMetadata": {
    "pythonIndentUnit": 4,
    "sqlQueryOptions": {
     "applyAutoLimit": true,
     "catalog": "main",
     "schema": "default"
    }
   },
   "notebookName": "03 export to excel.dbquery.ipynb",
   "widgets": {}
  },
  "language_info": {
   "name": "sql"
  }
 },
 "nbformat": 4,
 "nbformat_minor": 0
}
