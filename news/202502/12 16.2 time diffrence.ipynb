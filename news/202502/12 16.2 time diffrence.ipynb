{
 "cells": [
  {
   "cell_type": "markdown",
   "metadata": {
    "application/vnd.databricks.v1+cell": {
     "cellMetadata": {},
     "inputWidgets": {},
     "nuid": "30b148c4-4d2e-4752-9784-176d828f070b",
     "showTitle": false,
     "tableResultSettingsMap": {},
     "title": ""
    }
   },
   "source": [
    "Use the timestampdiff & timestampadd in generated column expressions."
   ]
  },
  {
   "cell_type": "code",
   "execution_count": 0,
   "metadata": {
    "application/vnd.databricks.v1+cell": {
     "cellMetadata": {
      "byteLimit": 2048000,
      "rowLimit": 10000
     },
     "inputWidgets": {},
     "nuid": "8014bb2d-8851-482f-8e7b-8e5880546dc0",
     "showTitle": false,
     "tableResultSettingsMap": {},
     "title": ""
    }
   },
   "outputs": [],
   "source": [
    "-- Create a Delta table with a generated column using TIMESTAMPDIFF and TIMESTAMPADD\n",
    "CREATE OR REPLACE TABLE delta_time_difference_example (\n",
    "    id BIGINT GENERATED ALWAYS AS IDENTITY,\n",
    "    start_time TIMESTAMP,\n",
    "    end_time TIMESTAMP,\n",
    "    time_difference_minutes BIGINT GENERATED ALWAYS AS (TIMESTAMPDIFF(MINUTE, start_time, end_time)),\n",
    "    adjusted_end_time TIMESTAMP GENERATED ALWAYS AS (TIMESTAMPADD(MINUTE, 10, end_time))\n",
    ") USING DELTA;\n",
    "\n",
    "-- Insert sample data\n",
    "INSERT INTO delta_time_difference_example (start_time, end_time) VALUES\n",
    "('2025-02-12 08:00:00', '2025-02-12 10:30:00');\n",
    "\n",
    "-- Select from the table\n",
    "SELECT * FROM delta_time_difference_example;"
   ]
  }
 ],
 "metadata": {
  "application/vnd.databricks.v1+notebook": {
   "computePreferences": null,
   "dashboards": [],
   "environmentMetadata": {
    "base_environment": "",
    "environment_version": "2"
   },
   "language": "sql",
   "notebookMetadata": {
    "pythonIndentUnit": 4
   },
   "notebookName": "12 16.2 time diffrence",
   "widgets": {}
  },
  "language_info": {
   "name": "sql"
  }
 },
 "nbformat": 4,
 "nbformat_minor": 0
}
