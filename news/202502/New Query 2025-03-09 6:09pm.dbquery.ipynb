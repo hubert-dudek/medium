{
 "cells": [
  {
   "cell_type": "code",
   "execution_count": 0,
   "metadata": {
    "application/vnd.databricks.v1+cell": {
     "cellMetadata": {
      "byteLimit": 10485760,
      "rowLimit": 1000
     },
     "inputWidgets": {},
     "nuid": "dd69d35e-762f-4df9-8039-8b248be0968e",
     "showTitle": false,
     "tableResultSettingsMap": {},
     "title": ""
    }
   },
   "outputs": [],
   "source": [
    "SELECT custom_tags FROM billing.usage;\n",
    "\n",
    "CREATE OR REPLACE TABLE main.default.test ( ID BIGINT GENERATED ALWAYS AS IDENTITY  ,tags MAP<STRING, STRING> );\n",
    "\n",
    "INSERT INTO main.default.test (tags) SELECT custom_tags AS tags FROM billing.usage;\n",
    "\n",
    "\n",
    "SELECT * FROM main.default.test;"
   ]
  }
 ],
 "metadata": {
  "application/vnd.databricks.v1+notebook": {
   "computePreferences": null,
   "dashboards": [],
   "environmentMetadata": null,
   "language": "sql",
   "notebookMetadata": {
    "sqlQueryOptions": {
     "applyAutoLimit": true,
     "catalog": "system",
     "schema": "access"
    }
   },
   "notebookName": "New Query 2025-03-09 6:09pm.dbquery.ipynb",
   "widgets": {}
  },
  "language_info": {
   "name": "sql"
  }
 },
 "nbformat": 4,
 "nbformat_minor": 0
}
