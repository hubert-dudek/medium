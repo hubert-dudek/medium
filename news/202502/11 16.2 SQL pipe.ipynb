{
 "cells": [
  {
   "cell_type": "markdown",
   "metadata": {
    "application/vnd.databricks.v1+cell": {
     "cellMetadata": {},
     "inputWidgets": {},
     "nuid": "c1311d80-f6d4-4c90-8d60-81c5e895597e",
     "showTitle": false,
     "tableResultSettingsMap": {},
     "title": ""
    }
   },
   "source": [
    "<img src=\"./images/pipe.png\" alt=\"pipe.png\" width=\"700px\">"
   ]
  },
  {
   "cell_type": "code",
   "execution_count": 0,
   "metadata": {
    "application/vnd.databricks.v1+cell": {
     "cellMetadata": {
      "byteLimit": 2048000,
      "rowLimit": 10000
     },
     "inputWidgets": {},
     "nuid": "f3c9ee44-d6ca-44b2-be5e-563dfdf72715",
     "showTitle": false,
     "tableResultSettingsMap": {},
     "title": ""
    }
   },
   "outputs": [],
   "source": [
    "CREATE OR REPLACE TEMPORARY VIEW users (name, age) AS\n",
    "VALUES\n",
    "  ('Alice', 31),\n",
    "  ('Bob', 28),\n",
    "  ('Cindy', 35);"
   ]
  },
  {
   "cell_type": "code",
   "execution_count": 0,
   "metadata": {
    "application/vnd.databricks.v1+cell": {
     "cellMetadata": {
      "byteLimit": 2048000,
      "rowLimit": 10000
     },
     "inputWidgets": {},
     "nuid": "d9f2ec03-aeda-4404-a6ee-6fa1c407c27c",
     "showTitle": true,
     "tableResultSettingsMap": {},
     "title": "SQL pipe"
    }
   },
   "outputs": [],
   "source": [
    "FROM users\n",
    "|> WHERE age > 30;"
   ]
  },
  {
   "cell_type": "code",
   "execution_count": 0,
   "metadata": {
    "application/vnd.databricks.v1+cell": {
     "cellMetadata": {
      "byteLimit": 2048000,
      "rowLimit": 10000
     },
     "inputWidgets": {},
     "nuid": "cdd351c4-6f23-4c52-9562-1472c8fb3d38",
     "showTitle": true,
     "tableResultSettingsMap": {},
     "title": "EXECUTE IMMEDIATE"
    }
   },
   "outputs": [],
   "source": [
    "-- 1. Define variables for parts of the query\n",
    "DECLARE base_table STRING DEFAULT 'users';\n",
    "DECLARE age_filter STRING DEFAULT 'age  > 30';\n",
    "\n",
    "-- 2. Build the pipeline query string using concatenation\n",
    "DECLARE pipeline_sql STRING;\n",
    "SET VARIABLE pipeline_sql = \n",
    "  'FROM ' || base_table || \n",
    "  ' |> WHERE ' || age_filter || \n",
    "  ' |> SELECT name, age'; \n",
    "\n",
    "-- You can inspect the constructed query\n",
    "SELECT pipeline_sql; -- FROM users |> WHERE age  > 30 |> SELECT name, age\n",
    "\n",
    "-- 3. Execute the dynamically constructed SQL query\n",
    "EXECUTE IMMEDIATE pipeline_sql;"
   ]
  },
  {
   "cell_type": "code",
   "execution_count": 0,
   "metadata": {
    "application/vnd.databricks.v1+cell": {
     "cellMetadata": {
      "byteLimit": 2048000,
      "rowLimit": 10000
     },
     "inputWidgets": {},
     "nuid": "fe521680-6ca2-48f9-94a5-0cb8acc65e12",
     "showTitle": false,
     "tableResultSettingsMap": {},
     "title": ""
    }
   },
   "outputs": [],
   "source": [
    "%python\n",
    "class QueryBuilder:\n",
    "    def __init__(self, table):\n",
    "        self.table = table      # Table name for FROM clause\n",
    "        self.filter = None      # WHERE condition (optional)\n",
    "        self.limit = None       # LIMIT value (optional)\n",
    "    \n",
    "    def set_filter(self, condition):\n",
    "        \"\"\"Specify a WHERE condition.\"\"\"\n",
    "        self.filter = condition\n",
    "    \n",
    "    def set_limit(self, n):\n",
    "        \"\"\"Specify a LIMIT for the query.\"\"\"\n",
    "        self.limit = n\n",
    "    \n",
    "    def build_pipeline_sql(self):\n",
    "        \"\"\"Assemble the SQL pipeline string based on the set parts.\"\"\"\n",
    "        query = f\"FROM {self.table}\"\n",
    "        if self.filter:\n",
    "            query += f\" |> WHERE {self.filter}\"\n",
    "        if self.limit:\n",
    "            query += f\" |> LIMIT {self.limit}\"\n",
    "        return query\n",
    "    \n",
    "    def execute(self):\n",
    "        \"\"\"Execute the built query using a Spark session (Databricks).\"\"\"\n",
    "        sql_query = self.build_pipeline_sql()\n",
    "        print(f\"Executing: {sql_query}\")\n",
    "        return spark.sql(sql_query)\n",
    "\n",
    "# Example usage:\n",
    "qb = QueryBuilder(\"users\")\n",
    "qb.set_filter(\"age > 30\")\n",
    "qb.set_limit(10)\n",
    "result_df = qb.execute()  # This will run: FROM users |> WHERE age > 30 |> LIMIT 10\n",
    "result_df.show()"
   ]
  }
 ],
 "metadata": {
  "application/vnd.databricks.v1+notebook": {
   "computePreferences": null,
   "dashboards": [],
   "environmentMetadata": {
    "base_environment": "",
    "environment_version": "2"
   },
   "language": "sql",
   "notebookMetadata": {
    "pythonIndentUnit": 4
   },
   "notebookName": "11 16.2: SQL pipe",
   "widgets": {}
  },
  "language_info": {
   "name": "sql"
  }
 },
 "nbformat": 4,
 "nbformat_minor": 0
}
