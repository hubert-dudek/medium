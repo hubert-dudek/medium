{
 "cells": [
  {
   "cell_type": "markdown",
   "metadata": {
    "application/vnd.databricks.v1+cell": {
     "cellMetadata": {
      "byteLimit": 2048000,
      "rowLimit": 10000
     },
     "inputWidgets": {},
     "nuid": "ea100868-f0f1-47a0-9b7b-798b19baad3b",
     "showTitle": false,
     "tableResultSettingsMap": {},
     "title": ""
    }
   },
   "source": [
    "Create programmatically notebook"
   ]
  },
  {
   "cell_type": "code",
   "execution_count": 0,
   "metadata": {
    "application/vnd.databricks.v1+cell": {
     "cellMetadata": {
      "byteLimit": 2048000,
      "rowLimit": 10000
     },
     "inputWidgets": {},
     "nuid": "c49ba211-2820-450c-a172-83cf7fba596f",
     "showTitle": false,
     "tableResultSettingsMap": {},
     "title": ""
    }
   },
   "outputs": [],
   "source": [
    "# Step 1: Create /temp directory and a placeholder notebook file\n",
    "import os\n",
    "\n",
    "# Ensure the /temp directory exists\n",
    "os.makedirs(\"temp\", exist_ok=True)  # Creates 'temp' dir in current working directory if not present\n",
    "\n",
    "# Define the path for the new placeholder notebook file\n",
    "placeholder_path = os.path.join(\"temp\", \"placeholder_notebook.py\")\n",
    "\n",
    "# Write a simple placeholder content into the new notebook file\n",
    "with open(placeholder_path, \"w\") as placeholder_file:\n",
    "    placeholder_file.write(\"# Placeholder notebook content\\n\")\n",
    "    placeholder_file.write(\"print('This is a placeholder notebook')\\n\")\n",
    "\n",
    "# Print a confirmation (this would appear in notebook output)\n",
    "print(f\"Placeholder notebook created at {placeholder_path}\")\n"
   ]
  },
  {
   "cell_type": "markdown",
   "metadata": {
    "application/vnd.databricks.v1+cell": {
     "cellMetadata": {
      "byteLimit": 2048000,
      "rowLimit": 10000
     },
     "inputWidgets": {},
     "nuid": "5fa36d83-0eca-4a5d-bed3-5efcb96bffb2",
     "showTitle": false,
     "tableResultSettingsMap": {},
     "title": ""
    }
   },
   "source": [
    "Write logs to workspace."
   ]
  },
  {
   "cell_type": "code",
   "execution_count": 0,
   "metadata": {
    "application/vnd.databricks.v1+cell": {
     "cellMetadata": {
      "byteLimit": 2048000,
      "rowLimit": 10000
     },
     "inputWidgets": {},
     "nuid": "4ff9a600-848d-4f05-a43b-a925cd801f2f",
     "showTitle": false,
     "tableResultSettingsMap": {},
     "title": ""
    }
   },
   "outputs": [],
   "source": [
    "import logging\n",
    "import os\n",
    "\n",
    "# Ensure logs directory exists (on the driver node local filesystem)\n",
    "os.makedirs(\"logs\", exist_ok=True)\n",
    "log_file = \"logs/app.log\"\n",
    "\n",
    "# Create (or get) a named logger instead of the root logger\n",
    "logger = logging.getLogger(\"my_custom_logger\")\n",
    "logger.setLevel(logging.INFO)\n",
    "\n",
    "# Remove any existing handlers (if Databricks attached something by default)\n",
    "if logger.hasHandlers():\n",
    "    logger.handlers.clear()\n",
    "\n",
    "# Create a file handler\n",
    "file_handler = logging.FileHandler(log_file)\n",
    "file_handler.setLevel(logging.INFO)\n",
    "\n",
    "# Optional: set a formatter\n",
    "formatter = logging.Formatter(\n",
    "    fmt=\"%(asctime)s %(levelname)s - %(message)s\",\n",
    "    datefmt=\"%Y-%m-%d %H:%M:%S\"\n",
    ")\n",
    "file_handler.setFormatter(formatter)\n",
    "\n",
    "# Add this file handler to our logger\n",
    "logger.addHandler(file_handler)\n",
    "\n",
    "# Write a test message\n",
    "logger.info(\"This is a test info message in Databricks.\")\n",
    "\n",
    "# Confirm where it's logging\n",
    "for handler in logger.handlers:\n",
    "    if isinstance(handler, logging.FileHandler):\n",
    "        print(\"Logging to:\", handler.baseFilename)\n"
   ]
  },
  {
   "cell_type": "code",
   "execution_count": 0,
   "metadata": {
    "application/vnd.databricks.v1+cell": {
     "cellMetadata": {
      "byteLimit": 2048000,
      "rowLimit": 10000
     },
     "inputWidgets": {},
     "nuid": "c3344057-4aad-44f6-95a5-03e18d8997d3",
     "showTitle": false,
     "tableResultSettingsMap": {},
     "title": ""
    }
   },
   "outputs": [],
   "source": [
    "# Step 3: Create .gitignore file to exclude /logs and /temp directories\n",
    "gitignore_path = \".gitignore\"\n",
    "ignore_patterns = [\"logs/\", \"temp/\"]\n",
    "\n",
    "with open(gitignore_path, \"w\") as gitignore_file:\n",
    "    for pattern in ignore_patterns:\n",
    "        gitignore_file.write(pattern + \"\\n\")\n",
    "\n",
    "# Log the creation of .gitignore in the execution log\n",
    "logger.info(f\"Created .gitignore with patterns to ignore {ignore_patterns}.\")\n",
    "print(f\".gitignore created at {os.path.abspath(gitignore_path)} with entries: {ignore_patterns}\")\n"
   ]
  }
 ],
 "metadata": {
  "application/vnd.databricks.v1+notebook": {
   "computePreferences": null,
   "dashboards": [],
   "environmentMetadata": {
    "base_environment": "",
    "environment_version": "2"
   },
   "language": "python",
   "notebookMetadata": {
    "pythonIndentUnit": 4
   },
   "notebookName": "07 files behavior",
   "widgets": {}
  },
  "language_info": {
   "name": "python"
  }
 },
 "nbformat": 4,
 "nbformat_minor": 0
}
