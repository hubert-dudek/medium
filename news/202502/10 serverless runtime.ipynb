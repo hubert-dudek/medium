{
 "cells": [
  {
   "cell_type": "markdown",
   "metadata": {
    "application/vnd.databricks.v1+cell": {
     "cellMetadata": {},
     "inputWidgets": {},
     "nuid": "5f3b6b9d-dc2c-45eb-80b4-c998749e35ab",
     "showTitle": false,
     "tableResultSettingsMap": {},
     "title": ""
    }
   },
   "source": [
    "**Databricks Serverless Runtime 16.1**\n",
    "Databricks has released Serverless Runtime 16.1, offering improved performance and stability for serverless workloads.\n",
    "\n",
    "**Notebook Memory Configuration**\n",
    "You can now allocate 8 GB to 32 GB of memory for each notebook. If you need extra capacity, simply choose a higher setting. Keep in mind that higher memory usage results in a greater DBU emission rate compared to standard memory."
   ]
  },
  {
   "cell_type": "markdown",
   "metadata": {
    "application/vnd.databricks.v1+cell": {
     "cellMetadata": {},
     "inputWidgets": {},
     "nuid": "72dd3f02-9077-476a-b8bc-0048e19013e8",
     "showTitle": false,
     "tableResultSettingsMap": {},
     "title": ""
    }
   },
   "source": [
    "Memory\n",
    "\n",
    "![memory_serverless.png](./images/memory_serverless.png \"memory_serverless.png\")"
   ]
  }
 ],
 "metadata": {
  "application/vnd.databricks.v1+notebook": {
   "computePreferences": null,
   "dashboards": [],
   "environmentMetadata": {
    "base_environment": "",
    "environment_version": "2"
   },
   "language": "python",
   "notebookMetadata": {
    "pythonIndentUnit": 4
   },
   "notebookName": "10 serverless runtime",
   "widgets": {}
  },
  "language_info": {
   "name": "python"
  }
 },
 "nbformat": 4,
 "nbformat_minor": 0
}
