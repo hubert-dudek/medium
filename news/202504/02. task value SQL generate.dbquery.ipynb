{
 "cells": [
  {
   "cell_type": "code",
   "execution_count": 0,
   "metadata": {
    "application/vnd.databricks.v1+cell": {
     "cellMetadata": {
      "byteLimit": 10485760,
      "rowLimit": 1000
     },
     "inputWidgets": {},
     "nuid": "543e0bee-7fa5-4cf0-be0c-30676474951f",
     "showTitle": false,
     "tableResultSettingsMap": {},
     "title": ""
    }
   },
   "outputs": [],
   "source": [
    "\n",
    "-- CREATE OR REPLACE TABLE shops (\n",
    "--   shop_id BIGINT GENERATED ALWAYS AS IDENTITY,\n",
    "--   name STRING\n",
    "-- );\n",
    "\n",
    "INSERT INTO shops (name) VALUES (\"Wallmart\"), (\"Amazon\"), (\"Grocery Shop\");\n",
    "\n",
    "-- SELECT shop_id\n",
    "-- FROM shops ORDER BY shop_id DESC;"
   ]
  }
 ],
 "metadata": {
  "application/vnd.databricks.v1+notebook": {
   "computePreferences": null,
   "dashboards": [],
   "environmentMetadata": null,
   "inputWidgetPreferences": null,
   "language": "sql",
   "notebookMetadata": {
    "pythonIndentUnit": 4,
    "sqlQueryOptions": {
     "applyAutoLimit": true,
     "catalog": "main",
     "schema": "samples"
    }
   },
   "notebookName": "02. task value SQL generate.dbquery.ipynb",
   "widgets": {}
  },
  "language_info": {
   "name": "sql"
  }
 },
 "nbformat": 4,
 "nbformat_minor": 0
}
