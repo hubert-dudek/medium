{
 "cells": [
  {
   "cell_type": "markdown",
   "metadata": {
    "application/vnd.databricks.v1+cell": {
     "cellMetadata": {},
     "inputWidgets": {},
     "nuid": "d3d09606-e466-497d-8935-d14fbe0e700b",
     "showTitle": false,
     "tableResultSettingsMap": {},
     "title": ""
    }
   },
   "source": [
    "https://docs.databricks.com/aws/en/jobs/dynamic-value-references"
   ]
  },
  {
   "cell_type": "markdown",
   "metadata": {
    "application/vnd.databricks.v1+cell": {
     "cellMetadata": {},
     "inputWidgets": {},
     "nuid": "7feeccae-06e6-4dc1-8d6b-706219c371df",
     "showTitle": false,
     "tableResultSettingsMap": {},
     "title": ""
    }
   },
   "source": [
    "{{tasks.<task_name>.output.rows}}\n",
    "\n",
    "The output rows of an upstream SQL task <task_name>. If passed as the Inputs for a For each task, each row is sent iteratively to the nested task. SQL output is limited to 1,000 rows, and 48 KB in size. See SQL output options.\n",
    "\n",
    "{{tasks.<task_name>.output.first_row}}\n",
    "\n",
    "The first row of the output of an upstream SQL task <task_name>. SQL output is limited to 1,000 rows and 48 KB in size.\n",
    "\n",
    "{{tasks.<task_name>.output.first_row.<column_alias>}}\n",
    "\n",
    "The value of the column <column_alias> in the first row of the output of an upstream SQL task <task_name>. SQL output is limited to 1,000 rows and 48 KB in size.\n",
    "\n",
    "{{tasks.<task_name>.output.alert_state}}\n",
    "\n",
    "The state of an upstream SQL alert task. The value is one of UNKNOWN, OK, or TRIGGERED."
   ]
  },
  {
   "cell_type": "code",
   "execution_count": 0,
   "metadata": {
    "application/vnd.databricks.v1+cell": {
     "cellMetadata": {
      "byteLimit": 2048000,
      "rowLimit": 10000
     },
     "inputWidgets": {},
     "nuid": "4b2c57b7-7a50-4774-83a9-58e37ff67269",
     "showTitle": false,
     "tableResultSettingsMap": {},
     "title": ""
    }
   },
   "outputs": [],
   "source": [
    "CREATE OR REPLACE TABLE example_table (\n",
    "  id BIGINT GENERATED ALWAYS AS IDENTITY,\n",
    "  sale INT\n",
    ");\n",
    "\n",
    "INSERT INTO example_table (sale) VALUES (10), (20), (30);\n",
    "\n",
    "SELECT id\n",
    "FROM example_table ORDER BY id DESC;"
   ]
  }
 ],
 "metadata": {
  "application/vnd.databricks.v1+notebook": {
   "computePreferences": null,
   "dashboards": [],
   "environmentMetadata": {
    "base_environment": "",
    "environment_version": "2"
   },
   "inputWidgetPreferences": null,
   "language": "sql",
   "notebookMetadata": {
    "pythonIndentUnit": 4
   },
   "notebookName": "02. task value SQL generate",
   "widgets": {}
  },
  "language_info": {
   "name": "sql"
  }
 },
 "nbformat": 4,
 "nbformat_minor": 0
}
