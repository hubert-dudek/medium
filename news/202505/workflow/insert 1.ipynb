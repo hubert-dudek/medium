{
 "cells": [
  {
   "cell_type": "code",
   "execution_count": 0,
   "metadata": {
    "application/vnd.databricks.v1+cell": {
     "cellMetadata": {},
     "inputWidgets": {},
     "nuid": "b5e27907-335b-4689-bf04-6d1ec2209e95",
     "showTitle": false,
     "tableResultSettingsMap": {},
     "title": ""
    }
   },
   "outputs": [],
   "source": [
    "INSERT INTO example_table (field1, product, category, timestamp, amount, country)\n",
    "VALUES\n",
    "    ('value1', 'milk', 'dairy', '2023-01-01 00:00:00', 150, 'USA'),\n",
    "    ('value3', 'bread', 'bakery', '2023-01-02 00:00:00', 200, 'Canada'),\n",
    "    ('value5', 'cheese', 'dairy', '2023-01-03 00:00:00', 300, 'UK'),\n",
    "    ('value7', 'butter', 'dairy', '2023-01-04 00:00:00', 400, 'Australia'),\n",
    "    ('value9', 'yogurt', 'dairy', '2023-01-05 00:00:00', 500, 'Germany'),\n",
    "    ('value11', 'eggs', 'poultry', '2023-01-06 00:00:00', 600, 'France');"
   ]
  }
 ],
 "metadata": {
  "application/vnd.databricks.v1+notebook": {
   "computePreferences": null,
   "dashboards": [],
   "environmentMetadata": {
    "base_environment": "",
    "environment_version": "2"
   },
   "inputWidgetPreferences": null,
   "language": "sql",
   "notebookMetadata": {
    "pythonIndentUnit": 4
   },
   "notebookName": "insert 1",
   "widgets": {}
  },
  "language_info": {
   "name": "sql"
  }
 },
 "nbformat": 4,
 "nbformat_minor": 0
}
