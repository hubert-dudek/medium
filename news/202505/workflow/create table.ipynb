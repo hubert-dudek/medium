{
 "cells": [
  {
   "cell_type": "code",
   "execution_count": 0,
   "metadata": {
    "application/vnd.databricks.v1+cell": {
     "cellMetadata": {
      "byteLimit": 2048000,
      "rowLimit": 10000
     },
     "inputWidgets": {},
     "nuid": "c4fe24b7-a132-4868-8aac-bb0d852893b7",
     "showTitle": false,
     "tableResultSettingsMap": {},
     "title": ""
    }
   },
   "outputs": [],
   "source": [
    "CREATE OR REPLACE TABLE example_table (\n",
    "    id BIGINT GENERATED ALWAYS AS IDENTITY,\n",
    "    field1 STRING,\n",
    "    product STRING,\n",
    "    category STRING,\n",
    "    timestamp TIMESTAMP,\n",
    "    data STRING GENERATED ALWAYS AS (CAST(timestamp AS STRING)),\n",
    "    amount BIGINT,\n",
    "    country STRING,\n",
    "    PRIMARY KEY (id)\n",
    ")\n",
    "TBLPROPERTIES (\n",
    "    'delta.enableChangeDataCapture' = 'true'\n",
    ");"
   ]
  },
  {
   "cell_type": "code",
   "execution_count": 0,
   "metadata": {
    "application/vnd.databricks.v1+cell": {
     "cellMetadata": {},
     "inputWidgets": {},
     "nuid": "3dd15c97-6df4-4df0-b3eb-9c2d85594577",
     "showTitle": false,
     "tableResultSettingsMap": {},
     "title": ""
    }
   },
   "outputs": [],
   "source": []
  }
 ],
 "metadata": {
  "application/vnd.databricks.v1+notebook": {
   "computePreferences": null,
   "dashboards": [],
   "environmentMetadata": {
    "base_environment": "",
    "environment_version": "2"
   },
   "inputWidgetPreferences": null,
   "language": "sql",
   "notebookMetadata": {
    "pythonIndentUnit": 4
   },
   "notebookName": "create table",
   "widgets": {}
  },
  "language_info": {
   "name": "sql"
  }
 },
 "nbformat": 4,
 "nbformat_minor": 0
}
