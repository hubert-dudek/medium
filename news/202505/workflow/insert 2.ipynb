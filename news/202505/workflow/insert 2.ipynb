{
 "cells": [
  {
   "cell_type": "code",
   "execution_count": 0,
   "metadata": {
    "application/vnd.databricks.v1+cell": {
     "cellMetadata": {},
     "inputWidgets": {},
     "nuid": "5142f715-499b-42e4-890c-8859f709d938",
     "showTitle": false,
     "tableResultSettingsMap": {},
     "title": ""
    }
   },
   "outputs": [],
   "source": [
    "INSERT INTO example_table (field1, product, category, timestamp, amount, country)\n",
    "VALUES\n",
    "    ('value1', 'milk', 'dairy', '2023-01-01 00:00:00', 150, 'USA'),\n",
    "    ('value3', 'bread', 'bakery', '2023-01-02 00:00:00', 200, 'Canada'),\n",
    "    ('value5', 'cheese', 'dairy', '2023-01-03 00:00:00', 250, 'UK'),\n",
    "    ('value7', 'butter', 'dairy', '2023-01-04 00:00:00', 300, 'Australia'),\n",
    "    ('value9', 'yogurt', 'dairy', '2023-01-05 00:00:00', 350, 'Germany'),\n",
    "    ('value11', 'milk', 'dairy', '2023-01-06 00:00:00', 400, 'France'),\n",
    "    ('value13', 'bread', 'bakery', '2023-01-07 00:00:00', 450, 'Italy'),\n",
    "    ('value15', 'cheese', 'dairy', '2023-01-08 00:00:00', 500, 'Spain'),\n",
    "    ('value17', 'butter', 'dairy', '2023-01-09 00:00:00', 550, 'Netherlands'),\n",
    "    ('value19', 'yogurt', 'dairy', '2023-01-10 00:00:00', 600, 'Sweden'),\n",
    "    ('value21', 'milk', 'dairy', '2023-01-11 00:00:00', 650, 'Norway'),\n",
    "    ('value23', 'bread', 'bakery', '2023-01-12 00:00:00', 700, 'Denmark');"
   ]
  }
 ],
 "metadata": {
  "application/vnd.databricks.v1+notebook": {
   "computePreferences": null,
   "dashboards": [],
   "environmentMetadata": {
    "base_environment": "",
    "environment_version": "2"
   },
   "inputWidgetPreferences": null,
   "language": "sql",
   "notebookMetadata": {
    "pythonIndentUnit": 4
   },
   "notebookName": "insert 2",
   "widgets": {}
  },
  "language_info": {
   "name": "sql"
  }
 },
 "nbformat": 4,
 "nbformat_minor": 0
}
