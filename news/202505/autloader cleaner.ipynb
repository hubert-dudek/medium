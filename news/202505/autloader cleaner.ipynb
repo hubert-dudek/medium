{
 "cells": [
  {
   "cell_type": "code",
   "execution_count": 0,
   "metadata": {
    "application/vnd.databricks.v1+cell": {
     "cellMetadata": {},
     "inputWidgets": {},
     "nuid": "b6525b69-67c2-4906-8994-466d6c5eeddc",
     "showTitle": false,
     "tableResultSettingsMap": {},
     "title": ""
    }
   },
   "outputs": [],
   "source": [
    "\n",
    "\n",
    "df_stream = (\n",
    "    spark.readStream\n",
    "         .format(\"cloudFiles\")\n",
    "         .option(\"cloudFiles.format\", \"csv\")\n",
    "         .option(\"header\", \"true\")  \n",
    "         .option(\"cloudFiles.inferColumnTypes\", \"true\") \n",
    "         .option(\"cloudFiles.schemaLocation\", \"/Volumes/workspace/default/landing_zone/schema\") \n",
    "         .load(\"/Volumes/workspace/default/landing_zone\")\n",
    ")\n",
    "\n",
    "(df_stream.writeStream\n",
    "    .option(\"checkpointLocation\", \"/Volumes/workspace/default/landing_zone/checkpoint\")\n",
    "    .option(\"mergeSchema\", \"true\")\n",
    "    .toTable(\"workspace.default.students_uc\"))\n"
   ]
  }
 ],
 "metadata": {
  "application/vnd.databricks.v1+notebook": {
   "computePreferences": null,
   "dashboards": [],
   "environmentMetadata": {
    "base_environment": "",
    "environment_version": "2"
   },
   "inputWidgetPreferences": null,
   "language": "python",
   "notebookMetadata": {
    "pythonIndentUnit": 4
   },
   "notebookName": "autloader cleaner",
   "widgets": {}
  },
  "language_info": {
   "name": "python"
  }
 },
 "nbformat": 4,
 "nbformat_minor": 0
}
