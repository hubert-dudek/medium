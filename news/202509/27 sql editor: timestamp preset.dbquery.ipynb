{
 "cells": [
  {
   "cell_type": "code",
   "execution_count": 0,
   "metadata": {
    "application/vnd.databricks.v1+cell": {
     "cellMetadata": {
      "byteLimit": 10485760,
      "rowLimit": 1000
     },
     "inputWidgets": {},
     "nuid": "1be66a16-cb80-45c1-9cea-66b6c006ee36",
     "showTitle": false,
     "tableResultSettingsMap": {},
     "title": ""
    }
   },
   "outputs": [],
   "source": [
    "SELECT\n",
    "  *\n",
    "FROM\n",
    "  hub.default.ice_orders\n",
    "WHERE\n",
    "  order_ts < :time AND order_ts > :time - INTERVAL 1 DAY;"
   ]
  }
 ],
 "metadata": {
  "application/vnd.databricks.v1+notebook": {
   "computePreferences": null,
   "dashboards": [],
   "environmentMetadata": null,
   "inputWidgetPreferences": null,
   "language": "sql",
   "notebookMetadata": {
    "pythonIndentUnit": 4,
    "sqlQueryOptions": {
     "applyAutoLimit": true,
     "catalog": "hub",
     "schema": "202507"
    }
   },
   "notebookName": "27 sql editor: timestamp preset.dbquery.ipynb",
   "widgets": {
    "time": {
     "currentValue": "2025-08-31T14:49:12",
     "nuid": "5779991a-8d8f-4cbb-bfc6-3d65987a6c73",
     "typedWidgetInfo": {
      "autoCreated": false,
      "defaultValue": "d_now",
      "label": "",
      "name": "time",
      "options": {
       "widgetDisplayType": "Text",
       "validationRegex": null
      },
      "parameterDataType": "Timestamp"
     },
     "widgetInfo": {
      "widgetType": "text",
      "defaultValue": "d_now",
      "label": "",
      "name": "time",
      "options": {
       "widgetType": "text",
       "autoCreated": false,
       "validationRegex": null
      }
     }
    }
   }
  },
  "language_info": {
   "name": "sql"
  }
 },
 "nbformat": 4,
 "nbformat_minor": 0
}
