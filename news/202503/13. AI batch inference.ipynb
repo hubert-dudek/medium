{
 "cells": [
  {
   "cell_type": "code",
   "execution_count": 0,
   "metadata": {
    "application/vnd.databricks.v1+cell": {
     "cellMetadata": {
      "byteLimit": 2048000,
      "rowLimit": 10000
     },
     "inputWidgets": {},
     "nuid": "2ca2a26d-31a7-474b-9f58-9f4c7d807c4e",
     "showTitle": false,
     "tableResultSettingsMap": {},
     "title": ""
    }
   },
   "outputs": [],
   "source": [
    "%sql\n",
    "-- Create or replace streaming_inbox table (append-only Delta)\n",
    "CREATE OR REPLACE TABLE streaming_inbox (\n",
    "  message_id STRING,\n",
    "  message_body STRING\n",
    ");\n",
    "\n",
    "INSERT INTO streaming_inbox VALUES\n",
    "  ('s_msg1', 'Hello, this is a test message!'),\n",
    "  ('s_msg2', 'Check out our new streaming offer'),\n",
    "  ('s_msg3', 'SPAM: You have won a prize, click here!');\n",
    "\n",
    "-- Create or replace incoming_messages table\n",
    "CREATE OR REPLACE TABLE incoming_messages (\n",
    "  message_id STRING,\n",
    "  message_body STRING\n",
    ");\n",
    "\n",
    "INSERT INTO incoming_messages VALUES\n",
    "  ('inc_msg1', 'Welcome to our service'),\n",
    "  ('inc_msg2', 'SPAM: Win a free vacation now!'),\n",
    "  ('inc_msg3', 'Reminder: meeting at 3 PM');\n",
    "\n",
    "-- Create or replace my_documents table\n",
    "CREATE OR REPLACE TABLE my_documents (\n",
    "  document_id STRING,\n",
    "  text_column STRING\n",
    ");\n",
    "\n",
    "INSERT INTO my_documents VALUES\n",
    "  ('doc1', 'Databricks AI Query allows you to run LLM inferences at scale.'),\n",
    "  ('doc2', 'Batch and streaming modes are both supported by AI Query.'),\n",
    "  ('doc3', 'This is a short text that needs summarization.');"
   ]
  },
  {
   "cell_type": "code",
   "execution_count": 0,
   "metadata": {
    "application/vnd.databricks.v1+cell": {
     "cellMetadata": {
      "byteLimit": 2048000,
      "rowLimit": 10000
     },
     "inputWidgets": {},
     "nuid": "9597ebe2-980e-4e8e-8797-778d4870181a",
     "showTitle": false,
     "tableResultSettingsMap": {},
     "title": ""
    }
   },
   "outputs": [],
   "source": [
    "# Verify the inserted data\n",
    "print(\"===== streaming_inbox sample rows =====\")\n",
    "spark.sql(\"SELECT * FROM streaming_inbox\").show()\n",
    "\n",
    "print(\"===== incoming_messages sample rows =====\")\n",
    "spark.sql(\"SELECT * FROM incoming_messages\").show()\n",
    "\n",
    "print(\"===== my_documents sample rows =====\")\n",
    "spark.sql(\"SELECT * FROM my_documents\").show()"
   ]
  },
  {
   "cell_type": "code",
   "execution_count": 0,
   "metadata": {
    "application/vnd.databricks.v1+cell": {
     "cellMetadata": {
      "byteLimit": 2048000,
      "implicitDf": true,
      "rowLimit": 10000
     },
     "inputWidgets": {},
     "nuid": "5171534c-a5a2-489a-9f51-a5a9b4749ded",
     "showTitle": false,
     "tableResultSettingsMap": {},
     "title": ""
    }
   },
   "outputs": [],
   "source": [
    "%sql\n",
    "SELECT\n",
    "  message_id,\n",
    "  ai_query(\n",
    "    endpoint       => \"databricks-meta-llama-3-1-8b-instruct\",\n",
    "    request        => CONCAT(\n",
    "      \"You are a strict spam classifier. The user wrote: '\",\n",
    "      REGEXP_REPLACE(message_body, \"[^a-zA-Z0-9\\\\s:]\", \"\"),\n",
    "      \"'. Reply ONLY in valid JSON with an integer field named spam_flag. 0=not spam, 1=spam.\"\n",
    "    ),\n",
    "    responseFormat => '{\n",
    "      \"type\": \"json_schema\",\n",
    "      \"json_schema\": {\n",
    "        \"name\": \"spam_detection\",\n",
    "        \"schema\": {\n",
    "          \"type\": \"object\",\n",
    "          \"properties\": {\n",
    "            \"spam_flag\": {\"type\": \"integer\"}\n",
    "          }\n",
    "        }\n",
    "      }\n",
    "    }',\n",
    "    failOnError    => true\n",
    "  ) AS parsed_response\n",
    "FROM incoming_messages;\n"
   ]
  },
  {
   "cell_type": "code",
   "execution_count": 0,
   "metadata": {
    "application/vnd.databricks.v1+cell": {
     "cellMetadata": {
      "byteLimit": 2048000,
      "rowLimit": 10000
     },
     "inputWidgets": {},
     "nuid": "4ef21449-fa16-4e28-9936-fc56a3e5b74a",
     "showTitle": false,
     "tableResultSettingsMap": {},
     "title": ""
    }
   },
   "outputs": [],
   "source": [
    "from pyspark.sql.functions import expr, parse_json\n",
    "\n",
    "# Read the streaming_inbox as a stream\n",
    "df_stream = spark.readStream.table(\"streaming_inbox\")\n",
    "\n",
    "# Inference step: LLM spam detection with JSON schema\n",
    "scored_stream = df_stream.withColumn(\n",
    "    \"parsed_response\",\n",
    "    expr(\"\"\"\n",
    "      ai_query(\n",
    "        'databricks-meta-llama-3-1-8b-instruct',\n",
    "        CONCAT(\n",
    "          'You are a strict spam classifier. The user wrote: \"',\n",
    "          regexp_replace(message_body, '[^a-zA-Z0-9\\\\s:]', ''),\n",
    "          '\". Reply ONLY in valid JSON with an integer field named spam_flag. 0=not spam, 1=spam.'\n",
    "        ),\n",
    "        '{\"type\":\"json_object\",\"json_schema\":{\"name\":\"spam_detection\",\"schema\":{\"type\":\"object\",\"properties\":{\"spam_flag\":{\"type\":\"integer\"}}}}}',\n",
    "        true\n",
    "      )\n",
    "    \"\"\")\n",
    ")\n",
    "\n",
    "display(scored_stream, checkpointLocation='/Volumes/workspace/default/checkpoints/1')"
   ]
  },
  {
   "cell_type": "code",
   "execution_count": 0,
   "metadata": {
    "application/vnd.databricks.v1+cell": {
     "cellMetadata": {
      "byteLimit": 2048000,
      "implicitDf": true,
      "rowLimit": 10000
     },
     "inputWidgets": {},
     "nuid": "a8f58381-28ac-4238-a03c-ab6e8ccbbd97",
     "showTitle": false,
     "tableResultSettingsMap": {},
     "title": ""
    }
   },
   "outputs": [],
   "source": [
    "%sql\n",
    "SELECT\n",
    "  message_id,\n",
    "  parse_json(ai_query(\n",
    "    endpoint       => \"databricks-meta-llama-3-1-8b-instruct\",\n",
    "    request        => CONCAT(\n",
    "      \"Analyze the text: '\", \n",
    "      REGEXP_REPLACE(message_body, \"[^a-zA-Z0-9\\\\s:]\", \"\"), \n",
    "      \"'. Reply in valid JSON with fields: label (string) and confidence (float).\"\n",
    "    ),\n",
    "    responseFormat => '{\n",
    "      \"type\": \"json_schema\",\n",
    "      \"json_schema\": {\n",
    "        \"name\": \"text_classifier\",\n",
    "        \"schema\": {\n",
    "          \"type\": \"object\",\n",
    "          \"properties\": {\n",
    "            \"label\": {\"type\": \"string\"},\n",
    "            \"confidence\": {\"type\": \"number\"}\n",
    "          }\n",
    "        }\n",
    "      }\n",
    "    }',\n",
    "    failOnError    => true\n",
    "  )) AS classification_result\n",
    "FROM incoming_messages;\n"
   ]
  }
 ],
 "metadata": {
  "application/vnd.databricks.v1+notebook": {
   "computePreferences": null,
   "dashboards": [],
   "environmentMetadata": {
    "base_environment": "",
    "environment_version": "2"
   },
   "language": "python",
   "notebookMetadata": {
    "mostRecentlyExecutedCommandWithImplicitDF": {
     "commandId": 2712858844431595,
     "dataframes": [
      "_sqldf"
     ]
    },
    "pythonIndentUnit": 4
   },
   "notebookName": "13. AI batch inference",
   "widgets": {}
  },
  "language_info": {
   "name": "python"
  }
 },
 "nbformat": 4,
 "nbformat_minor": 0
}
