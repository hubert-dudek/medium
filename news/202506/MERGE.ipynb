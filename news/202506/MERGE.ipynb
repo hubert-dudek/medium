{
 "cells": [
  {
   "cell_type": "code",
   "execution_count": 0,
   "metadata": {
    "application/vnd.databricks.v1+cell": {
     "cellMetadata": {
      "byteLimit": 2048000,
      "rowLimit": 10000
     },
     "inputWidgets": {},
     "nuid": "981ac9da-feda-4c14-ad17-6704431f8f62",
     "showTitle": false,
     "tableResultSettingsMap": {},
     "title": ""
    }
   },
   "outputs": [],
   "source": [
    "%python\n",
    "from pyspark.sql import SparkSession\n",
    "from pyspark.sql.functions import rand, col"
   ]
  },
  {
   "cell_type": "code",
   "execution_count": 0,
   "metadata": {
    "application/vnd.databricks.v1+cell": {
     "cellMetadata": {
      "byteLimit": 2048000,
      "rowLimit": 10000
     },
     "inputWidgets": {},
     "nuid": "7e5d6e50-c0d1-42a1-8c2e-ded33e11d7f9",
     "showTitle": false,
     "tableResultSettingsMap": {},
     "title": ""
    }
   },
   "outputs": [],
   "source": [
    "%python\n",
    "# In PySpark\n",
    "spark = SparkSession.builder.getOrCreate()\n",
    "\n",
    "# Create a source DataFrame\n",
    "sourceDF = spark.createDataFrame([(1, 10), (2, 20), (3, 30)], [\"key\", \"value\"])\n",
    "\n",
    "# Create a target DataFrame\n",
    "targetDF = spark.createDataFrame([(1, 100), (2, 200), (4, 400)], [\"key\", \"value\"])\n",
    "\n",
    "# Write the target DataFrame to a Delta table for demonstration\n",
    "targetTable = \"target_table\"\n",
    "sourceTable = \"source_table\"\n",
    "sourceDF.write.saveAsTable(sourceTable)\n",
    "targetDF.write.saveAsTable(targetTable)\n",
    "\n",
    "source = spark.table(\"source_table\")\n",
    "target = spark.table(\"target_table\")\n"
   ]
  },
  {
   "cell_type": "code",
   "execution_count": 0,
   "metadata": {
    "application/vnd.databricks.v1+cell": {
     "cellMetadata": {
      "byteLimit": 2048000,
      "rowLimit": 10000
     },
     "inputWidgets": {},
     "nuid": "0afcf3ed-c54b-42fd-aa84-d14f88a213a7",
     "showTitle": false,
     "tableResultSettingsMap": {},
     "title": ""
    }
   },
   "outputs": [],
   "source": [
    "%sql\n",
    "SELECT * FROM source_table"
   ]
  },
  {
   "cell_type": "code",
   "execution_count": 0,
   "metadata": {
    "application/vnd.databricks.v1+cell": {
     "cellMetadata": {
      "byteLimit": 2048000,
      "rowLimit": 10000
     },
     "inputWidgets": {},
     "nuid": "43282ed9-1065-4d46-98d0-61267762c680",
     "showTitle": false,
     "tableResultSettingsMap": {},
     "title": ""
    }
   },
   "outputs": [],
   "source": [
    "%python\n",
    "# Example merge operation using df.mergeInto\n",
    "mergedDF = (\n",
    "    spark.table(\"source_table\")\n",
    "    .mergeInto(\n",
    "        \"target_table\",\n",
    "        col(\"target_table.key\") == col(\"source_table.key\")\n",
    "    )\n",
    "    .whenNotMatched()\n",
    "    .insertAll()\n",
    "    .merge()\n",
    ")"
   ]
  },
  {
   "cell_type": "code",
   "execution_count": 0,
   "metadata": {
    "application/vnd.databricks.v1+cell": {
     "cellMetadata": {
      "byteLimit": 2048000,
      "rowLimit": 10000
     },
     "inputWidgets": {},
     "nuid": "11e4b3cb-f563-4c90-8425-4ba99e5a51b5",
     "showTitle": true,
     "tableResultSettingsMap": {},
     "title": "Merge returns dataframe"
    }
   },
   "outputs": [],
   "source": [
    "%python\n",
    "display(mergedDF)"
   ]
  },
  {
   "cell_type": "code",
   "execution_count": 0,
   "metadata": {
    "application/vnd.databricks.v1+cell": {
     "cellMetadata": {
      "byteLimit": 2048000,
      "rowLimit": 10000
     },
     "inputWidgets": {},
     "nuid": "7b624e2f-dc1f-4946-ab71-6942274d2206",
     "showTitle": false,
     "tableResultSettingsMap": {},
     "title": ""
    }
   },
   "outputs": [],
   "source": [
    "CREATE TABLE source (\n",
    "  key INT,\n",
    "  value DOUBLE\n",
    ");\n",
    "\n",
    "CREATE TABLE target (\n",
    "  key INT,\n",
    "  value DOUBLE\n",
    ");\n",
    "\n",
    "INSERT INTO source (key, value) VALUES\n",
    "(1, 10.0),\n",
    "(2, 20.0),\n",
    "(3, 30.0);\n",
    "\n",
    "INSERT INTO target (key, value) VALUES\n",
    "(1, 15.0),\n",
    "(4, 40.0);"
   ]
  },
  {
   "cell_type": "code",
   "execution_count": 0,
   "metadata": {
    "application/vnd.databricks.v1+cell": {
     "cellMetadata": {
      "byteLimit": 2048000,
      "rowLimit": 10000
     },
     "inputWidgets": {},
     "nuid": "d93f15a3-978b-4a05-9f61-ef63d3f8a270",
     "showTitle": true,
     "tableResultSettingsMap": {},
     "title": "Non determistic"
    }
   },
   "outputs": [],
   "source": [
    "MERGE INTO target USING source\n",
    "ON target.key = source.key\n",
    "WHEN MATCHED THEN UPDATE\n",
    "  SET target.value = source.value + rand()\n",
    "WHEN NOT MATCHED THEN INSERT (key, value)\n",
    "  VALUES (source.key, rand())"
   ]
  },
  {
   "cell_type": "code",
   "execution_count": 0,
   "metadata": {
    "application/vnd.databricks.v1+cell": {
     "cellMetadata": {
      "byteLimit": 2048000,
      "rowLimit": 10000
     },
     "inputWidgets": {},
     "nuid": "6eb5c96a-4717-4259-9eb2-7a4f0a0c8a26",
     "showTitle": false,
     "tableResultSettingsMap": {},
     "title": ""
    }
   },
   "outputs": [],
   "source": [
    "ALTER TABLE source ADD COLUMN new_column STRING;\n",
    "\n",
    "UPDATE source SET new_column = 'some value';"
   ]
  },
  {
   "cell_type": "code",
   "execution_count": 0,
   "metadata": {
    "application/vnd.databricks.v1+cell": {
     "cellMetadata": {
      "byteLimit": 2048000,
      "rowLimit": 10000
     },
     "inputWidgets": {},
     "nuid": "03be342c-1d09-4abf-82c9-ae9799aa96e5",
     "showTitle": true,
     "tableResultSettingsMap": {},
     "title": "Without schema evolution"
    }
   },
   "outputs": [],
   "source": [
    "MERGE INTO target USING source\n",
    "  ON source.key = target.key\n",
    "  WHEN MATCHED THEN UPDATE SET value = source.value, new_column = source.new_column\n",
    "  WHEN NOT MATCHED THEN INSERT (key, value, new_column) VALUES (source.key, source.value, source.new_column)\n",
    "  WHEN NOT MATCHED BY SOURCE THEN DELETE"
   ]
  },
  {
   "cell_type": "code",
   "execution_count": 0,
   "metadata": {
    "application/vnd.databricks.v1+cell": {
     "cellMetadata": {
      "byteLimit": 2048000,
      "rowLimit": 10000
     },
     "inputWidgets": {},
     "nuid": "1bcddbc2-fc22-43bf-a817-e0d579c5e038",
     "showTitle": true,
     "tableResultSettingsMap": {},
     "title": "Schema evolution"
    }
   },
   "outputs": [],
   "source": [
    "MERGE WITH SCHEMA EVOLUTION INTO target USING source\n",
    "  ON source.key = target.key\n",
    "  WHEN MATCHED THEN UPDATE SET value = source.value, new_column = source.new_column\n",
    "  WHEN NOT MATCHED THEN INSERT (key, value, new_column) VALUES (source.key, source.value, source.new_column)\n",
    "  WHEN NOT MATCHED BY SOURCE THEN DELETE"
   ]
  }
 ],
 "metadata": {
  "application/vnd.databricks.v1+notebook": {
   "computePreferences": null,
   "dashboards": [],
   "environmentMetadata": {
    "base_environment": "",
    "environment_version": "2"
   },
   "inputWidgetPreferences": null,
   "language": "sql",
   "notebookMetadata": {
    "pythonIndentUnit": 4
   },
   "notebookName": "MERGE",
   "widgets": {}
  },
  "language_info": {
   "name": "sql"
  }
 },
 "nbformat": 4,
 "nbformat_minor": 0
}
