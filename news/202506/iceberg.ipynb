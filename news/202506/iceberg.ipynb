{
 "cells": [
  {
   "cell_type": "markdown",
   "metadata": {
    "application/vnd.databricks.v1+cell": {
     "cellMetadata": {},
     "inputWidgets": {},
     "nuid": "037f74f0-716f-4a91-b2b2-cc951f1466cb",
     "showTitle": false,
     "tableResultSettingsMap": {},
     "title": ""
    }
   },
   "source": [
    "Iceberg Survival Guide: Now, you can see the Iceberg icon next to managed tables. From now on, you can create a managed Delta or iceberg table. I think that soon, the formats will unify, but to avoid headaches for now, you need to know a few things:\n",
    "\n",
    "- no CDC in Iceberg,\n",
    "- we need to know the manifest concept \n",
    "- liquid partitioning is supported but needs some additional table properties\n",
    "- Maintenance: OPTIMIZE or VACUUM in UC is made by the same commands as for Delta."
   ]
  },
  {
   "cell_type": "code",
   "execution_count": 0,
   "metadata": {
    "application/vnd.databricks.v1+cell": {
     "cellMetadata": {
      "byteLimit": 2048000,
      "rowLimit": 10000
     },
     "inputWidgets": {},
     "nuid": "4887c430-90d1-4aa0-b25e-3599fc0027ee",
     "showTitle": false,
     "tableResultSettingsMap": {},
     "title": ""
    }
   },
   "outputs": [],
   "source": [
    "CREATE OR REPLACE TABLE hub.default.iceberg_orders (\n",
    "  order_id     BIGINT,\n",
    "  customer_id  BIGINT,\n",
    "  order_ts     TIMESTAMP,\n",
    "  total_amt    DECIMAL(12,2)\n",
    ")\n",
    "USING ICEBERG;\n",
    "\n",
    "INSERT INTO hub.default.iceberg_orders (order_id, customer_id, order_ts, total_amt)\n",
    "VALUES (1, 12345, '2025-06-29 00:00:00', 100.00);"
   ]
  },
  {
   "cell_type": "markdown",
   "metadata": {
    "application/vnd.databricks.v1+cell": {
     "cellMetadata": {},
     "inputWidgets": {},
     "nuid": "8f3e5156-ddc7-4db7-9980-f1e6e2d38658",
     "showTitle": false,
     "tableResultSettingsMap": {},
     "title": ""
    }
   },
   "source": []
  },
  {
   "cell_type": "markdown",
   "metadata": {
    "application/vnd.databricks.v1+cell": {
     "cellMetadata": {},
     "inputWidgets": {},
     "nuid": "dc743071-1da8-4a34-9ff4-4edf66ad6ec7",
     "showTitle": false,
     "tableResultSettingsMap": {},
     "title": ""
    }
   },
   "source": []
  },
  {
   "cell_type": "markdown",
   "metadata": {
    "application/vnd.databricks.v1+cell": {
     "cellMetadata": {},
     "inputWidgets": {},
     "nuid": "06e45111-4636-431d-af65-4104ef41a651",
     "showTitle": false,
     "tableResultSettingsMap": {},
     "title": ""
    }
   },
   "source": []
  },
  {
   "cell_type": "code",
   "execution_count": 0,
   "metadata": {
    "application/vnd.databricks.v1+cell": {
     "cellMetadata": {
      "byteLimit": 2048000,
      "rowLimit": 10000
     },
     "inputWidgets": {},
     "nuid": "d9591ce1-eeaf-4890-ab24-c84bd720a13a",
     "showTitle": false,
     "tableResultSettingsMap": {},
     "title": ""
    }
   },
   "outputs": [],
   "source": [
    "CREATE OR REPLACE TABLE hub.default.ice_orders (\n",
    "  order_id     BIGINT,\n",
    "  customer_id  BIGINT,\n",
    "  order_ts     TIMESTAMP,\n",
    "  total_amt    DECIMAL(12,2)\n",
    ")\n",
    "USING ICEBERG\n",
    "CLUSTER BY (customer_id)\n",
    "TBLPROPERTIES (\n",
    "  'write.target-file-size-bytes' = '536870912', -- Target file size for written files in bytes (512 MB)\n",
    "  'write.manifest.target-file-size-bytes' = '16777216', -- Target file size for manifest files in bytes (16 MB)\n",
    "  'history.expire.min-snapshots-to-keep' = '1', -- Minimum number of snapshots to keep when expiring history\n",
    "  'commit.retry.num-retries' = '3', -- Number of retries for commit operations\n",
    "  'commit.retry.total-timeout-ms' = '60000', -- Total timeout for commit retries in milliseconds (60 seconds)\n",
    "  'read.split.target-size' = '134217728', -- Target size for read splits in bytes (128 MB)\n",
    "  'read.split.open-file-cost' = '4194304', -- Cost of opening a file for read splits in bytes (4 MB)\n",
    "  'write.sort.order' = 'order_id,customer_id', -- Sort order for written data\n",
    "  'metadata.previous-versions-max' = '5', -- Maximum number of previous metadata versions to keep\n",
    "  'object.tagging.enabled' = 'false', -- Enable or disable object tagging\n",
    "  'write.delete-vector.enabled' = 'false', -- Disable deletion vectors\n",
    "  'write.row-id.enabled' = 'false' -- Disable row IDs\n",
    ");\n",
    "\n",
    "-- 3️⃣  Insert the first two rows\n",
    "INSERT INTO ice_orders VALUES\n",
    "  (1, 101, '2025-06-26T10:00:00',  99.99),\n",
    "  (2, 102, '2025-06-26T10:05:00', 149.50);\n",
    "\n",
    "-- 4️⃣  Append one more row later on\n",
    "INSERT INTO ice_orders VALUES\n",
    "  (3, 103, '2025-06-26T10:10:00', 200.00);"
   ]
  },
  {
   "cell_type": "code",
   "execution_count": 0,
   "metadata": {
    "application/vnd.databricks.v1+cell": {
     "cellMetadata": {
      "byteLimit": 2048000,
      "rowLimit": 10000
     },
     "inputWidgets": {},
     "nuid": "d97974c0-b332-4db3-a086-97ffe8b6ee30",
     "showTitle": false,
     "tableResultSettingsMap": {},
     "title": ""
    }
   },
   "outputs": [],
   "source": [
    "OPTIMIZE hub.default.iceberg_orders"
   ]
  },
  {
   "cell_type": "code",
   "execution_count": 0,
   "metadata": {
    "application/vnd.databricks.v1+cell": {
     "cellMetadata": {
      "byteLimit": 2048000,
      "rowLimit": 10000
     },
     "inputWidgets": {},
     "nuid": "2ca4a2d2-ca2e-4a28-8dfe-fc5dc2a8094f",
     "showTitle": false,
     "tableResultSettingsMap": {},
     "title": ""
    }
   },
   "outputs": [],
   "source": [
    "VACUUM hub.default.iceberg_orders"
   ]
  }
 ],
 "metadata": {
  "application/vnd.databricks.v1+notebook": {
   "computePreferences": null,
   "dashboards": [],
   "environmentMetadata": {
    "base_environment": "",
    "environment_version": "2"
   },
   "inputWidgetPreferences": null,
   "language": "sql",
   "notebookMetadata": {
    "pythonIndentUnit": 4
   },
   "notebookName": "iceberg",
   "widgets": {}
  },
  "language_info": {
   "name": "sql"
  }
 },
 "nbformat": 4,
 "nbformat_minor": 0
}
