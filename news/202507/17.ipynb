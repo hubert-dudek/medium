{
 "cells": [
  {
   "cell_type": "code",
   "execution_count": 0,
   "metadata": {
    "application/vnd.databricks.v1+cell": {
     "cellMetadata": {
      "byteLimit": 2048000,
      "rowLimit": 10000
     },
     "inputWidgets": {},
     "nuid": "504d4b9b-c58c-462b-a8d9-96f28d58f34a",
     "showTitle": false,
     "tableResultSettingsMap": {},
     "title": ""
    }
   },
   "outputs": [],
   "source": [
    "USE SCHEMA `202507`;"
   ]
  },
  {
   "cell_type": "code",
   "execution_count": 0,
   "metadata": {
    "application/vnd.databricks.v1+cell": {
     "cellMetadata": {
      "byteLimit": 2048000,
      "rowLimit": 10000
     },
     "inputWidgets": {},
     "nuid": "715ef48a-f66d-452b-a6a0-cec22d5e9c9b",
     "showTitle": false,
     "tableResultSettingsMap": {},
     "title": ""
    }
   },
   "outputs": [],
   "source": [
    "CREATE TABLE archived_orders (\n",
    "    order_id INT,\n",
    "    order_date DATE,\n",
    "    customer_id INT,\n",
    "    amount DECIMAL(10, 2)\n",
    ");\n",
    "\n",
    "CREATE TABLE orders (\n",
    "    order_id INT,\n",
    "    order_date DATE,\n",
    "    customer_id INT,\n",
    "    amount DECIMAL(10, 2)\n",
    ");\n",
    "\n",
    "INSERT INTO orders (order_id, order_date, customer_id, amount) VALUES\n",
    "(1, '2023-05-15', 101, 250.00),\n",
    "(2, '2023-11-20', 102, 150.00),\n",
    "(3, '2025-02-10', 103, 300.00),\n",
    "(4, '2025-04-25', 104, 450.00);"
   ]
  },
  {
   "cell_type": "code",
   "execution_count": 0,
   "metadata": {
    "application/vnd.databricks.v1+cell": {
     "cellMetadata": {
      "byteLimit": 2048000,
      "rowLimit": 10000
     },
     "inputWidgets": {},
     "nuid": "7bb2de63-3137-49b4-a6c9-f8df2da53f5a",
     "showTitle": false,
     "tableResultSettingsMap": {},
     "title": ""
    }
   },
   "outputs": [],
   "source": [
    "%python\n",
    "from pyspark.sql.functions import expr\n",
    "mergedDF = (\n",
    "    spark.table(\"orders\")\n",
    "    .mergeInto(\n",
    "        \"archived_orders\",\n",
    "        expr(\"archived_orders.order_id = orders.order_id\")\n",
    "    )\n",
    "    .whenNotMatched()\n",
    "    .insertAll()\n",
    "    .merge()\n",
    ")"
   ]
  },
  {
   "cell_type": "markdown",
   "metadata": {
    "application/vnd.databricks.v1+cell": {
     "cellMetadata": {},
     "inputWidgets": {},
     "nuid": "4cdb6583-de13-4d2b-a6a8-7d700af0b6c8",
     "showTitle": false,
     "tableResultSettingsMap": {},
     "title": ""
    }
   },
   "source": [
    "Procedures - more https://databrickster.medium.com/stored-procedures-in-databricks-95136fb5e273"
   ]
  },
  {
   "cell_type": "code",
   "execution_count": 0,
   "metadata": {
    "application/vnd.databricks.v1+cell": {
     "cellMetadata": {
      "byteLimit": 2048000,
      "rowLimit": 10000
     },
     "inputWidgets": {},
     "nuid": "45540b0e-96e6-40b2-8fa1-b405865c56e4",
     "showTitle": false,
     "tableResultSettingsMap": {},
     "title": ""
    }
   },
   "outputs": [],
   "source": [
    "CREATE PROCEDURE `202507`.archive_old_orders(cut_date DATE)\n",
    "LANGUAGE SQL\n",
    "SQL SECURITY INVOKER\n",
    "AS BEGIN\n",
    "    INSERT INTO archived_orders\n",
    "        SELECT * FROM orders WHERE order_date < cut_date;\n",
    "\n",
    "    DELETE FROM orders WHERE order_date < cut_date;\n",
    "END;"
   ]
  },
  {
   "cell_type": "code",
   "execution_count": 0,
   "metadata": {
    "application/vnd.databricks.v1+cell": {
     "cellMetadata": {
      "byteLimit": 2048000,
      "rowLimit": 10000
     },
     "inputWidgets": {},
     "nuid": "cae24ac8-391c-477f-aa0c-e8f673fb9449",
     "showTitle": false,
     "tableResultSettingsMap": {},
     "title": ""
    }
   },
   "outputs": [],
   "source": [
    "CALL archive_old_orders(date'2024-01-01')"
   ]
  },
  {
   "cell_type": "markdown",
   "metadata": {
    "application/vnd.databricks.v1+cell": {
     "cellMetadata": {},
     "inputWidgets": {},
     "nuid": "19175206-21bb-4bf5-922b-7b090c3d9d1f",
     "showTitle": false,
     "tableResultSettingsMap": {},
     "title": ""
    }
   },
   "source": [
    "Recursive CTE"
   ]
  },
  {
   "cell_type": "code",
   "execution_count": 0,
   "metadata": {
    "application/vnd.databricks.v1+cell": {
     "cellMetadata": {
      "byteLimit": 2048000,
      "rowLimit": 10000
     },
     "inputWidgets": {},
     "nuid": "97a92be5-90a0-4998-86b2-77d5907f5c99",
     "showTitle": false,
     "tableResultSettingsMap": {},
     "title": ""
    }
   },
   "outputs": [],
   "source": [
    "DROP VIEW IF EXISTS routes;\n",
    "CREATE TEMPORARY VIEW routes(origin, destination) AS VALUES\n",
    "  ('New York', 'Washington'),\n",
    "  ('New York', 'Boston'),\n",
    "  ('Boston', 'New York'),\n",
    "  ('Washington', 'Boston'),\n",
    "  ('Washington', 'Raleigh');\n",
    "\n",
    "WITH RECURSIVE destinations_from_new_york AS (\n",
    "    SELECT 'New York' AS destination, ARRAY('New York') AS path, 0 AS length\n",
    "    UNION ALL\n",
    "    SELECT r.destination, CONCAT(d.path, ARRAY(r.destination)), d.length + 1\n",
    "      FROM routes AS r\n",
    "      JOIN destinations_from_new_york AS d\n",
    "        ON d.destination = r.origin AND NOT ARRAY_CONTAINS(d.path, r.destination)\n",
    "  )\n",
    "SELECT * FROM destinations_from_new_york;"
   ]
  },
  {
   "cell_type": "markdown",
   "metadata": {
    "application/vnd.databricks.v1+cell": {
     "cellMetadata": {},
     "inputWidgets": {},
     "nuid": "fcdcf98a-7ade-4a1b-bd78-3ec34a30f977",
     "showTitle": false,
     "tableResultSettingsMap": {},
     "title": ""
    }
   },
   "source": [
    "Allow non-deterministic expressions in UPDATE/INSERT column values for MERGE operations"
   ]
  },
  {
   "cell_type": "code",
   "execution_count": 0,
   "metadata": {
    "application/vnd.databricks.v1+cell": {
     "cellMetadata": {
      "byteLimit": 2048000,
      "rowLimit": 10000
     },
     "inputWidgets": {},
     "nuid": "15ccd9e9-c765-43f0-990a-f5b7966ad1c9",
     "showTitle": false,
     "tableResultSettingsMap": {},
     "title": ""
    }
   },
   "outputs": [],
   "source": [
    "MERGE INTO orders AS target USING archived_orders AS source\n",
    "ON target.order_id = source.order_id\n",
    "WHEN MATCHED THEN UPDATE SET target.amount = source.amount + rand()"
   ]
  }
 ],
 "metadata": {
  "application/vnd.databricks.v1+notebook": {
   "computePreferences": null,
   "dashboards": [],
   "environmentMetadata": {
    "base_environment": "",
    "environment_version": "2"
   },
   "inputWidgetPreferences": null,
   "language": "sql",
   "notebookMetadata": {
    "pythonIndentUnit": 4
   },
   "notebookName": "17",
   "widgets": {}
  },
  "language_info": {
   "name": "sql"
  }
 },
 "nbformat": 4,
 "nbformat_minor": 0
}
