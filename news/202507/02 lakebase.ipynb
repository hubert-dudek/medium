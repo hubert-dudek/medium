{
 "cells": [
  {
   "cell_type": "markdown",
   "metadata": {
    "application/vnd.databricks.v1+cell": {
     "cellMetadata": {},
     "inputWidgets": {},
     "nuid": "7601dffc-efae-4293-b862-bba931f0ce67",
     "showTitle": false,
     "tableResultSettingsMap": {},
     "title": ""
    }
   },
   "source": [
    "![oltp.png](./images/oltp.png \"oltp.png\")"
   ]
  },
  {
   "cell_type": "code",
   "execution_count": 0,
   "metadata": {
    "application/vnd.databricks.v1+cell": {
     "cellMetadata": {
      "byteLimit": 2048000,
      "rowLimit": 10000
     },
     "inputWidgets": {},
     "nuid": "0dccd506-29b5-4d50-8b5c-c1d6d67c1f3b",
     "showTitle": false,
     "tableResultSettingsMap": {},
     "title": ""
    }
   },
   "outputs": [],
   "source": [
    "%sql\n",
    "USE SCHEMA `202507`;\n",
    "\n",
    "CREATE OR REPLACE TABLE person_cdc_raw (                 -- no CDF property needed\n",
    "  person_id     BIGINT,\n",
    "  first_name    STRING,\n",
    "  last_name     STRING,\n",
    "  email         STRING,\n",
    "  phone         STRING,\n",
    "  date_of_birth DATE,\n",
    "  street        STRING,\n",
    "  city          STRING,\n",
    "  state         STRING,\n",
    "  postal_code   STRING,\n",
    "  country       STRING,\n",
    "  operation     STRING,            -- 'INSERT' | 'UPDATE' | 'DELETE'\n",
    "  sequence_num  BIGINT,            -- strictly increasing per person_id\n",
    "  record_ts     TIMESTAMP          -- event time (can differ from ingest time)\n",
    ")\n",
    "COMMENT 'Synthetic personal‑data feed with explicit CDC flags';\n",
    "\n",
    "INSERT INTO person_cdc_raw\n",
    "SELECT\n",
    "  id + 1                                                  AS person_id,           -- 1 … 100\n",
    "  element_at(array('Alice','Bob','Charlie','Diana','Eve',\n",
    "                   'Frank','Grace','Hiro','Ivy','John'),\n",
    "             INT(id % 10 + 1))                                 AS first_name,\n",
    "  element_at(array('Smith','Johnson','Williams','Brown','Jones',\n",
    "                   'Miller','Davis','Garcia','Rodriguez','Wilson'),\n",
    "             INT(id % 10 + 1))                                   AS last_name,\n",
    "  lower(element_at(array('Alice','Bob','Charlie','Diana','Eve',\n",
    "                         'Frank','Grace','Hiro','Ivy','John'),\n",
    "                   INT(id % 10 + 1)))\n",
    "    || '.' ||\n",
    "  lower(element_at(array('Smith','Johnson','Williams','Brown','Jones',\n",
    "                         'Miller','Davis','Garcia','Rodriguez','Wilson'),\n",
    "                   INT(id % 10 + 1)))\n",
    "    || (id + 1) || '@example.com'                         AS email,\n",
    "  concat('+1', lpad(cast(rand()*1e10 AS BIGINT), 10, '0')) AS phone,\n",
    "  date_add('1990-01-01', cast(rand()*12500 AS INT))       AS date_of_birth,\n",
    "  concat(100 + id, ' Main St')                            AS street,\n",
    "  'Springfield'                                           AS city,\n",
    "  'CA'                                                    AS state,\n",
    "  lpad(cast(rand()*99999 AS INT), 5, '0')                 AS postal_code,\n",
    "  'USA'                                                   AS country,\n",
    "  'INSERT'                                                AS operation,\n",
    "  1                                                       AS sequence_num,\n",
    "  current_timestamp()                                     AS record_ts\n",
    "FROM range(100);                                          -- generates 0‑99"
   ]
  },
  {
   "cell_type": "code",
   "execution_count": 0,
   "metadata": {
    "application/vnd.databricks.v1+cell": {
     "cellMetadata": {
      "byteLimit": 2048000,
      "rowLimit": 10000
     },
     "inputWidgets": {},
     "nuid": "06a4e671-9591-480d-9246-17c61e1a6d24",
     "showTitle": false,
     "tableResultSettingsMap": {},
     "title": ""
    }
   },
   "outputs": [],
   "source": [
    "ALTER TABLE `hub`.`202507`.`person_cdc_raw` SET TBLPROPERTIES (delta.enableChangeDataFeed = true)"
   ]
  }
 ],
 "metadata": {
  "application/vnd.databricks.v1+notebook": {
   "computePreferences": null,
   "dashboards": [],
   "environmentMetadata": {
    "base_environment": "",
    "environment_version": "2"
   },
   "inputWidgetPreferences": null,
   "language": "sql",
   "notebookMetadata": {
    "pythonIndentUnit": 4
   },
   "notebookName": "02 lakebase",
   "widgets": {}
  },
  "language_info": {
   "name": "sql"
  }
 },
 "nbformat": 4,
 "nbformat_minor": 0
}
