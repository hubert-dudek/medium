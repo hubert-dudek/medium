{
 "cells": [
  {
   "cell_type": "code",
   "execution_count": 0,
   "metadata": {
    "application/vnd.databricks.v1+cell": {
     "cellMetadata": {
      "byteLimit": 2048000,
      "rowLimit": 10000
     },
     "inputWidgets": {},
     "nuid": "3fdfd841-a6eb-4751-88f8-feb95b2a2f3c",
     "showTitle": false,
     "tableResultSettingsMap": {},
     "title": ""
    }
   },
   "outputs": [],
   "source": [
    "USE schema `202507`;"
   ]
  },
  {
   "cell_type": "code",
   "execution_count": 0,
   "metadata": {
    "application/vnd.databricks.v1+cell": {
     "cellMetadata": {
      "byteLimit": 2048000,
      "rowLimit": 10000
     },
     "inputWidgets": {},
     "nuid": "aeff2255-e568-4c29-b598-e3619bb81fb3",
     "showTitle": false,
     "tableResultSettingsMap": {},
     "title": ""
    }
   },
   "outputs": [],
   "source": [
    "CREATE OR REPLACE TABLE transactions (\n",
    "  tx_id            INT,\n",
    "  tx_ts            TIMESTAMP,\n",
    "  customer_id      INT,\n",
    "  transaction_type INT,     -- 1,4,5 = sale; 3,6,7 = refund\n",
    "  amount           DECIMAL(10,2)\n",
    ");\n",
    "\n",
    "INSERT INTO transactions VALUES\n",
    "  (1, '2025-05-01 09:12', 101, 1, 100.00),\n",
    "  (2, '2025-05-01 09:45', 101, 3,  30.00),\n",
    "  (3, '2025-05-02 11:05', 102, 4,  50.00),\n",
    "  (4, '2025-05-03 14:30', 103, 6,  10.00),\n",
    "  (5, '2025-05-03 15:10', 101, 5,  80.00),\n",
    "  (6, '2025-05-04 10:00', 104, 7,  40.00),\n",
    "  (7, '2025-05-04 10:01', 104, 1, 120.00),\n",
    "  (8, '2025-05-05 13:20', 105, 4,  60.00);\n"
   ]
  },
  {
   "cell_type": "code",
   "execution_count": 0,
   "metadata": {
    "application/vnd.databricks.v1+cell": {
     "cellMetadata": {
      "byteLimit": 2048000,
      "rowLimit": 10000
     },
     "inputWidgets": {},
     "nuid": "9704b9eb-7df8-4134-8ce6-28560b381012",
     "showTitle": false,
     "tableResultSettingsMap": {},
     "title": ""
    }
   },
   "outputs": [],
   "source": [
    "SELECT * FROM transactions;"
   ]
  },
  {
   "cell_type": "code",
   "execution_count": 0,
   "metadata": {
    "application/vnd.databricks.v1+cell": {
     "cellMetadata": {
      "byteLimit": 2048000,
      "rowLimit": 10000
     },
     "inputWidgets": {},
     "nuid": "76fc6189-4294-4c92-9a1c-c232e575a252",
     "showTitle": false,
     "tableResultSettingsMap": {},
     "title": ""
    }
   },
   "outputs": [],
   "source": [
    "CREATE OR REPLACE VIEW transaction_metrics\n",
    "  (tx_id,\n",
    "  tx_date,\n",
    "   tx_type,\n",
    "   sales_amount,\n",
    "   refund_amount,\n",
    "   net_sales)\n",
    "WITH METRICS\n",
    "LANGUAGE YAML\n",
    "COMMENT 'Canonical sales and refund metrics for the shop.'\n",
    "AS $$\n",
    "version: 0.1\n",
    "source: hub.`202507`.transactions\n",
    "filter: transaction_type IN (1,3,4,5,6,7)\n",
    "\n",
    "dimensions:\n",
    "\n",
    "  - name: tx_id\n",
    "    expr: tx_id\n",
    "\n",
    "  - name: tx_date\n",
    "    expr: date(tx_ts)\n",
    "\n",
    "  - name: tx_type\n",
    "    expr: CASE\n",
    "             WHEN transaction_type IN (1,4,5) THEN 'Sale'\n",
    "             WHEN transaction_type IN (3,6,7) THEN 'Refund'\n",
    "           END\n",
    "\n",
    "measures:\n",
    "  - name: sales_amount\n",
    "    expr: COALESCE(SUM(amount) FILTER (WHERE transaction_type IN (1,4,5)),0)\n",
    "\n",
    "  - name: refund_amount\n",
    "    expr: COALESCE(SUM(amount) FILTER (WHERE transaction_type IN (3,6,7)),0)\n",
    "\n",
    "  # Measures can reference earlier measures, so this stays DRY\n",
    "  - name: net_sales\n",
    "    expr: sales_amount - refund_amount\n",
    "$$;\n"
   ]
  },
  {
   "cell_type": "code",
   "execution_count": 0,
   "metadata": {
    "application/vnd.databricks.v1+cell": {
     "cellMetadata": {
      "byteLimit": 2048000,
      "rowLimit": 10000
     },
     "inputWidgets": {},
     "nuid": "34162c5b-5014-41b3-a1cd-896c3b971e46",
     "showTitle": false,
     "tableResultSettingsMap": {},
     "title": ""
    }
   },
   "outputs": [],
   "source": [
    "SELECT\n",
    "  tx_id,\n",
    "  MEASURE(net_sales)\n",
    "FROM\n",
    "  transaction_metrics\n",
    "WHERE\n",
    "  tx_type = 'Sale'\n",
    "GROUP BY\n",
    "  tx_id"
   ]
  },
  {
   "cell_type": "code",
   "execution_count": 0,
   "metadata": {
    "application/vnd.databricks.v1+cell": {
     "cellMetadata": {
      "byteLimit": 2048000,
      "rowLimit": 10000
     },
     "inputWidgets": {},
     "nuid": "40f5c8d8-2032-4a79-abfd-ade6dcb548da",
     "showTitle": false,
     "tableResultSettingsMap": {},
     "title": ""
    }
   },
   "outputs": [],
   "source": [
    "SELECT\n",
    "  tx_id,\n",
    "  MEASURE(refund_amount)\n",
    "FROM\n",
    "  transaction_metrics\n",
    "WHERE\n",
    "  tx_type = 'Refund'\n",
    "GROUP BY\n",
    "  tx_id"
   ]
  },
  {
   "cell_type": "code",
   "execution_count": 0,
   "metadata": {
    "application/vnd.databricks.v1+cell": {
     "cellMetadata": {
      "byteLimit": 2048000,
      "rowLimit": 10000
     },
     "inputWidgets": {},
     "nuid": "50ccde60-93ab-4b5f-b7d9-5822cab6936c",
     "showTitle": false,
     "tableResultSettingsMap": {},
     "title": ""
    }
   },
   "outputs": [],
   "source": [
    "SELECT\n",
    "  MEASURE(sales_amount),\n",
    "  MEASURE(refund_amount),\n",
    "  MEASURE(net_sales)\n",
    "FROM\n",
    "  transaction_metrics\n",
    "WHERE\n",
    "  tx_type = 'Sale'"
   ]
  },
  {
   "cell_type": "code",
   "execution_count": 0,
   "metadata": {
    "application/vnd.databricks.v1+cell": {
     "cellMetadata": {
      "byteLimit": 2048000,
      "rowLimit": 10000
     },
     "inputWidgets": {},
     "nuid": "b56e3174-576b-425a-9ac1-cbe4d87af9f9",
     "showTitle": false,
     "tableResultSettingsMap": {},
     "title": ""
    }
   },
   "outputs": [],
   "source": [
    "SELECT\n",
    "  MEASURE(sales_amount),\n",
    "  MEASURE(refund_amount),\n",
    "  MEASURE(net_sales)\n",
    "FROM\n",
    "  transaction_metrics"
   ]
  }
 ],
 "metadata": {
  "application/vnd.databricks.v1+notebook": {
   "computePreferences": null,
   "dashboards": [],
   "environmentMetadata": {
    "base_environment": "",
    "environment_version": "2"
   },
   "inputWidgetPreferences": null,
   "language": "sql",
   "notebookMetadata": {
    "pythonIndentUnit": 4
   },
   "notebookName": "10 metrics",
   "widgets": {}
  },
  "language_info": {
   "name": "sql"
  }
 },
 "nbformat": 4,
 "nbformat_minor": 0
}
