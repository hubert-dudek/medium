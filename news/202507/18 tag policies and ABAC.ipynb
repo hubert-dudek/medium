{
 "cells": [
  {
   "cell_type": "code",
   "execution_count": 0,
   "metadata": {
    "application/vnd.databricks.v1+cell": {
     "cellMetadata": {
      "byteLimit": 2048000,
      "rowLimit": 10000
     },
     "inputWidgets": {},
     "nuid": "d70b3508-51a3-4609-ac4a-db71d49f166f",
     "showTitle": false,
     "tableResultSettingsMap": {},
     "title": ""
    }
   },
   "outputs": [],
   "source": [
    "CREATE OR REPLACE FUNCTION `202507`.mask_str(s STRING)\n",
    "RETURNS STRING\n",
    "RETURN IF(\n",
    "          s IS NULL OR LENGTH(s) <= 1,\n",
    "          s,\n",
    "          CONCAT(LEFT(s, 1), '***', RIGHT(s, 1))\n",
    "       );"
   ]
  }
 ],
 "metadata": {
  "application/vnd.databricks.v1+notebook": {
   "computePreferences": null,
   "dashboards": [],
   "environmentMetadata": {
    "base_environment": "",
    "environment_version": "2"
   },
   "inputWidgetPreferences": null,
   "language": "sql",
   "notebookMetadata": {
    "pythonIndentUnit": 4
   },
   "notebookName": "18 tag policies and ABAC",
   "widgets": {}
  },
  "language_info": {
   "name": "sql"
  }
 },
 "nbformat": 4,
 "nbformat_minor": 0
}
