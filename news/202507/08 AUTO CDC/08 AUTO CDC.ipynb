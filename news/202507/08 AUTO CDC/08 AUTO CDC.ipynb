{
 "cells": [
  {
   "cell_type": "code",
   "execution_count": 0,
   "metadata": {
    "application/vnd.databricks.v1+cell": {
     "cellMetadata": {},
     "inputWidgets": {},
     "nuid": "af217381-d87b-462d-8e09-1338beddc426",
     "showTitle": false,
     "tableResultSettingsMap": {},
     "title": ""
    }
   },
   "outputs": [],
   "source": [
    "-- Create and populate the target table.\n",
    "CREATE OR REFRESH STREAMING TABLE person_target;\n",
    "\n",
    "CREATE FLOW target_flow\n",
    "AS AUTO CDC INTO\n",
    "  person_target\n",
    "FROM\n",
    "  stream(hub.`202507`.person_cdc_raw)\n",
    "KEYS\n",
    "  (person_id)\n",
    "APPLY AS DELETE WHEN\n",
    "  operation = \"DELETE\"\n",
    "SEQUENCE BY\n",
    "  sequence_num\n",
    "COLUMNS * EXCEPT\n",
    "  (operation, sequence_num)\n",
    "STORED AS\n",
    "  SCD TYPE 2;"
   ]
  }
 ],
 "metadata": {
  "application/vnd.databricks.v1+notebook": {
   "computePreferences": null,
   "dashboards": [],
   "environmentMetadata": {
    "base_environment": "",
    "environment_version": "2"
   },
   "inputWidgetPreferences": null,
   "language": "sql",
   "notebookMetadata": {
    "pythonIndentUnit": 4
   },
   "notebookName": "08 AUTO CDC",
   "widgets": {}
  },
  "language_info": {
   "name": "sql"
  }
 },
 "nbformat": 4,
 "nbformat_minor": 0
}
