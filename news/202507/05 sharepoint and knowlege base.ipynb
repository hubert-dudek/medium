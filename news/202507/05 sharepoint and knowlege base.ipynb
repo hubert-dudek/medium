{
 "cells": [
  {
   "cell_type": "code",
   "execution_count": 0,
   "metadata": {
    "application/vnd.databricks.v1+cell": {
     "cellMetadata": {},
     "inputWidgets": {},
     "nuid": "728434b6-088d-435e-9c5b-bd11ab010ef2",
     "showTitle": false,
     "tableResultSettingsMap": {},
     "title": ""
    }
   },
   "outputs": [],
   "source": [
    "pipeline_spec = \"\"\"\n",
    "{\n",
    " \"name\": \"<YOUR_PIPELINE_NAME>\",\n",
    " \"ingestion_definition\": {\n",
    "     \"connection_name\": \"<YOUR_CONNECTON_NAME>\",\n",
    "     \"objects\": [\n",
    "        {\n",
    "          \"schema\": {\n",
    "            \"source_schema\": \"<YOUR_SHAREPOINT_SITE_ID>\",\n",
    "            \"destination_catalog\": \"<YOUR_DATABRICKS_CATALOG>\",\n",
    "            \"destination_schema\": \"<YOUR_DATABRICKS_SCHEMA>\",\n",
    "            \"table_configuration\": {\n",
    "              \"scd_type\": \"SCD_TYPE_1\"\n",
    "            }\n",
    "          }\n",
    "        }\n",
    "      ]\n",
    " },\n",
    " \"channel\": \"PREVIEW\"\n",
    "}\n",
    "\"\"\""
   ]
  },
  {
   "cell_type": "code",
   "execution_count": 0,
   "metadata": {
    "application/vnd.databricks.v1+cell": {
     "cellMetadata": {},
     "inputWidgets": {},
     "nuid": "88f90a44-92e3-43a8-afd5-1cf215b76ce1",
     "showTitle": false,
     "tableResultSettingsMap": {},
     "title": ""
    }
   },
   "outputs": [],
   "source": [
    "%sh\n",
    "databricks pipelines create --json \"<pipeline definition or json file path>\""
   ]
  }
 ],
 "metadata": {
  "application/vnd.databricks.v1+notebook": {
   "computePreferences": null,
   "dashboards": [],
   "environmentMetadata": {
    "base_environment": "",
    "environment_version": "2"
   },
   "inputWidgetPreferences": null,
   "language": "python",
   "notebookMetadata": {
    "pythonIndentUnit": 4
   },
   "notebookName": "05 sharepoint and knowlege base",
   "widgets": {}
  },
  "language_info": {
   "name": "python"
  }
 },
 "nbformat": 4,
 "nbformat_minor": 0
}
