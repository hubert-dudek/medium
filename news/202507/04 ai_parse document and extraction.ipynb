{
 "cells": [
  {
   "cell_type": "code",
   "execution_count": 0,
   "metadata": {
    "application/vnd.databricks.v1+cell": {
     "cellMetadata": {
      "byteLimit": 2048000,
      "rowLimit": 10000
     },
     "inputWidgets": {},
     "nuid": "3aa1fbfa-3b7c-4ca0-86c9-54d422f3ae1b",
     "showTitle": false,
     "tableResultSettingsMap": {},
     "title": ""
    }
   },
   "outputs": [],
   "source": [
    "%sql\n",
    "WITH all_files AS (\n",
    "  SELECT\n",
    "    path,\n",
    "    content\n",
    "  FROM\n",
    "    READ_FILES(\"/Volumes/hub/default/invoices\", format => 'binaryFile')\n",
    ")\n",
    "-- Parse the files using ai_parse document\n",
    "SELECT\n",
    "  path,\n",
    "  ai_parse_document(content) as parsed\n",
    "FROM\n",
    "  all_files;"
   ]
  },
  {
   "cell_type": "markdown",
   "metadata": {
    "application/vnd.databricks.v1+cell": {
     "cellMetadata": {},
     "inputWidgets": {},
     "nuid": "9c3efc42-24ab-4e6f-b1cb-294bdeac07e9",
     "showTitle": false,
     "tableResultSettingsMap": {},
     "title": ""
    }
   },
   "source": [
    "plus storage optimized"
   ]
  }
 ],
 "metadata": {
  "application/vnd.databricks.v1+notebook": {
   "computePreferences": null,
   "dashboards": [],
   "environmentMetadata": {
    "base_environment": "",
    "environment_version": "2"
   },
   "inputWidgetPreferences": null,
   "language": "sql",
   "notebookMetadata": {
    "pythonIndentUnit": 4
   },
   "notebookName": "04 ai_parse document and extraction",
   "widgets": {}
  },
  "language_info": {
   "name": "sql"
  }
 },
 "nbformat": 4,
 "nbformat_minor": 0
}
