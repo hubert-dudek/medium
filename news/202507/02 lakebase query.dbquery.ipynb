{
 "cells": [
  {
   "cell_type": "code",
   "execution_count": 0,
   "metadata": {
    "application/vnd.databricks.v1+cell": {
     "cellMetadata": {
      "byteLimit": 10485760,
      "rowLimit": 1000
     },
     "inputWidgets": {},
     "nuid": "8fa13438-b789-4d6d-ae32-61baab78ec44",
     "showTitle": false,
     "tableResultSettingsMap": {},
     "title": ""
    }
   },
   "outputs": [],
   "source": [
    "SET statement_timeout = 0;\n",
    "/*------------------------------------------------------------\n",
    "  1.  Schema\n",
    "------------------------------------------------------------*/\n",
    "CREATE SCHEMA IF NOT EXISTS bench;\n",
    "SET search_path TO bench;\n",
    "\n",
    "/*------------------------------------------------------------\n",
    "  2.  Table\n",
    "------------------------------------------------------------*/\n",
    "CREATE TABLE  IF NOT EXISTS transactions (\n",
    "    txn_id       BIGSERIAL PRIMARY KEY,          -- 64‑bit monotonically‑increasing id\n",
    "    account_id   INTEGER      NOT NULL,          -- who made / received the txn\n",
    "    amount_cents INTEGER      NOT NULL,          -- amount in smallest currency unit\n",
    "    currency     CHAR(3)      NOT NULL,          -- ISO‑4217, e.g. 'USD'\n",
    "    txn_ts       TIMESTAMPTZ  NOT NULL DEFAULT now(),\n",
    "    note         TEXT\n",
    ");\n",
    "\n",
    "/*------------------------------------------------------------\n",
    "  3.  Bulk‑insert 1 000 000 rows\n",
    "      – pure SQL using generate_series()\n",
    "      – about 1–2 seconds on a typical laptop SSD\n",
    "------------------------------------------------------------*/\n",
    "/* -----------------------------------------------------------------\n",
    "   Robust 1 000 000‑row insert — currency is *never* NULL now\n",
    "   ----------------------------------------------------------------- */\n",
    "INSERT INTO bench.transactions\n",
    "        (account_id, amount_cents, currency,   txn_ts,                         note)\n",
    "SELECT  (floor(random()*100000) + 1)::int      AS account_id,          -- 1‑100 000\n",
    "        (floor(random()*199999)  - 99999)::int AS amount_cents,        -- −99 999…+99 999\n",
    "        (ARRAY['USD','EUR','GBP'])\n",
    "        [ (floor(random()*3) + 1)::int ]       AS currency,            -- always 1‑3\n",
    "        now() - (interval '1 day' * floor(random()*730)) AS txn_ts,    -- past 730 days\n",
    "        'synthetic row #' || gs                AS note\n",
    "FROM generate_series(1, 1000000) AS gs;\n",
    "-- About 1M rows inserted\n",
    "\n",
    "/*------------------------------------------------------------\n",
    "  4.  Additional indexes\n",
    "------------------------------------------------------------*/\n",
    "-- Most workloads fetch by account_id; make it a b‑tree index\n",
    "CREATE INDEX IF NOT EXISTS idx_transactions_account_id\n",
    "    ON transactions (account_id);\n",
    "\n",
    "-- Example composite index if you often query \"last N txns for one account\"\n",
    "CREATE INDEX IF NOT EXISTS idx_transactions_account_ts\n",
    "    ON transactions (account_id, txn_ts DESC);\n",
    "\n",
    "/*------------------------------------------------------------\n",
    "  5.  Quick sanity checks & timing examples\n",
    "------------------------------------------------------------*/\n",
    "\n",
    "-- Expect exactly 1 000 000 rows\n",
    "SELECT COUNT(*) FROM transactions;\n",
    "\n",
    "-- Disable seqscan so you can see the index being used\n",
    "SET enable_seqscan = off;\n",
    "\n",
    "-- Primary‑key search (fast, uses transactions_pkey)\n",
    "EXPLAIN ANALYZE\n",
    "SELECT * FROM bench.transactions WHERE txn_id = 40000;\n",
    "\n",
    "-- Account‑id search (fast, uses idx_transactions_account_id)\n",
    "EXPLAIN ANALYZE\n",
    "SELECT * FROM bench.transactions WHERE account_id = 12345 LIMIT 1;\n",
    "\n",
    "-- Restore planner defaults\n",
    "RESET enable_seqscan;\n"
   ]
  }
 ],
 "metadata": {
  "application/vnd.databricks.v1+notebook": {
   "computePreferences": null,
   "dashboards": [],
   "environmentMetadata": null,
   "inputWidgetPreferences": null,
   "language": "sql",
   "notebookMetadata": {
    "pythonIndentUnit": 4,
    "sqlQueryOptions": {
     "applyAutoLimit": true,
     "catalog": "databricks_postgres",
     "schema": "public"
    }
   },
   "notebookName": "02 lakebase query.dbquery.ipynb",
   "widgets": {}
  },
  "language_info": {
   "name": "sql"
  }
 },
 "nbformat": 4,
 "nbformat_minor": 0
}
