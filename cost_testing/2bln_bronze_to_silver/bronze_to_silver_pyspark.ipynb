{
 "cells": [
  {
   "cell_type": "code",
   "execution_count": 0,
   "metadata": {
    "application/vnd.databricks.v1+cell": {
     "cellMetadata": {
      "byteLimit": 2048000,
      "implicitDf": true,
      "rowLimit": 10000
     },
     "inputWidgets": {},
     "nuid": "a6936cc1-4e6f-40a3-bda4-0a8ab43e4448",
     "showTitle": false,
     "tableResultSettingsMap": {},
     "title": ""
    }
   },
   "outputs": [],
   "source": [
    "%sql\n",
    "CREATE TABLE IF NOT EXISTS IDENTIFIER(\"tests.\" || :schema || \".transactions\") (\n",
    "    transaction_id      BIGINT NOT NULL PRIMARY KEY,\n",
    "    transaction_date    DATE NOT NULL,\n",
    "    transaction_time    TIMESTAMP NOT NULL,\n",
    "    amount              DECIMAL(10,2),\n",
    "    amount_with_tax     DECIMAL(10,2),\n",
    "    description         STRING NOT NULL\n",
    ")\n",
    "CLUSTER BY (transaction_date)\n",
    "TBLPROPERTIES (\n",
    "    'delta.appendOnly' = true,\n",
    "    'delta.enableChangeDataFeed' = true,\n",
    "    'delta.enableRowTracking' = true\n",
    ");"
   ]
  },
  {
   "cell_type": "code",
   "execution_count": 0,
   "metadata": {
    "application/vnd.databricks.v1+cell": {
     "cellMetadata": {
      "byteLimit": 2048000,
      "rowLimit": 10000
     },
     "inputWidgets": {},
     "nuid": "7283bdcd-a05b-468e-a79c-0b6700e65e14",
     "showTitle": false,
     "tableResultSettingsMap": {},
     "title": ""
    }
   },
   "outputs": [],
   "source": [
    "from pyspark.sql.functions import expr\n",
    "schema = dbutils.widgets.get(\"schema\")\n",
    "\n",
    "# 1) Read from Bronze table (Delta) as a streaming source\n",
    "#    This will pick up new rows as they arrive in the bronze table.\n",
    "bronzeStreamDF = (\n",
    "    spark\n",
    "    .readStream\n",
    "    .format(\"delta\")\n",
    "    .table(f\"tests.bronze_source.transactions\")\n",
    "    .withColumn(\"amount_with_tax\", expr(\"amount + (amount * tax)\").cast(\"decimal(10,2)\"))\n",
    "    .drop(\"tax\")\n",
    ")"
   ]
  },
  {
   "cell_type": "code",
   "execution_count": 0,
   "metadata": {
    "application/vnd.databricks.v1+cell": {
     "cellMetadata": {
      "byteLimit": 2048000,
      "rowLimit": 10000
     },
     "inputWidgets": {},
     "nuid": "bb58c942-4bc8-4220-920f-530e9faffef0",
     "showTitle": false,
     "tableResultSettingsMap": {},
     "title": ""
    }
   },
   "outputs": [],
   "source": [
    "#dbutils.fs.rm(f\"/Volumes/tests/{schema}/checkpoints\", True)"
   ]
  },
  {
   "cell_type": "code",
   "execution_count": 0,
   "metadata": {
    "application/vnd.databricks.v1+cell": {
     "cellMetadata": {
      "byteLimit": 2048000,
      "rowLimit": 10000
     },
     "inputWidgets": {},
     "nuid": "c5891f5f-1586-439a-bc0f-f517d98c5312",
     "showTitle": false,
     "tableResultSettingsMap": {},
     "title": ""
    }
   },
   "outputs": [],
   "source": [
    "# 2) Write the streaming data to the Silver table in append mode\n",
    "silverStream = (\n",
    "    bronzeStreamDF\n",
    "    .writeStream\n",
    "    .outputMode(\"append\")\n",
    "    .option(\"checkpointLocation\", f\"/Volumes/tests/{schema}/checkpoints\")\n",
    "    .trigger(availableNow=True)\n",
    "    .toTable(f\"tests.{schema}.transactions\")\n",
    ")"
   ]
  }
 ],
 "metadata": {
  "application/vnd.databricks.v1+notebook": {
   "computePreferences": null,
   "dashboards": [],
   "environmentMetadata": {
    "base_environment": "",
    "environment_version": "2"
   },
   "inputWidgetPreferences": null,
   "language": "python",
   "notebookMetadata": {
    "mostRecentlyExecutedCommandWithImplicitDF": {
     "commandId": 6594096977602573,
     "dataframes": [
      "_sqldf"
     ]
    },
    "pythonIndentUnit": 4
   },
   "notebookName": "bronze_to_silver_pyspark",
   "widgets": {
    "schema": {
     "currentValue": "pyspark_standard",
     "nuid": "b1279b97-d3e5-4b79-aa8f-0225f42c59d7",
     "typedWidgetInfo": {
      "autoCreated": false,
      "defaultValue": "",
      "label": "",
      "name": "schema",
      "options": {
       "widgetDisplayType": "Text",
       "validationRegex": null
      },
      "parameterDataType": "String"
     },
     "widgetInfo": {
      "widgetType": "text",
      "defaultValue": "",
      "label": "",
      "name": "schema",
      "options": {
       "widgetType": "text",
       "autoCreated": false,
       "validationRegex": null
      }
     }
    }
   }
  },
  "language_info": {
   "name": "python"
  }
 },
 "nbformat": 4,
 "nbformat_minor": 0
}
