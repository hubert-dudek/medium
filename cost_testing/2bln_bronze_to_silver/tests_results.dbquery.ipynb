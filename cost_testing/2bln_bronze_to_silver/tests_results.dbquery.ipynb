{
 "cells": [
  {
   "cell_type": "code",
   "execution_count": 0,
   "metadata": {
    "application/vnd.databricks.v1+cell": {
     "cellMetadata": {
      "byteLimit": 10485760,
      "rowLimit": 1000
     },
     "inputWidgets": {},
     "nuid": "a934815f-5339-4c69-bb01-f45fb2004dec",
     "showTitle": false,
     "tableResultSettingsMap": {},
     "title": ""
    }
   },
   "outputs": [
    {
     "output_type": "display_data",
     "data": {
      "text/plain": [
       "Databricks visualization. Run in Databricks to view."
      ]
     },
     "metadata": {
      "application/vnd.databricks.v1.subcommand+json": {
       "baseErrorDetails": null,
       "bindings": {},
       "collapsed": false,
       "command": "%sql WITH q AS (with CTE AS (\n  SELECT\n    u.custom_tags,\n    SUM(u.usage_quantity * p.pricing.default) AS total\n  FROM\n    system.billing.usage u\n      RIGHT JOIN system.billing.list_prices p\n        ON u.sku_name = p.sku_name\n        AND (\n          (u.usage_start_time BETWEEN p.price_start_time AND p.price_end_time)\n          OR (\n            (u.usage_start_time > p.price_start_time)\n            AND (p.price_end_time IS NULL)\n          )\n        )\n  WHERE\n    map_contains_key(u.custom_tags, 'tests')\n  GROUP BY\n    u.custom_tags\n  ORDER BY\n    total ASC\n)\nSELECT\n  concat_ws(': ', row_number() OVER (ORDER BY total ASC), custom_tags['tests']) as rank,\n  total\nFROM\n  CTE) SELECT `rank`,SUM(`total`) `column_b94101cd65` FROM q GROUP BY `rank`",
       "commandTitle": "result",
       "commandType": "auto",
       "commandVersion": 0,
       "commentThread": [],
       "commentsVisible": false,
       "contentSha256Hex": "e3b0c44298fc1c149afbf4c8996fb92427ae41e4649b934ca495991b7852b855",
       "customPlotOptions": {
        "redashChart": [
         {
          "key": "type",
          "value": "CHART"
         },
         {
          "key": "options",
          "value": {
           "alignYAxesAtZero": true,
           "coefficient": 1,
           "columnConfigurationMap": {
            "x": {
             "column": "rank",
             "id": "column_b94101cd64"
            },
            "y": [
             {
              "column": "total",
              "id": "column_b94101cd65",
              "transform": "SUM"
             }
            ]
           },
           "dateTimeFormat": "DD/MM/YYYY HH:mm",
           "direction": {
            "type": "counterclockwise"
           },
           "error_y": {
            "type": "data",
            "visible": true
           },
           "globalSeriesType": "column",
           "isAggregationOn": true,
           "legend": {
            "traceorder": "normal"
           },
           "missingValuesAsZero": true,
           "numberFormat": "0,0.[00000]",
           "percentFormat": "0[.]00%",
           "series": {
            "error_y": {
             "type": "data",
             "visible": true
            },
            "stacking": null
           },
           "seriesOptions": {
            "column_b94101cd65": {
             "color": "#FF3621",
             "name": "total",
             "yAxis": 0
            }
           },
           "showDataLabels": false,
           "sizemode": "diameter",
           "sortX": true,
           "sortY": true,
           "swappedAxes": true,
           "textFormat": "",
           "useAggregationsUi": true,
           "valuesOptions": {},
           "version": 2,
           "xAxis": {
            "labels": {
             "enabled": true
            },
            "type": "-"
           },
           "yAxis": [
            {
             "type": "-"
            },
            {
             "opposite": true,
             "type": "-"
            }
           ]
          }
         }
        ]
       },
       "datasetPreviewNameToCmdIdMap": {},
       "diffDeletes": [],
       "diffInserts": [],
       "displayType": "redashChart",
       "error": null,
       "errorDetails": null,
       "errorSummary": null,
       "errorTraceType": null,
       "finishTime": 0,
       "globalVars": {},
       "guid": "",
       "height": "auto",
       "hideCommandCode": false,
       "hideCommandResult": false,
       "iPythonMetadata": null,
       "inputWidgets": {},
       "isLockedInExamMode": false,
       "latestUser": "a user",
       "latestUserId": null,
       "listResultMetadata": null,
       "metadata": {},
       "nuid": "4b6a2684-263d-4e97-8b80-b23acbf1fd08",
       "origId": 0,
       "parentHierarchy": [],
       "pivotAggregation": null,
       "pivotColumns": null,
       "position": 2.0,
       "resultDbfsErrorMessage": null,
       "resultDbfsStatus": "INLINED_IN_TREE",
       "results": null,
       "showCommandTitle": false,
       "startTime": 0,
       "state": "input",
       "streamStates": {},
       "subcommandOptions": {
        "queryPlan": {
         "groups": [
          {
           "column": "rank",
           "type": "column"
          }
         ],
         "selects": [
          {
           "column": "rank",
           "type": "column"
          },
          {
           "alias": "column_b94101cd65",
           "args": [
            {
             "column": "total",
             "type": "column"
            }
           ],
           "function": "SUM",
           "type": "function"
          }
         ]
        },
        "redashId": "ea6659ef-38ef-4b2c-bd93-5d675fc6cb9d",
        "redashLastUpdated": 1745775565000
       },
       "submitTime": 0,
       "subtype": "tableResultSubCmd.visualization",
       "tableResultIndex": 0,
       "tableResultSettingsMap": {},
       "useConsistentColors": false,
       "version": "CommandV1",
       "width": "auto",
       "workflows": null,
       "xColumns": null,
       "yColumns": null
      }
     },
     "output_type": "display_data"
    }
   ],
   "source": [
    "with CTE AS (\n",
    "  SELECT\n",
    "    u.custom_tags,\n",
    "    SUM(u.usage_quantity * p.pricing.default) AS total\n",
    "  FROM\n",
    "    system.billing.usage u\n",
    "      RIGHT JOIN system.billing.list_prices p\n",
    "        ON u.sku_name = p.sku_name\n",
    "        AND (\n",
    "          (u.usage_start_time BETWEEN p.price_start_time AND p.price_end_time)\n",
    "          OR (\n",
    "            (u.usage_start_time > p.price_start_time)\n",
    "            AND (p.price_end_time IS NULL)\n",
    "          )\n",
    "        )\n",
    "  WHERE\n",
    "      (map_contains_key(u.custom_tags, 'tests') OR map_contains_key(u.custom_tags, 'test')) AND\n",
    "    (u.usage_start_time BETWEEN timestamp'2025-04-27T21:40:00' AND timestamp'2025-04-28T06:00:00') -- test period\n",
    "  GROUP BY\n",
    "    u.custom_tags\n",
    "  ORDER BY\n",
    "    total ASC\n",
    ")\n",
    "SELECT\n",
    "  concat_ws(': ', row_number() OVER (ORDER BY total ASC), coalesce(custom_tags['tests'], custom_tags['test'])) as rank,\n",
    "  total\n",
    "FROM\n",
    "  CTE"
   ]
  }
 ],
 "metadata": {
  "application/vnd.databricks.v1+notebook": {
   "computePreferences": null,
   "dashboards": [],
   "environmentMetadata": null,
   "inputWidgetPreferences": null,
   "language": "sql",
   "notebookMetadata": {
    "pythonIndentUnit": 4,
    "sqlQueryOptions": {
     "applyAutoLimit": true,
     "catalog": "main",
     "schema": "_data_classification"
    }
   },
   "notebookName": "tests_results.dbquery.ipynb",
   "widgets": {}
  },
  "language_info": {
   "name": "sql"
  }
 },
 "nbformat": 4,
 "nbformat_minor": 0
}
