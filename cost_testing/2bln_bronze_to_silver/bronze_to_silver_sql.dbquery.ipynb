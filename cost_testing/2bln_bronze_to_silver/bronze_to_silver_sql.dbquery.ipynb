{
 "cells": [
  {
   "cell_type": "code",
   "execution_count": 0,
   "metadata": {
    "application/vnd.databricks.v1+cell": {
     "cellMetadata": {
      "byteLimit": 10485760,
      "rowLimit": 64000
     },
     "inputWidgets": {},
     "nuid": "aea55cf8-9163-4c9d-a367-ccf5314a9e8b",
     "showTitle": false,
     "tableResultSettingsMap": {},
     "title": ""
    }
   },
   "outputs": [],
   "source": [
    "CREATE OR REFRESH STREAMING TABLE IDENTIFIER(\"tests.\" || :schema || \".transactions2\") (\n",
    "    transaction_id      BIGINT        NOT NULL,\n",
    "    transaction_date    DATE          NOT NULL,\n",
    "    transaction_time    TIMESTAMP     NOT NULL,\n",
    "    amount              DECIMAL(10,2),\n",
    "    amount_with_tax     DECIMAL(10,2),\n",
    "    description         STRING        NOT NULL,\n",
    "    CONSTRAINT pk_id PRIMARY KEY (transaction_id)\n",
    ")\n",
    "TBLPROPERTIES (\n",
    "    'delta.appendOnly' = true,\n",
    "    'delta.enableChangeDataFeed' = true,\n",
    "    'delta.enableRowTracking' = true\n",
    ")\n",
    "CLUSTER BY (transaction_date)\n",
    "AS\n",
    "SELECT\n",
    "    transaction_id,\n",
    "    transaction_date,\n",
    "    transaction_time,\n",
    "    amount,\n",
    "    (amount + (amount * tax))::decimal(10,2) AS amount_with_tax,\n",
    "    description\n",
    "FROM STREAM(tests.bronze_source.transactions);\n"
   ]
  }
 ],
 "metadata": {
  "application/vnd.databricks.v1+notebook": {
   "computePreferences": null,
   "dashboards": [],
   "environmentMetadata": null,
   "inputWidgetPreferences": null,
   "language": "sql",
   "notebookMetadata": {
    "pythonIndentUnit": 4,
    "sqlQueryOptions": {
     "applyAutoLimit": false,
     "catalog": "tests",
     "schema": "bronze_source"
    }
   },
   "notebookName": "bronze_to_silver_sql.dbquery.ipynb",
   "widgets": {
    "schema": {
     "currentValue": "silver_sql_xxs",
     "nuid": "98f565ea-8cdf-4e8e-aadd-2f4b1ff3f4d0",
     "typedWidgetInfo": {
      "autoCreated": false,
      "defaultValue": "silver_sql_xxs",
      "label": "",
      "name": "schema",
      "options": {
       "widgetDisplayType": "Text",
       "validationRegex": null
      },
      "parameterDataType": "String"
     },
     "widgetInfo": {
      "widgetType": "text",
      "defaultValue": "silver_sql_xxs",
      "label": "",
      "name": "schema",
      "options": {
       "widgetType": "text",
       "autoCreated": false,
       "validationRegex": null
      }
     }
    }
   }
  },
  "language_info": {
   "name": "sql"
  }
 },
 "nbformat": 4,
 "nbformat_minor": 0
}
