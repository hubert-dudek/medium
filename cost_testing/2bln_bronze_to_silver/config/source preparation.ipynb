{
 "cells": [
  {
   "cell_type": "code",
   "execution_count": 0,
   "metadata": {
    "application/vnd.databricks.v1+cell": {
     "cellMetadata": {
      "byteLimit": 2048000,
      "rowLimit": 10000
     },
     "inputWidgets": {},
     "nuid": "3b9969a9-cb10-4d70-8ce6-0ee399382c13",
     "showTitle": false,
     "tableResultSettingsMap": {},
     "title": ""
    }
   },
   "outputs": [],
   "source": [
    "sample_size = dbutils.widgets.get(\"sample_size\")\n",
    "num_records = int(float(sample_size))"
   ]
  },
  {
   "cell_type": "code",
   "execution_count": 0,
   "metadata": {
    "application/vnd.databricks.v1+cell": {
     "cellMetadata": {
      "byteLimit": 2048000,
      "rowLimit": 10000
     },
     "inputWidgets": {},
     "nuid": "da62b606-a9a2-4b65-b19b-312b1d59c8b2",
     "showTitle": false,
     "tableResultSettingsMap": {},
     "title": ""
    }
   },
   "outputs": [],
   "source": [
    "spark.sql(f\"\"\"CREATE TABLE IF NOT EXISTS tests.bronze_source.transactions_{sample_size} (\n",
    "    transaction_id      BIGINT GENERATED ALWAYS AS IDENTITY NOT NULL PRIMARY KEY,\n",
    "    transaction_date    DATE GENERATED ALWAYS AS (CAST(DATE(transaction_time) AS DATE)) NOT NULL,\n",
    "    transaction_time    TIMESTAMP NOT NULL,\n",
    "    amount              DECIMAL(10,2),\n",
    "    tax                 DECIMAL(3,2),\n",
    "    description         STRING NOT NULL\n",
    ")\n",
    "TBLPROPERTIES (\n",
    "    'delta.appendOnly' = true,\n",
    "    'delta.enableChangeDataFeed' = true,\n",
    "    'delta.enableRowTracking' = true\n",
    ");\"\"\")\n"
   ]
  },
  {
   "cell_type": "code",
   "execution_count": 0,
   "metadata": {
    "application/vnd.databricks.v1+cell": {
     "cellMetadata": {
      "byteLimit": 2048000,
      "rowLimit": 10000
     },
     "inputWidgets": {},
     "nuid": "ae21b347-d262-47da-80ac-eda874b1c1ec",
     "showTitle": false,
     "tableResultSettingsMap": {},
     "title": ""
    }
   },
   "outputs": [],
   "source": [
    "from pyspark.sql.functions import (\n",
    "    col, rand, round, current_date, date_sub, expr, lit, md5, concat\n",
    ")\n",
    "\n",
    "# Generate a range dataframe [0..(num_records - 1)]\n",
    "df = spark.range(num_records)\n",
    "\n",
    "df = (\n",
    "    df\n",
    "      .withColumn(\n",
    "          \"transaction_time\",\n",
    "          expr(\"\"\"\n",
    "            make_timestamp(\n",
    "              year(date_sub(current_date(),1)),\n",
    "              month(date_sub(current_date(),1)),\n",
    "              day(date_sub(current_date(),CAST(FLOOR(RAND() * 10) + 1 AS INT))),\n",
    "              cast(rand() * 24 as int),  -- hour: 0-23\n",
    "              cast(rand() * 60 as int),  -- minute: 0-59\n",
    "              cast(rand() * 60 as int)   -- second: 0-59\n",
    "            )\n",
    "          \"\"\")\n",
    "      )\n",
    "      .withColumn(\"random_num\", round(rand() * 1000, 2)) \n",
    "      .withColumn(\"amount\", col(\"random_num\").cast(\"decimal(10,2)\"))\n",
    "      .withColumn(\"tax\", lit(0.05).cast(\"decimal(3,2)\"))\n",
    "      .withColumn(\"description\", md5(concat(col(\"random_num\"))))\n",
    "      .drop(\"id\", \"random_num\")\n",
    ")\n",
    "\n",
    "df.write.mode(\"append\").saveAsTable(f\"tests.bronze_source.transactions_{sample_size}\")"
   ]
  },
  {
   "cell_type": "code",
   "execution_count": 0,
   "metadata": {
    "application/vnd.databricks.v1+cell": {
     "cellMetadata": {
      "byteLimit": 2048000,
      "rowLimit": 10000
     },
     "inputWidgets": {},
     "nuid": "7eddd77f-844a-42e3-a7b1-fcb8670541d0",
     "showTitle": false,
     "tableResultSettingsMap": {},
     "title": ""
    }
   },
   "outputs": [],
   "source": [
    "spark.sql(f\"OPTIMIZE tests.bronze_source.transactions_{sample_size}\")"
   ]
  }
 ],
 "metadata": {
  "application/vnd.databricks.v1+notebook": {
   "computePreferences": {
    "hardware": {
     "accelerator": null,
     "gpuPoolId": null,
     "memory": null
    }
   },
   "dashboards": [],
   "environmentMetadata": {
    "base_environment": "",
    "environment_version": "4"
   },
   "inputWidgetPreferences": null,
   "language": "python",
   "notebookMetadata": {
    "pythonIndentUnit": 4
   },
   "notebookName": "source preparation",
   "widgets": {
    "sample_size": {
     "currentValue": "2e9",
     "nuid": "0ce356da-849d-4a18-9e02-ec30cf06c00c",
     "typedWidgetInfo": {
      "autoCreated": false,
      "defaultValue": "2e9",
      "label": "Sample Size",
      "name": "sample_size",
      "options": {
       "widgetDisplayType": "Text",
       "validationRegex": null
      },
      "parameterDataType": "String"
     },
     "widgetInfo": {
      "widgetType": "text",
      "defaultValue": "2e9",
      "label": "Sample Size",
      "name": "sample_size",
      "options": {
       "widgetType": "text",
       "autoCreated": false,
       "validationRegex": null
      }
     }
    }
   }
  },
  "language_info": {
   "name": "python"
  }
 },
 "nbformat": 4,
 "nbformat_minor": 0
}
