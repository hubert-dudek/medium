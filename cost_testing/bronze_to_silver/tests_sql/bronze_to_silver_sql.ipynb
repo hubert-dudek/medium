{
 "cells": [
  {
   "cell_type": "code",
   "execution_count": 0,
   "metadata": {
    "application/vnd.databricks.v1+cell": {
     "cellMetadata": {},
     "inputWidgets": {},
     "nuid": "d799d5aa-6a34-4d6d-b31c-ca7b4a36c8fe",
     "showTitle": false,
     "tableResultSettingsMap": {},
     "title": ""
    }
   },
   "outputs": [],
   "source": [
    "CREATE OR REFRESH STREAMING TABLE IDENTIFIER(\"tests.\" || :schema || \".transactions2\") (\n",
    "    transaction_id      BIGINT        NOT NULL,\n",
    "    transaction_date    DATE          NOT NULL,\n",
    "    transaction_time    TIMESTAMP     NOT NULL,\n",
    "    amount              DECIMAL(10,2),\n",
    "    amount_with_tax     DECIMAL(10,2),\n",
    "    description         STRING        NOT NULL,\n",
    "    CONSTRAINT pk_id PRIMARY KEY (transaction_id)\n",
    ")\n",
    "TBLPROPERTIES (\n",
    "    'delta.appendOnly' = true,\n",
    "    'delta.enableChangeDataFeed' = true,\n",
    "    'delta.enableRowTracking' = true\n",
    ")\n",
    "CLUSTER BY (transaction_date)\n",
    "AS\n",
    "SELECT\n",
    "    transaction_id,\n",
    "    transaction_date,\n",
    "    transaction_time,\n",
    "    amount,\n",
    "    (amount + (amount * tax))::decimal(10,2) AS amount_with_tax,\n",
    "    description\n",
    "FROM STREAM(\"tests.bronze_source.transactions_\" || :sample_size);\n"
   ]
  }
 ],
 "metadata": {
  "application/vnd.databricks.v1+notebook": {
   "computePreferences": null,
   "dashboards": [],
   "environmentMetadata": {
    "base_environment": "",
    "environment_version": "2"
   },
   "inputWidgetPreferences": null,
   "language": "sql",
   "notebookMetadata": {
    "pythonIndentUnit": 4
   },
   "notebookName": "bronze_to_silver_sql",
   "widgets": {}
  },
  "language_info": {
   "name": "sql"
  }
 },
 "nbformat": 4,
 "nbformat_minor": 0
}
