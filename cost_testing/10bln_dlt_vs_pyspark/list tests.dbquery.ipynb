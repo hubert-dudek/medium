{
 "cells": [
  {
   "cell_type": "code",
   "execution_count": 0,
   "metadata": {
    "application/vnd.databricks.v1+cell": {
     "cellMetadata": {
      "byteLimit": 10485760,
      "rowLimit": 1000
     },
     "inputWidgets": {},
     "nuid": "76c838ce-8fb5-4ca8-83a5-c8b4f3fcb6a7",
     "showTitle": false,
     "tableResultSettingsMap": {},
     "title": ""
    }
   },
   "outputs": [],
   "source": [
    "SELECT\n",
    "  *\n",
    "FROM\n",
    "  system.billing.usage u\n",
    "WHERE\n",
    "  (map_contains_key(u.custom_tags, 'tests') OR map_contains_key(u.custom_tags, 'test'))\n",
    "  AND u.usage_start_time >= timestamp'2025-04-27T21:40:00.000+00:00'\n",
    "ORDER BY u.usage_end_time DESC"
   ]
  }
 ],
 "metadata": {
  "application/vnd.databricks.v1+notebook": {
   "computePreferences": null,
   "dashboards": [],
   "environmentMetadata": null,
   "inputWidgetPreferences": null,
   "language": "sql",
   "notebookMetadata": {
    "pythonIndentUnit": 4,
    "sqlQueryOptions": {
     "applyAutoLimit": true,
     "catalog": "main",
     "schema": "_data_classification"
    }
   },
   "notebookName": "list tests.dbquery.ipynb",
   "widgets": {}
  },
  "language_info": {
   "name": "sql"
  }
 },
 "nbformat": 4,
 "nbformat_minor": 0
}
