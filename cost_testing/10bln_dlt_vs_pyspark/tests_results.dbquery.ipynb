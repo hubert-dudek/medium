{
 "cells": [
  {
   "cell_type": "code",
   "execution_count": 0,
   "metadata": {
    "application/vnd.databricks.v1+cell": {
     "cellMetadata": {
      "byteLimit": 10485760,
      "rowLimit": 1000
     },
     "inputWidgets": {},
     "nuid": "a934815f-5339-4c69-bb01-f45fb2004dec",
     "showTitle": false,
     "tableResultSettingsMap": {},
     "title": ""
    }
   },
   "outputs": [],
   "source": [
    "with CTE AS (\n",
    "  SELECT\n",
    "    u.custom_tags,\n",
    "    SUM(u.usage_quantity * p.pricing.default) AS total\n",
    "  FROM\n",
    "    system.billing.usage u\n",
    "      RIGHT JOIN system.billing.list_prices p\n",
    "        ON u.sku_name = p.sku_name\n",
    "        AND (\n",
    "          (u.usage_start_time BETWEEN p.price_start_time AND p.price_end_time)\n",
    "          OR (\n",
    "            (u.usage_start_time > p.price_start_time)\n",
    "            AND (p.price_end_time IS NULL)\n",
    "          )\n",
    "        )\n",
    "  WHERE\n",
    "      (map_contains_key(u.custom_tags, 'tests') OR map_contains_key(u.custom_tags, 'test')) AND\n",
    "    (u.usage_start_time BETWEEN timestamp'2025-04-27T21:40:00' AND timestamp'2025-04-28T06:00:00') -- test period\n",
    "  GROUP BY\n",
    "    u.custom_tags\n",
    "  ORDER BY\n",
    "    total ASC\n",
    ")\n",
    "SELECT\n",
    "  concat_ws(': ', row_number() OVER (ORDER BY total ASC), coalesce(custom_tags['tests'], custom_tags['test'])) as rank,\n",
    "  total\n",
    "FROM\n",
    "  CTE"
   ]
  }
 ],
 "metadata": {
  "application/vnd.databricks.v1+notebook": {
   "computePreferences": null,
   "dashboards": [],
   "environmentMetadata": null,
   "inputWidgetPreferences": null,
   "language": "sql",
   "notebookMetadata": {
    "pythonIndentUnit": 4,
    "sqlQueryOptions": {
     "applyAutoLimit": true,
     "catalog": "main",
     "schema": "_data_classification"
    }
   },
   "notebookName": "tests_results.dbquery.ipynb",
   "widgets": {}
  },
  "language_info": {
   "name": "sql"
  }
 },
 "nbformat": 4,
 "nbformat_minor": 0
}
